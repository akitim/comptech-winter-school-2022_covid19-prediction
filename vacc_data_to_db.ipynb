{
  "nbformat": 4,
  "nbformat_minor": 0,
  "metadata": {
    "colab": {
      "name": "vacc_data_to_db.ipynb",
      "provenance": [],
      "authorship_tag": "ABX9TyMWDB0KBVqwridI63Kze6vk",
      "include_colab_link": true
    },
    "kernelspec": {
      "name": "python3",
      "display_name": "Python 3"
    },
    "language_info": {
      "name": "python"
    }
  },
  "cells": [
    {
      "cell_type": "markdown",
      "metadata": {
        "id": "view-in-github",
        "colab_type": "text"
      },
      "source": [
        "<a href=\"https://colab.research.google.com/github/akitim/comptech-winter-school-2022_covid19-prediction/blob/main/vacc_data_to_db.ipynb\" target=\"_parent\"><img src=\"https://colab.research.google.com/assets/colab-badge.svg\" alt=\"Open In Colab\"/></a>"
      ]
    },
    {
      "cell_type": "code",
      "execution_count": 86,
      "metadata": {
        "id": "DXetF5kR2u8M"
      },
      "outputs": [],
      "source": [
        "import pandas as pd\n",
        "# from sqlalchemy import create_engine\n",
        "# from envparse import env\n",
        "\n",
        "# env.read_envfile()\n",
        "\n",
        "# engine = create_engine(env(\"DB\"))\n",
        "!mkdir tmp\n",
        "df = pd.read_csv(\"https://covid.ourworldindata.org/data/owid-covid-data.csv\")\n",
        "\n",
        "loc_to_drop = ['World', 'High income', 'European Union',\n",
        "               'Europe', 'Upper middle income',\n",
        "               'Asia', 'Lower middle income', 'Low income']\n",
        "# data=\\\n",
        "(df\n",
        " .drop(['iso_code', 'continent'], axis=1)\n",
        " .drop(df.loc[df['location'].isin(loc_to_drop), :].index, axis=0)\n",
        "#  .to_sql(\"vaccination\", con=engine, index=False, if_exists=\"replace\")\n",
        " .to_csv('tmp/vacc_data.csv', index=False)\n",
        ")\n"
      ]
    },
    {
      "cell_type": "code",
      "source": [
        "data.info()"
      ],
      "metadata": {
        "colab": {
          "base_uri": "https://localhost:8080/"
        },
        "id": "CC_Ftv7Wf0jJ",
        "outputId": "6d2d80ae-447c-48a3-e8d2-2ccf3c7e2b85"
      },
      "execution_count": 78,
      "outputs": [
        {
          "output_type": "stream",
          "name": "stdout",
          "text": [
            "<class 'pandas.core.frame.DataFrame'>\n",
            "Int64Index: 152736 entries, 0 to 158629\n",
            "Data columns (total 65 columns):\n",
            " #   Column                                      Non-Null Count   Dtype  \n",
            "---  ------                                      --------------   -----  \n",
            " 0   location                                    152736 non-null  object \n",
            " 1   date                                        152736 non-null  object \n",
            " 2   total_cases                                 149876 non-null  float64\n",
            " 3   new_cases                                   149831 non-null  float64\n",
            " 4   new_cases_smoothed                          148728 non-null  float64\n",
            " 5   total_deaths                                132436 non-null  float64\n",
            " 6   new_deaths                                  132516 non-null  float64\n",
            " 7   new_deaths_smoothed                         132434 non-null  float64\n",
            " 8   total_cases_per_million                     149151 non-null  float64\n",
            " 9   new_cases_per_million                       149106 non-null  float64\n",
            " 10  new_cases_smoothed_per_million              148008 non-null  float64\n",
            " 11  total_deaths_per_million                    131724 non-null  float64\n",
            " 12  new_deaths_per_million                      131804 non-null  float64\n",
            " 13  new_deaths_smoothed_per_million             131722 non-null  float64\n",
            " 14  reproduction_rate                           119043 non-null  float64\n",
            " 15  icu_patients                                22054 non-null   float64\n",
            " 16  icu_patients_per_million                    22054 non-null   float64\n",
            " 17  hosp_patients                               22759 non-null   float64\n",
            " 18  hosp_patients_per_million                   22759 non-null   float64\n",
            " 19  weekly_icu_admissions                       5080 non-null    float64\n",
            " 20  weekly_icu_admissions_per_million           5080 non-null    float64\n",
            " 21  weekly_hosp_admissions                      10294 non-null   float64\n",
            " 22  weekly_hosp_admissions_per_million          10294 non-null   float64\n",
            " 23  new_tests                                   65298 non-null   float64\n",
            " 24  total_tests                                 66416 non-null   float64\n",
            " 25  total_tests_per_thousand                    66416 non-null   float64\n",
            " 26  new_tests_per_thousand                      65298 non-null   float64\n",
            " 27  new_tests_smoothed                          80186 non-null   float64\n",
            " 28  new_tests_smoothed_per_thousand             80186 non-null   float64\n",
            " 29  positive_rate                               76019 non-null   float64\n",
            " 30  tests_per_case                              75262 non-null   float64\n",
            " 31  tests_units                                 82392 non-null   object \n",
            " 32  total_vaccinations                          38887 non-null   float64\n",
            " 33  people_vaccinated                           36898 non-null   float64\n",
            " 34  people_fully_vaccinated                     34087 non-null   float64\n",
            " 35  total_boosters                              12104 non-null   float64\n",
            " 36  new_vaccinations                            31782 non-null   float64\n",
            " 37  new_vaccinations_smoothed                   73898 non-null   float64\n",
            " 38  total_vaccinations_per_hundred              38887 non-null   float64\n",
            " 39  people_vaccinated_per_hundred               36898 non-null   float64\n",
            " 40  people_fully_vaccinated_per_hundred         34087 non-null   float64\n",
            " 41  total_boosters_per_hundred                  12104 non-null   float64\n",
            " 42  new_vaccinations_smoothed_per_million       73898 non-null   float64\n",
            " 43  new_people_vaccinated_smoothed              72864 non-null   float64\n",
            " 44  new_people_vaccinated_smoothed_per_hundred  72864 non-null   float64\n",
            " 45  stringency_index                            124630 non-null  float64\n",
            " 46  population                                  151694 non-null  float64\n",
            " 47  population_density                          140463 non-null  float64\n",
            " 48  median_age                                  130856 non-null  float64\n",
            " 49  aged_65_older                               129428 non-null  float64\n",
            " 50  aged_70_older                               130150 non-null  float64\n",
            " 51  gdp_per_capita                              131468 non-null  float64\n",
            " 52  extreme_poverty                             86385 non-null   float64\n",
            " 53  cardiovasc_death_rate                       129836 non-null  float64\n",
            " 54  diabetes_prevalence                         136677 non-null  float64\n",
            " 55  female_smokers                              100527 non-null  float64\n",
            " 56  male_smokers                                99073 non-null   float64\n",
            " 57  handwashing_facilities                      64666 non-null   float64\n",
            " 58  hospital_beds_per_thousand                  117349 non-null  float64\n",
            " 59  life_expectancy                             147326 non-null  float64\n",
            " 60  human_development_index                     129311 non-null  float64\n",
            " 61  excess_mortality_cumulative_absolute        5460 non-null    float64\n",
            " 62  excess_mortality_cumulative                 5460 non-null    float64\n",
            " 63  excess_mortality                            5460 non-null    float64\n",
            " 64  excess_mortality_cumulative_per_million     5460 non-null    float64\n",
            "dtypes: float64(62), object(3)\n",
            "memory usage: 76.9+ MB\n"
          ]
        }
      ]
    },
    {
      "cell_type": "code",
      "source": [
        "data['tests_units'].unique()"
      ],
      "metadata": {
        "colab": {
          "base_uri": "https://localhost:8080/"
        },
        "id": "rtH9SjlHgK8x",
        "outputId": "602d66e4-634b-46f0-f6b8-dc6e2d8be7e9"
      },
      "execution_count": 69,
      "outputs": [
        {
          "output_type": "execute_result",
          "data": {
            "text/plain": [
              "array([nan, 'tests performed', 'people tested', 'units unclear',\n",
              "       'samples tested'], dtype=object)"
            ]
          },
          "metadata": {},
          "execution_count": 69
        }
      ]
    },
    {
      "cell_type": "code",
      "source": [
        "set(('').join(data['location'].unique()))"
      ],
      "metadata": {
        "colab": {
          "base_uri": "https://localhost:8080/"
        },
        "id": "RV9bEK-igavI",
        "outputId": "2a4e5b0a-7817-482f-bb78-060eaa36b8fe"
      },
      "execution_count": 77,
      "outputs": [
        {
          "output_type": "execute_result",
          "data": {
            "text/plain": [
              "{' ',\n",
              " \"'\",\n",
              " '(',\n",
              " ')',\n",
              " '-',\n",
              " 'A',\n",
              " 'B',\n",
              " 'C',\n",
              " 'D',\n",
              " 'E',\n",
              " 'F',\n",
              " 'G',\n",
              " 'H',\n",
              " 'I',\n",
              " 'J',\n",
              " 'K',\n",
              " 'L',\n",
              " 'M',\n",
              " 'N',\n",
              " 'O',\n",
              " 'P',\n",
              " 'Q',\n",
              " 'R',\n",
              " 'S',\n",
              " 'T',\n",
              " 'U',\n",
              " 'V',\n",
              " 'W',\n",
              " 'Y',\n",
              " 'Z',\n",
              " 'a',\n",
              " 'b',\n",
              " 'c',\n",
              " 'd',\n",
              " 'e',\n",
              " 'f',\n",
              " 'g',\n",
              " 'h',\n",
              " 'i',\n",
              " 'j',\n",
              " 'k',\n",
              " 'l',\n",
              " 'm',\n",
              " 'n',\n",
              " 'o',\n",
              " 'p',\n",
              " 'q',\n",
              " 'r',\n",
              " 's',\n",
              " 't',\n",
              " 'u',\n",
              " 'v',\n",
              " 'w',\n",
              " 'x',\n",
              " 'y',\n",
              " 'z'}"
            ]
          },
          "metadata": {},
          "execution_count": 77
        }
      ]
    }
  ]
}