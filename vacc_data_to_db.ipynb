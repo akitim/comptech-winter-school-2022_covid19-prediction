{
  "nbformat": 4,
  "nbformat_minor": 0,
  "metadata": {
    "colab": {
      "name": "vacc_data_to_db.ipynb",
      "provenance": [],
      "authorship_tag": "ABX9TyPMG8ArwaO+CTO+Vs4VXw5o",
      "include_colab_link": true
    },
    "kernelspec": {
      "name": "python3",
      "display_name": "Python 3"
    },
    "language_info": {
      "name": "python"
    }
  },
  "cells": [
    {
      "cell_type": "markdown",
      "metadata": {
        "id": "view-in-github",
        "colab_type": "text"
      },
      "source": [
        "<a href=\"https://colab.research.google.com/github/akitim/comptech-winter-school-2022_covid19-prediction/blob/main/vacc_data_to_db.ipynb\" target=\"_parent\"><img src=\"https://colab.research.google.com/assets/colab-badge.svg\" alt=\"Open In Colab\"/></a>"
      ]
    },
    {
      "cell_type": "code",
      "source": [
        "!pip install pymysql"
      ],
      "metadata": {
        "colab": {
          "base_uri": "https://localhost:8080/"
        },
        "id": "f_hljCbA_KEe",
        "outputId": "7265c93d-2781-4b38-c8d3-1c0071bdf03f"
      },
      "execution_count": 94,
      "outputs": [
        {
          "output_type": "stream",
          "name": "stdout",
          "text": [
            "Requirement already satisfied: pymysql in /usr/local/lib/python3.7/dist-packages (1.0.2)\n"
          ]
        }
      ]
    },
    {
      "cell_type": "code",
      "source": [
        "import pandas as pd\n",
        "import pymysql\n",
        "from sqlalchemy import create_engine\n",
        "from envparse import env"
      ],
      "metadata": {
        "id": "jSceEHnd_THY"
      },
      "execution_count": 95,
      "outputs": []
    },
    {
      "cell_type": "code",
      "source": [
        "# [DB_FLAVOR]+[DB_PYTHON_LIBRARY]://[USERNAME]:[PASSWORD]@[DB_HOST]:[PORT]/[DB_NAME]\n",
        "username = 'application'\n",
        "password = 'covid19password'\n",
        "host = '138.68.160.207'\n",
        "port = 3306\n",
        "database = 'covid19'\n",
        "\n",
        "# env.read_envfile()\n",
        "\n",
        "url = f\"mysql+pymysql://{username}:{password}@{host}:{port}/{database}\"\n",
        "engine = create_engine(url, echo=True)\n",
        "# engine = create_engine(env(\"DB\"))\n",
        "\n",
        "df = pd.read_csv(\"https://covid.ourworldindata.org/data/owid-covid-data.csv\")\n",
        "\n",
        "loc_to_drop = ['World', 'High income', 'European Union',\n",
        "               'Europe', 'Upper middle income',\n",
        "               'Asia', 'Lower middle income', 'Low income']\n",
        "(df\n",
        " .drop(['iso_code', 'continent'], axis=1)\n",
        " .drop(df.loc[df['location'].isin(loc_to_drop), :].index, axis=0)\n",
        " .to_sql(\"vaccination\", con=engine, index=False, if_exists=\"replace\")\n",
        ")"
      ],
      "metadata": {
        "colab": {
          "base_uri": "https://localhost:8080/"
        },
        "id": "FGL5nE6dAdXS",
        "outputId": "3312b617-9e88-42af-9ad8-332033acd656"
      },
      "execution_count": 97,
      "outputs": [
        {
          "output_type": "stream",
          "name": "stdout",
          "text": [
            "2022-02-02 01:29:18,055 INFO sqlalchemy.engine.Engine SELECT @@sql_mode\n",
            "2022-02-02 01:29:18,057 INFO sqlalchemy.engine.Engine [raw sql] {}\n",
            "2022-02-02 01:29:18,185 INFO sqlalchemy.engine.Engine SELECT @@lower_case_table_names\n",
            "2022-02-02 01:29:18,187 INFO sqlalchemy.engine.Engine [raw sql] {}\n",
            "2022-02-02 01:29:18,446 INFO sqlalchemy.engine.Engine SELECT DATABASE()\n",
            "2022-02-02 01:29:18,448 INFO sqlalchemy.engine.Engine [raw sql] {}\n",
            "2022-02-02 01:29:18,962 INFO sqlalchemy.engine.Engine SELECT COUNT(*) FROM information_schema.tables WHERE table_schema = %(table_schema)s AND table_name = %(table_name)s\n",
            "2022-02-02 01:29:18,963 INFO sqlalchemy.engine.Engine [generated in 0.00211s] {'table_schema': 'covid19', 'table_name': 'vaccination'}\n",
            "2022-02-02 01:29:19,231 INFO sqlalchemy.engine.Engine BEGIN (implicit)\n",
            "2022-02-02 01:29:19,243 INFO sqlalchemy.engine.Engine \n",
            "CREATE TABLE vaccination (\n",
            "\tlocation TEXT, \n",
            "\tdate TEXT, \n",
            "\ttotal_cases FLOAT(53), \n",
            "\tnew_cases FLOAT(53), \n",
            "\tnew_cases_smoothed FLOAT(53), \n",
            "\ttotal_deaths FLOAT(53), \n",
            "\tnew_deaths FLOAT(53), \n",
            "\tnew_deaths_smoothed FLOAT(53), \n",
            "\ttotal_cases_per_million FLOAT(53), \n",
            "\tnew_cases_per_million FLOAT(53), \n",
            "\tnew_cases_smoothed_per_million FLOAT(53), \n",
            "\ttotal_deaths_per_million FLOAT(53), \n",
            "\tnew_deaths_per_million FLOAT(53), \n",
            "\tnew_deaths_smoothed_per_million FLOAT(53), \n",
            "\treproduction_rate FLOAT(53), \n",
            "\ticu_patients FLOAT(53), \n",
            "\ticu_patients_per_million FLOAT(53), \n",
            "\thosp_patients FLOAT(53), \n",
            "\thosp_patients_per_million FLOAT(53), \n",
            "\tweekly_icu_admissions FLOAT(53), \n",
            "\tweekly_icu_admissions_per_million FLOAT(53), \n",
            "\tweekly_hosp_admissions FLOAT(53), \n",
            "\tweekly_hosp_admissions_per_million FLOAT(53), \n",
            "\tnew_tests FLOAT(53), \n",
            "\ttotal_tests FLOAT(53), \n",
            "\ttotal_tests_per_thousand FLOAT(53), \n",
            "\tnew_tests_per_thousand FLOAT(53), \n",
            "\tnew_tests_smoothed FLOAT(53), \n",
            "\tnew_tests_smoothed_per_thousand FLOAT(53), \n",
            "\tpositive_rate FLOAT(53), \n",
            "\ttests_per_case FLOAT(53), \n",
            "\ttests_units TEXT, \n",
            "\ttotal_vaccinations FLOAT(53), \n",
            "\tpeople_vaccinated FLOAT(53), \n",
            "\tpeople_fully_vaccinated FLOAT(53), \n",
            "\ttotal_boosters FLOAT(53), \n",
            "\tnew_vaccinations FLOAT(53), \n",
            "\tnew_vaccinations_smoothed FLOAT(53), \n",
            "\ttotal_vaccinations_per_hundred FLOAT(53), \n",
            "\tpeople_vaccinated_per_hundred FLOAT(53), \n",
            "\tpeople_fully_vaccinated_per_hundred FLOAT(53), \n",
            "\ttotal_boosters_per_hundred FLOAT(53), \n",
            "\tnew_vaccinations_smoothed_per_million FLOAT(53), \n",
            "\tnew_people_vaccinated_smoothed FLOAT(53), \n",
            "\tnew_people_vaccinated_smoothed_per_hundred FLOAT(53), \n",
            "\tstringency_index FLOAT(53), \n",
            "\tpopulation FLOAT(53), \n",
            "\tpopulation_density FLOAT(53), \n",
            "\tmedian_age FLOAT(53), \n",
            "\taged_65_older FLOAT(53), \n",
            "\taged_70_older FLOAT(53), \n",
            "\tgdp_per_capita FLOAT(53), \n",
            "\textreme_poverty FLOAT(53), \n",
            "\tcardiovasc_death_rate FLOAT(53), \n",
            "\tdiabetes_prevalence FLOAT(53), \n",
            "\tfemale_smokers FLOAT(53), \n",
            "\tmale_smokers FLOAT(53), \n",
            "\thandwashing_facilities FLOAT(53), \n",
            "\thospital_beds_per_thousand FLOAT(53), \n",
            "\tlife_expectancy FLOAT(53), \n",
            "\thuman_development_index FLOAT(53), \n",
            "\texcess_mortality_cumulative_absolute FLOAT(53), \n",
            "\texcess_mortality_cumulative FLOAT(53), \n",
            "\texcess_mortality FLOAT(53), \n",
            "\texcess_mortality_cumulative_per_million FLOAT(53)\n",
            ")\n",
            "\n",
            "\n",
            "2022-02-02 01:29:19,246 INFO sqlalchemy.engine.Engine [no key 0.00238s] {}\n",
            "2022-02-02 01:29:19,421 INFO sqlalchemy.engine.Engine COMMIT\n",
            "2022-02-02 01:29:20,625 INFO sqlalchemy.engine.Engine BEGIN (implicit)\n",
            "2022-02-02 01:29:41,896 INFO sqlalchemy.engine.Engine INSERT INTO vaccination (location, date, total_cases, new_cases, new_cases_smoothed, total_deaths, new_deaths, new_deaths_smoothed, total_cases_per_million, new_cases_per_million, new_cases_smoothed_per_million, total_deaths_per_million, new_deaths_per_million, new_deaths_smoothed_per_million, reproduction_rate, icu_patients, icu_patients_per_million, hosp_patients, hosp_patients_per_million, weekly_icu_admissions, weekly_icu_admissions_per_million, weekly_hosp_admissions, weekly_hosp_admissions_per_million, new_tests, total_tests, total_tests_per_thousand, new_tests_per_thousand, new_tests_smoothed, new_tests_smoothed_per_thousand, positive_rate, tests_per_case, tests_units, total_vaccinations, people_vaccinated, people_fully_vaccinated, total_boosters, new_vaccinations, new_vaccinations_smoothed, total_vaccinations_per_hundred, people_vaccinated_per_hundred, people_fully_vaccinated_per_hundred, total_boosters_per_hundred, new_vaccinations_smoothed_per_million, new_people_vaccinated_smoothed, new_people_vaccinated_smoothed_per_hundred, stringency_index, population, population_density, median_age, aged_65_older, aged_70_older, gdp_per_capita, extreme_poverty, cardiovasc_death_rate, diabetes_prevalence, female_smokers, male_smokers, handwashing_facilities, hospital_beds_per_thousand, life_expectancy, human_development_index, excess_mortality_cumulative_absolute, excess_mortality_cumulative, excess_mortality, excess_mortality_cumulative_per_million) VALUES (%(location)s, %(date)s, %(total_cases)s, %(new_cases)s, %(new_cases_smoothed)s, %(total_deaths)s, %(new_deaths)s, %(new_deaths_smoothed)s, %(total_cases_per_million)s, %(new_cases_per_million)s, %(new_cases_smoothed_per_million)s, %(total_deaths_per_million)s, %(new_deaths_per_million)s, %(new_deaths_smoothed_per_million)s, %(reproduction_rate)s, %(icu_patients)s, %(icu_patients_per_million)s, %(hosp_patients)s, %(hosp_patients_per_million)s, %(weekly_icu_admissions)s, %(weekly_icu_admissions_per_million)s, %(weekly_hosp_admissions)s, %(weekly_hosp_admissions_per_million)s, %(new_tests)s, %(total_tests)s, %(total_tests_per_thousand)s, %(new_tests_per_thousand)s, %(new_tests_smoothed)s, %(new_tests_smoothed_per_thousand)s, %(positive_rate)s, %(tests_per_case)s, %(tests_units)s, %(total_vaccinations)s, %(people_vaccinated)s, %(people_fully_vaccinated)s, %(total_boosters)s, %(new_vaccinations)s, %(new_vaccinations_smoothed)s, %(total_vaccinations_per_hundred)s, %(people_vaccinated_per_hundred)s, %(people_fully_vaccinated_per_hundred)s, %(total_boosters_per_hundred)s, %(new_vaccinations_smoothed_per_million)s, %(new_people_vaccinated_smoothed)s, %(new_people_vaccinated_smoothed_per_hundred)s, %(stringency_index)s, %(population)s, %(population_density)s, %(median_age)s, %(aged_65_older)s, %(aged_70_older)s, %(gdp_per_capita)s, %(extreme_poverty)s, %(cardiovasc_death_rate)s, %(diabetes_prevalence)s, %(female_smokers)s, %(male_smokers)s, %(handwashing_facilities)s, %(hospital_beds_per_thousand)s, %(life_expectancy)s, %(human_development_index)s, %(excess_mortality_cumulative_absolute)s, %(excess_mortality_cumulative)s, %(excess_mortality)s, %(excess_mortality_cumulative_per_million)s)\n",
            "2022-02-02 01:29:41,898 INFO sqlalchemy.engine.Engine [generated in 19.77464s] ({'location': 'Afghanistan', 'date': '2020-02-24', 'total_cases': 5.0, 'new_cases': 5.0, 'new_cases_smoothed': None, 'total_deaths': None, 'new_deaths': None, 'new_deaths_smoothed': None, 'total_cases_per_million': 0.126, 'new_cases_per_million': 0.126, 'new_cases_smoothed_per_million': None, 'total_deaths_per_million': None, 'new_deaths_per_million': None, 'new_deaths_smoothed_per_million': None, 'reproduction_rate': None, 'icu_patients': None, 'icu_patients_per_million': None, 'hosp_patients': None, 'hosp_patients_per_million': None, 'weekly_icu_admissions': None, 'weekly_icu_admissions_per_million': None, 'weekly_hosp_admissions': None, 'weekly_hosp_admissions_per_million': None, 'new_tests': None, 'total_tests': None, 'total_tests_per_thousand': None, 'new_tests_per_thousand': None, 'new_tests_smoothed': None, 'new_tests_smoothed_per_thousand': None, 'positive_rate': None, 'tests_per_case': None, 'tests_units': None, 'total_vaccinations': None, 'people_vaccinated': None, 'people_fully_vaccinated': None, 'total_boosters': None, 'new_vaccinations': None, 'new_vaccinations_smoothed': None, 'total_vaccinations_per_hundred': None, 'people_vaccinated_per_hundred': None, 'people_fully_vaccinated_per_hundred': None, 'total_boosters_per_hundred': None, 'new_vaccinations_smoothed_per_million': None, 'new_people_vaccinated_smoothed': None, 'new_people_vaccinated_smoothed_per_hundred': None, 'stringency_index': 8.33, 'population': 39835428.0, 'population_density': 54.422, 'median_age': 18.6, 'aged_65_older': 2.581, 'aged_70_older': 1.337, 'gdp_per_capita': 1803.987, 'extreme_poverty': None, 'cardiovasc_death_rate': 597.029, 'diabetes_prevalence': 9.59, 'female_smokers': None, 'male_smokers': None, 'handwashing_facilities': 37.746, 'hospital_beds_per_thousand': 0.5, 'life_expectancy': 64.83, 'human_development_index': 0.511, 'excess_mortality_cumulative_absolute': None, 'excess_mortality_cumulative': None, 'excess_mortality': None, 'excess_mortality_cumulative_per_million': None}, {'location': 'Afghanistan', 'date': '2020-02-25', 'total_cases': 5.0, 'new_cases': 0.0, 'new_cases_smoothed': None, 'total_deaths': None, 'new_deaths': None, 'new_deaths_smoothed': None, 'total_cases_per_million': 0.126, 'new_cases_per_million': 0.0, 'new_cases_smoothed_per_million': None, 'total_deaths_per_million': None, 'new_deaths_per_million': None, 'new_deaths_smoothed_per_million': None, 'reproduction_rate': None, 'icu_patients': None, 'icu_patients_per_million': None, 'hosp_patients': None, 'hosp_patients_per_million': None, 'weekly_icu_admissions': None, 'weekly_icu_admissions_per_million': None, 'weekly_hosp_admissions': None, 'weekly_hosp_admissions_per_million': None, 'new_tests': None, 'total_tests': None, 'total_tests_per_thousand': None, 'new_tests_per_thousand': None, 'new_tests_smoothed': None, 'new_tests_smoothed_per_thousand': None, 'positive_rate': None, 'tests_per_case': None, 'tests_units': None, 'total_vaccinations': None, 'people_vaccinated': None, 'people_fully_vaccinated': None, 'total_boosters': None, 'new_vaccinations': None, 'new_vaccinations_smoothed': None, 'total_vaccinations_per_hundred': None, 'people_vaccinated_per_hundred': None, 'people_fully_vaccinated_per_hundred': None, 'total_boosters_per_hundred': None, 'new_vaccinations_smoothed_per_million': None, 'new_people_vaccinated_smoothed': None, 'new_people_vaccinated_smoothed_per_hundred': None, 'stringency_index': 8.33, 'population': 39835428.0, 'population_density': 54.422, 'median_age': 18.6, 'aged_65_older': 2.581, 'aged_70_older': 1.337, 'gdp_per_capita': 1803.987, 'extreme_poverty': None, 'cardiovasc_death_rate': 597.029, 'diabetes_prevalence': 9.59, 'female_smokers': None, 'male_smokers': None, 'handwashing_facilities': 37.746, 'hospital_beds_per_thousand': 0.5, 'life_expectancy': 64.83, 'human_development_index': 0.511, 'excess_mortality_cumulative_absolute': None, 'excess_mortality_cumulative': None, 'excess_mortality': None, 'excess_mortality_cumulative_per_million': None}, {'location': 'Afghanistan', 'date': '2020-02-26', 'total_cases': 5.0, 'new_cases': 0.0, 'new_cases_smoothed': None, 'total_deaths': None, 'new_deaths': None, 'new_deaths_smoothed': None, 'total_cases_per_million': 0.126, 'new_cases_per_million': 0.0, 'new_cases_smoothed_per_million': None, 'total_deaths_per_million': None, 'new_deaths_per_million': None, 'new_deaths_smoothed_per_million': None, 'reproduction_rate': None, 'icu_patients': None, 'icu_patients_per_million': None, 'hosp_patients': None, 'hosp_patients_per_million': None, 'weekly_icu_admissions': None, 'weekly_icu_admissions_per_million': None, 'weekly_hosp_admissions': None, 'weekly_hosp_admissions_per_million': None, 'new_tests': None, 'total_tests': None, 'total_tests_per_thousand': None, 'new_tests_per_thousand': None, 'new_tests_smoothed': None, 'new_tests_smoothed_per_thousand': None, 'positive_rate': None, 'tests_per_case': None, 'tests_units': None, 'total_vaccinations': None, 'people_vaccinated': None, 'people_fully_vaccinated': None, 'total_boosters': None, 'new_vaccinations': None, 'new_vaccinations_smoothed': None, 'total_vaccinations_per_hundred': None, 'people_vaccinated_per_hundred': None, 'people_fully_vaccinated_per_hundred': None, 'total_boosters_per_hundred': None, 'new_vaccinations_smoothed_per_million': None, 'new_people_vaccinated_smoothed': None, 'new_people_vaccinated_smoothed_per_hundred': None, 'stringency_index': 8.33, 'population': 39835428.0, 'population_density': 54.422, 'median_age': 18.6, 'aged_65_older': 2.581, 'aged_70_older': 1.337, 'gdp_per_capita': 1803.987, 'extreme_poverty': None, 'cardiovasc_death_rate': 597.029, 'diabetes_prevalence': 9.59, 'female_smokers': None, 'male_smokers': None, 'handwashing_facilities': 37.746, 'hospital_beds_per_thousand': 0.5, 'life_expectancy': 64.83, 'human_development_index': 0.511, 'excess_mortality_cumulative_absolute': None, 'excess_mortality_cumulative': None, 'excess_mortality': None, 'excess_mortality_cumulative_per_million': None}, {'location': 'Afghanistan', 'date': '2020-02-27', 'total_cases': 5.0, 'new_cases': 0.0, 'new_cases_smoothed': None, 'total_deaths': None, 'new_deaths': None, 'new_deaths_smoothed': None, 'total_cases_per_million': 0.126, 'new_cases_per_million': 0.0, 'new_cases_smoothed_per_million': None, 'total_deaths_per_million': None, 'new_deaths_per_million': None, 'new_deaths_smoothed_per_million': None, 'reproduction_rate': None, 'icu_patients': None, 'icu_patients_per_million': None, 'hosp_patients': None, 'hosp_patients_per_million': None, 'weekly_icu_admissions': None, 'weekly_icu_admissions_per_million': None, 'weekly_hosp_admissions': None, 'weekly_hosp_admissions_per_million': None, 'new_tests': None, 'total_tests': None, 'total_tests_per_thousand': None, 'new_tests_per_thousand': None, 'new_tests_smoothed': None, 'new_tests_smoothed_per_thousand': None, 'positive_rate': None, 'tests_per_case': None, 'tests_units': None, 'total_vaccinations': None, 'people_vaccinated': None, 'people_fully_vaccinated': None, 'total_boosters': None, 'new_vaccinations': None, 'new_vaccinations_smoothed': None, 'total_vaccinations_per_hundred': None, 'people_vaccinated_per_hundred': None, 'people_fully_vaccinated_per_hundred': None, 'total_boosters_per_hundred': None, 'new_vaccinations_smoothed_per_million': None, 'new_people_vaccinated_smoothed': None, 'new_people_vaccinated_smoothed_per_hundred': None, 'stringency_index': 8.33, 'population': 39835428.0, 'population_density': 54.422, 'median_age': 18.6, 'aged_65_older': 2.581, 'aged_70_older': 1.337, 'gdp_per_capita': 1803.987, 'extreme_poverty': None, 'cardiovasc_death_rate': 597.029, 'diabetes_prevalence': 9.59, 'female_smokers': None, 'male_smokers': None, 'handwashing_facilities': 37.746, 'hospital_beds_per_thousand': 0.5, 'life_expectancy': 64.83, 'human_development_index': 0.511, 'excess_mortality_cumulative_absolute': None, 'excess_mortality_cumulative': None, 'excess_mortality': None, 'excess_mortality_cumulative_per_million': None}, {'location': 'Afghanistan', 'date': '2020-02-28', 'total_cases': 5.0, 'new_cases': 0.0, 'new_cases_smoothed': None, 'total_deaths': None, 'new_deaths': None, 'new_deaths_smoothed': None, 'total_cases_per_million': 0.126, 'new_cases_per_million': 0.0, 'new_cases_smoothed_per_million': None, 'total_deaths_per_million': None, 'new_deaths_per_million': None, 'new_deaths_smoothed_per_million': None, 'reproduction_rate': None, 'icu_patients': None, 'icu_patients_per_million': None, 'hosp_patients': None, 'hosp_patients_per_million': None, 'weekly_icu_admissions': None, 'weekly_icu_admissions_per_million': None, 'weekly_hosp_admissions': None, 'weekly_hosp_admissions_per_million': None, 'new_tests': None, 'total_tests': None, 'total_tests_per_thousand': None, 'new_tests_per_thousand': None, 'new_tests_smoothed': None, 'new_tests_smoothed_per_thousand': None, 'positive_rate': None, 'tests_per_case': None, 'tests_units': None, 'total_vaccinations': None, 'people_vaccinated': None, 'people_fully_vaccinated': None, 'total_boosters': None, 'new_vaccinations': None, 'new_vaccinations_smoothed': None, 'total_vaccinations_per_hundred': None, 'people_vaccinated_per_hundred': None, 'people_fully_vaccinated_per_hundred': None, 'total_boosters_per_hundred': None, 'new_vaccinations_smoothed_per_million': None, 'new_people_vaccinated_smoothed': None, 'new_people_vaccinated_smoothed_per_hundred': None, 'stringency_index': 8.33, 'population': 39835428.0, 'population_density': 54.422, 'median_age': 18.6, 'aged_65_older': 2.581, 'aged_70_older': 1.337, 'gdp_per_capita': 1803.987, 'extreme_poverty': None, 'cardiovasc_death_rate': 597.029, 'diabetes_prevalence': 9.59, 'female_smokers': None, 'male_smokers': None, 'handwashing_facilities': 37.746, 'hospital_beds_per_thousand': 0.5, 'life_expectancy': 64.83, 'human_development_index': 0.511, 'excess_mortality_cumulative_absolute': None, 'excess_mortality_cumulative': None, 'excess_mortality': None, 'excess_mortality_cumulative_per_million': None}, {'location': 'Afghanistan', 'date': '2020-02-29', 'total_cases': 5.0, 'new_cases': 0.0, 'new_cases_smoothed': 0.714, 'total_deaths': None, 'new_deaths': None, 'new_deaths_smoothed': None, 'total_cases_per_million': 0.126, 'new_cases_per_million': 0.0, 'new_cases_smoothed_per_million': 0.018, 'total_deaths_per_million': None, 'new_deaths_per_million': None, 'new_deaths_smoothed_per_million': None, 'reproduction_rate': None, 'icu_patients': None, 'icu_patients_per_million': None, 'hosp_patients': None, 'hosp_patients_per_million': None, 'weekly_icu_admissions': None, 'weekly_icu_admissions_per_million': None, 'weekly_hosp_admissions': None, 'weekly_hosp_admissions_per_million': None, 'new_tests': None, 'total_tests': None, 'total_tests_per_thousand': None, 'new_tests_per_thousand': None, 'new_tests_smoothed': None, 'new_tests_smoothed_per_thousand': None, 'positive_rate': None, 'tests_per_case': None, 'tests_units': None, 'total_vaccinations': None, 'people_vaccinated': None, 'people_fully_vaccinated': None, 'total_boosters': None, 'new_vaccinations': None, 'new_vaccinations_smoothed': None, 'total_vaccinations_per_hundred': None, 'people_vaccinated_per_hundred': None, 'people_fully_vaccinated_per_hundred': None, 'total_boosters_per_hundred': None, 'new_vaccinations_smoothed_per_million': None, 'new_people_vaccinated_smoothed': None, 'new_people_vaccinated_smoothed_per_hundred': None, 'stringency_index': 8.33, 'population': 39835428.0, 'population_density': 54.422, 'median_age': 18.6, 'aged_65_older': 2.581, 'aged_70_older': 1.337, 'gdp_per_capita': 1803.987, 'extreme_poverty': None, 'cardiovasc_death_rate': 597.029, 'diabetes_prevalence': 9.59, 'female_smokers': None, 'male_smokers': None, 'handwashing_facilities': 37.746, 'hospital_beds_per_thousand': 0.5, 'life_expectancy': 64.83, 'human_development_index': 0.511, 'excess_mortality_cumulative_absolute': None, 'excess_mortality_cumulative': None, 'excess_mortality': None, 'excess_mortality_cumulative_per_million': None}, {'location': 'Afghanistan', 'date': '2020-03-01', 'total_cases': 5.0, 'new_cases': 0.0, 'new_cases_smoothed': 0.714, 'total_deaths': None, 'new_deaths': None, 'new_deaths_smoothed': None, 'total_cases_per_million': 0.126, 'new_cases_per_million': 0.0, 'new_cases_smoothed_per_million': 0.018, 'total_deaths_per_million': None, 'new_deaths_per_million': None, 'new_deaths_smoothed_per_million': None, 'reproduction_rate': None, 'icu_patients': None, 'icu_patients_per_million': None, 'hosp_patients': None, 'hosp_patients_per_million': None, 'weekly_icu_admissions': None, 'weekly_icu_admissions_per_million': None, 'weekly_hosp_admissions': None, 'weekly_hosp_admissions_per_million': None, 'new_tests': None, 'total_tests': None, 'total_tests_per_thousand': None, 'new_tests_per_thousand': None, 'new_tests_smoothed': None, 'new_tests_smoothed_per_thousand': None, 'positive_rate': None, 'tests_per_case': None, 'tests_units': None, 'total_vaccinations': None, 'people_vaccinated': None, 'people_fully_vaccinated': None, 'total_boosters': None, 'new_vaccinations': None, 'new_vaccinations_smoothed': None, 'total_vaccinations_per_hundred': None, 'people_vaccinated_per_hundred': None, 'people_fully_vaccinated_per_hundred': None, 'total_boosters_per_hundred': None, 'new_vaccinations_smoothed_per_million': None, 'new_people_vaccinated_smoothed': None, 'new_people_vaccinated_smoothed_per_hundred': None, 'stringency_index': 27.78, 'population': 39835428.0, 'population_density': 54.422, 'median_age': 18.6, 'aged_65_older': 2.581, 'aged_70_older': 1.337, 'gdp_per_capita': 1803.987, 'extreme_poverty': None, 'cardiovasc_death_rate': 597.029, 'diabetes_prevalence': 9.59, 'female_smokers': None, 'male_smokers': None, 'handwashing_facilities': 37.746, 'hospital_beds_per_thousand': 0.5, 'life_expectancy': 64.83, 'human_development_index': 0.511, 'excess_mortality_cumulative_absolute': None, 'excess_mortality_cumulative': None, 'excess_mortality': None, 'excess_mortality_cumulative_per_million': None}, {'location': 'Afghanistan', 'date': '2020-03-02', 'total_cases': 5.0, 'new_cases': 0.0, 'new_cases_smoothed': 0.0, 'total_deaths': None, 'new_deaths': None, 'new_deaths_smoothed': None, 'total_cases_per_million': 0.126, 'new_cases_per_million': 0.0, 'new_cases_smoothed_per_million': 0.0, 'total_deaths_per_million': None, 'new_deaths_per_million': None, 'new_deaths_smoothed_per_million': None, 'reproduction_rate': None, 'icu_patients': None, 'icu_patients_per_million': None, 'hosp_patients': None, 'hosp_patients_per_million': None, 'weekly_icu_admissions': None, 'weekly_icu_admissions_per_million': None, 'weekly_hosp_admissions': None, 'weekly_hosp_admissions_per_million': None, 'new_tests': None, 'total_tests': None, 'total_tests_per_thousand': None, 'new_tests_per_thousand': None, 'new_tests_smoothed': None, 'new_tests_smoothed_per_thousand': None, 'positive_rate': None, 'tests_per_case': None, 'tests_units': None, 'total_vaccinations': None, 'people_vaccinated': None, 'people_fully_vaccinated': None, 'total_boosters': None, 'new_vaccinations': None, 'new_vaccinations_smoothed': None, 'total_vaccinations_per_hundred': None, 'people_vaccinated_per_hundred': None, 'people_fully_vaccinated_per_hundred': None, 'total_boosters_per_hundred': None, 'new_vaccinations_smoothed_per_million': None, 'new_people_vaccinated_smoothed': None, 'new_people_vaccinated_smoothed_per_hundred': None, 'stringency_index': 27.78, 'population': 39835428.0, 'population_density': 54.422, 'median_age': 18.6, 'aged_65_older': 2.581, 'aged_70_older': 1.337, 'gdp_per_capita': 1803.987, 'extreme_poverty': None, 'cardiovasc_death_rate': 597.029, 'diabetes_prevalence': 9.59, 'female_smokers': None, 'male_smokers': None, 'handwashing_facilities': 37.746, 'hospital_beds_per_thousand': 0.5, 'life_expectancy': 64.83, 'human_development_index': 0.511, 'excess_mortality_cumulative_absolute': None, 'excess_mortality_cumulative': None, 'excess_mortality': None, 'excess_mortality_cumulative_per_million': None}  ... displaying 10 of 152736 total bound parameter sets ...  {'location': 'Zimbabwe', 'date': '2022-01-30', 'total_cases': 229460.0, 'new_cases': 45.0, 'new_cases_smoothed': 172.286, 'total_deaths': 5337.0, 'new_deaths': 4.0, 'new_deaths_smoothed': 6.143, 'total_cases_per_million': 15203.909, 'new_cases_per_million': 2.982, 'new_cases_smoothed_per_million': 11.416, 'total_deaths_per_million': 353.627, 'new_deaths_per_million': 0.265, 'new_deaths_smoothed_per_million': 0.407, 'reproduction_rate': None, 'icu_patients': None, 'icu_patients_per_million': None, 'hosp_patients': None, 'hosp_patients_per_million': None, 'weekly_icu_admissions': None, 'weekly_icu_admissions_per_million': None, 'weekly_hosp_admissions': None, 'weekly_hosp_admissions_per_million': None, 'new_tests': 1001.0, 'total_tests': 1847103.0, 'total_tests_per_thousand': 122.388, 'new_tests_per_thousand': 0.066, 'new_tests_smoothed': 3240.0, 'new_tests_smoothed_per_thousand': 0.215, 'positive_rate': 0.0532, 'tests_per_case': 18.8, 'tests_units': 'tests performed', 'total_vaccinations': 7564190.0, 'people_vaccinated': 4267826.0, 'people_fully_vaccinated': 3296364.0, 'total_boosters': None, 'new_vaccinations': 3403.0, 'new_vaccinations_smoothed': 7327.0, 'total_vaccinations_per_hundred': 50.12, 'people_vaccinated_per_hundred': 28.28, 'people_fully_vaccinated_per_hundred': 21.84, 'total_boosters_per_hundred': None, 'new_vaccinations_smoothed_per_million': 485.0, 'new_people_vaccinated_smoothed': 3597.0, 'new_people_vaccinated_smoothed_per_hundred': 0.024, 'stringency_index': 40.74, 'population': 15092171.0, 'population_density': 42.729, 'median_age': 19.6, 'aged_65_older': 2.822, 'aged_70_older': 1.882, 'gdp_per_capita': 1899.775, 'extreme_poverty': 21.4, 'cardiovasc_death_rate': 307.846, 'diabetes_prevalence': 1.82, 'female_smokers': 1.6, 'male_smokers': 30.7, 'handwashing_facilities': 36.791, 'hospital_beds_per_thousand': 1.7, 'life_expectancy': 61.49, 'human_development_index': 0.571, 'excess_mortality_cumulative_absolute': None, 'excess_mortality_cumulative': None, 'excess_mortality': None, 'excess_mortality_cumulative_per_million': None}, {'location': 'Zimbabwe', 'date': '2022-01-31', 'total_cases': 229666.0, 'new_cases': 206.0, 'new_cases_smoothed': 160.714, 'total_deaths': 5338.0, 'new_deaths': 1.0, 'new_deaths_smoothed': 4.714, 'total_cases_per_million': 15217.559, 'new_cases_per_million': 13.649, 'new_cases_smoothed_per_million': 10.649, 'total_deaths_per_million': 353.693, 'new_deaths_per_million': 0.066, 'new_deaths_smoothed_per_million': 0.312, 'reproduction_rate': None, 'icu_patients': None, 'icu_patients_per_million': None, 'hosp_patients': None, 'hosp_patients_per_million': None, 'weekly_icu_admissions': None, 'weekly_icu_admissions_per_million': None, 'weekly_hosp_admissions': None, 'weekly_hosp_admissions_per_million': None, 'new_tests': 3653.0, 'total_tests': 1850756.0, 'total_tests_per_thousand': 122.63, 'new_tests_per_thousand': 0.242, 'new_tests_smoothed': 3060.0, 'new_tests_smoothed_per_thousand': 0.203, 'positive_rate': None, 'tests_per_case': None, 'tests_units': 'tests performed', 'total_vaccinations': 7570383.0, 'people_vaccinated': 4270759.0, 'people_fully_vaccinated': 3299624.0, 'total_boosters': None, 'new_vaccinations': 6193.0, 'new_vaccinations_smoothed': 7485.0, 'total_vaccinations_per_hundred': 50.16, 'people_vaccinated_per_hundred': 28.3, 'people_fully_vaccinated_per_hundred': 21.86, 'total_boosters_per_hundred': None, 'new_vaccinations_smoothed_per_million': 496.0, 'new_people_vaccinated_smoothed': 3671.0, 'new_people_vaccinated_smoothed_per_hundred': 0.024, 'stringency_index': None, 'population': 15092171.0, 'population_density': 42.729, 'median_age': 19.6, 'aged_65_older': 2.822, 'aged_70_older': 1.882, 'gdp_per_capita': 1899.775, 'extreme_poverty': 21.4, 'cardiovasc_death_rate': 307.846, 'diabetes_prevalence': 1.82, 'female_smokers': 1.6, 'male_smokers': 30.7, 'handwashing_facilities': 36.791, 'hospital_beds_per_thousand': 1.7, 'life_expectancy': 61.49, 'human_development_index': 0.571, 'excess_mortality_cumulative_absolute': None, 'excess_mortality_cumulative': None, 'excess_mortality': None, 'excess_mortality_cumulative_per_million': None})\n",
            "2022-02-02 01:30:38,090 INFO sqlalchemy.engine.Engine COMMIT\n"
          ]
        }
      ]
    }
  ]
}