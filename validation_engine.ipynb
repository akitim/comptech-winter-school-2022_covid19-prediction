{
  "nbformat": 4,
  "nbformat_minor": 0,
  "metadata": {
    "colab": {
      "name": "validation_engine.ipynb",
      "provenance": [],
      "include_colab_link": true
    },
    "kernelspec": {
      "name": "python3",
      "display_name": "Python 3"
    },
    "language_info": {
      "name": "python"
    }
  },
  "cells": [
    {
      "cell_type": "markdown",
      "metadata": {
        "id": "view-in-github",
        "colab_type": "text"
      },
      "source": [
        "<a href=\"https://colab.research.google.com/github/akitim/comptech-winter-school-2022_covid19-prediction/blob/main/validation_engine.ipynb\" target=\"_parent\"><img src=\"https://colab.research.google.com/assets/colab-badge.svg\" alt=\"Open In Colab\"/></a>"
      ]
    },
    {
      "cell_type": "code",
      "execution_count": null,
      "metadata": {
        "id": "JuXbA0hHtXRa"
      },
      "outputs": [],
      "source": [
        "from consts import predict_days\n",
        "\n",
        "\n",
        "class ValidationEngine:\n",
        "    predict_days = [7, 14, 30, 60, 90]\n",
        "\n",
        "    def __init__(self, model):\n",
        "\n",
        "        pass\n",
        "    \n",
        "    def predict(self, model, n_days ):\n",
        "        pass\n",
        "\n",
        "    def get_mape(self, data):\n",
        "        pass"
      ]
    },
    {
      "cell_type": "code",
      "source": [
        "import pandas as pd\n",
        "import numpy as np\n",
        "\n",
        "class ModelPredictor:\n",
        "    def predict(n_days) -> np.array:\n",
        "        \"\"\"\n",
        "        previous_data - данные на которых предсказываем\n",
        "        graph_data - данные о схожести стран которые мы получаем из ETL\n",
        "        n_days - на какое количество дней мы предсказываем\n",
        "        returns: np.array, len(res) = n_days\n",
        "        \"\"\"\n",
        "        pass\n",
        "    \n",
        "    def fit(train_data, graph_data) -> None:\n",
        "        pass\n",
        "    \n",
        "\n",
        "class SomeModel(ModelPredictor):\n",
        "    def predict(previous_data, graph_data, n_days) -> np.ndarray:\n",
        "        \"\"\"\n",
        "        previous_data - данные на которых предсказываем\n",
        "        graph_data - данные о схожести стран которые мы получаем из ETL\n",
        "        n_days - на какое количество дней мы предсказываем\n",
        "        returns: np.array, len(res) = n_days\n",
        "        \"\"\"\n",
        "        return np.zeros(n_days)\n",
        "\n",
        "\n",
        "def validator(cases: dict[str, tuple[pd.Series, pd.Series]], \n",
        "              lags: dict[str, dict], \n",
        "              model: ModelPredictor, \n",
        "              n_days: int) -> float:\n",
        "    # cases = {country: (pd.Series - история заражений, pd.Series - валидационные данные)}\n",
        "    # lags = {country: {country: {\"lag\": количество дней отствания int, \"similarity\": степень похожести float}}}\n",
        "    res = {}\n",
        "    \n",
        "    model.fit(cases, lags)\n",
        "    predicted_values = model.predict(n_days)\n",
        "    \n",
        "    return res\n",
        "\n",
        "\n",
        "validator(dict(), SomeModel())\n"
      ],
      "metadata": {
        "id": "ir1NipT5-bAn"
      },
      "execution_count": null,
      "outputs": []
    }
  ]
}