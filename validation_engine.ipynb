{
  "nbformat": 4,
  "nbformat_minor": 0,
  "metadata": {
    "colab": {
      "name": "validation_engine.ipynb",
      "provenance": [],
      "authorship_tag": "ABX9TyMcd+jNouGQxj1bI6BSy+h2",
      "include_colab_link": true
    },
    "kernelspec": {
      "name": "python3",
      "display_name": "Python 3"
    },
    "language_info": {
      "name": "python"
    }
  },
  "cells": [
    {
      "cell_type": "markdown",
      "metadata": {
        "id": "view-in-github",
        "colab_type": "text"
      },
      "source": [
        "<a href=\"https://colab.research.google.com/github/akitim/comptech-winter-school-2022_covid19-prediction/blob/main/validation_engine.ipynb\" target=\"_parent\"><img src=\"https://colab.research.google.com/assets/colab-badge.svg\" alt=\"Open In Colab\"/></a>"
      ]
    },
    {
      "cell_type": "code",
      "execution_count": null,
      "metadata": {
        "id": "JuXbA0hHtXRa"
      },
      "outputs": [],
      "source": [
        "from consts import predict_days\n",
        "\n",
        "\n",
        "class ValidationEngine:\n",
        "    predict_days = [7, 14, 30, 60, 90]\n",
        "\n",
        "    def __init__(self, model):\n",
        "\n",
        "        pass\n",
        "    \n",
        "    def predict(self, model, n_days ):\n",
        "        pass\n",
        "\n",
        "    def get_mape(self, data):\n",
        "        pass"
      ]
    }
  ]
}