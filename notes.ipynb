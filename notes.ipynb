{
  "nbformat": 4,
  "nbformat_minor": 0,
  "metadata": {
    "colab": {
      "name": "notes.ipynb",
      "provenance": [],
      "authorship_tag": "ABX9TyPyl6XeEhhWewfPQFAebZxU",
      "include_colab_link": true
    },
    "kernelspec": {
      "name": "python3",
      "display_name": "Python 3"
    },
    "language_info": {
      "name": "python"
    }
  },
  "cells": [
    {
      "cell_type": "markdown",
      "metadata": {
        "id": "view-in-github",
        "colab_type": "text"
      },
      "source": [
        "<a href=\"https://colab.research.google.com/github/akitim/comptech-winter-school-2022_covid19-prediction/blob/main/notes.ipynb\" target=\"_parent\"><img src=\"https://colab.research.google.com/assets/colab-badge.svg\" alt=\"Open In Colab\"/></a>"
      ]
    },
    {
      "cell_type": "code",
      "execution_count": null,
      "metadata": {
        "id": "DXetF5kR2u8M"
      },
      "outputs": [],
      "source": [
        "import pandas as pd\n",
        "from sqlalchemy import create_engine\n",
        "from envparse import env\n",
        "\n",
        "env.read_envfile()\n",
        "\n",
        "engine = create_engine(env(\"DB\"))\n",
        "df = pd.read_csv(\"https://covid.ourworldindata.org/data/owid-covid-data.csv\")\n",
        "\n",
        "loc_to_drop = ['World', 'High income', 'European Union',\n",
        "               'Europe', 'Upper middle income',\n",
        "               'Asia', 'Lower middle income', 'Low income']\n",
        "(df\n",
        " .drop(['iso_code', 'continent'], axis=1)\n",
        " .drop(df.loc[df['location'].isin(loc_to_drop), :].index, axis=0)\n",
        " .to_sql(\"vaccination\", con=engine, index=False, if_exists=\"replace\")\n",
        ")\n"
      ]
    }
  ]
}