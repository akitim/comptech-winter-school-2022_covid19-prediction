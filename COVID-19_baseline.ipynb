{
  "cells": [
    {
      "cell_type": "markdown",
      "metadata": {
        "id": "view-in-github",
        "colab_type": "text"
      },
      "source": [
        "<a href=\"https://colab.research.google.com/github/akitim/comptech-winter-school-2022_covid19-prediction/blob/main/COVID-19_baseline.ipynb\" target=\"_parent\"><img src=\"https://colab.research.google.com/assets/colab-badge.svg\" alt=\"Open In Colab\"/></a>"
      ]
    },
    {
      "cell_type": "markdown",
      "source": [
        "COVID-19_baseline.ipynb"
      ],
      "metadata": {
        "id": "3FrHz0f8_7AM"
      },
      "id": "3FrHz0f8_7AM"
    },
    {
      "cell_type": "code",
      "execution_count": 1,
      "id": "513958ff-d5ea-4cbb-a701-bd48af51a531",
      "metadata": {
        "colab": {
          "base_uri": "https://localhost:8080/"
        },
        "id": "513958ff-d5ea-4cbb-a701-bd48af51a531",
        "outputId": "7bf1b95a-7a07-4fe8-c8be-b1e48cf8dc82"
      },
      "outputs": [
        {
          "output_type": "stream",
          "name": "stdout",
          "text": [
            "Cloning into 'covid19-prediction'...\n",
            "remote: Enumerating objects: 23, done.\u001b[K\n",
            "remote: Counting objects: 100% (23/23), done.\u001b[K\n",
            "remote: Compressing objects: 100% (16/16), done.\u001b[K\n",
            "remote: Total 23 (delta 9), reused 11 (delta 6), pack-reused 0\u001b[K\n",
            "Unpacking objects: 100% (23/23), done.\n",
            "Checking out files: 100% (9/9), done.\n"
          ]
        }
      ],
      "source": [
        "!git clone https://github.com/comptech-winter-school/covid19-prediction"
      ]
    },
    {
      "cell_type": "markdown",
      "id": "8c2f4b58-4175-4db8-855f-ca897aade447",
      "metadata": {
        "jp-MarkdownHeadingCollapsed": true,
        "tags": [],
        "id": "8c2f4b58-4175-4db8-855f-ca897aade447"
      },
      "source": [
        "<h1>Библиотеки и функции</h1>"
      ]
    },
    {
      "cell_type": "code",
      "execution_count": 21,
      "id": "59147924-8143-4627-b4b9-4152a0a52965",
      "metadata": {
        "id": "59147924-8143-4627-b4b9-4152a0a52965"
      },
      "outputs": [],
      "source": [
        "from pathlib import Path\n",
        "import pandas as pd \n",
        "import numpy as np\n",
        "from scipy.signal import savgol_filter\n",
        "from matplotlib import pyplot as plt\n",
        "import sklearn\n",
        "\n",
        "%matplotlib inline\n",
        "pd.set_option('display.max_rows', 200)"
      ]
    },
    {
      "cell_type": "code",
      "execution_count": 22,
      "id": "68c94936-91e4-4437-a960-b554ed650103",
      "metadata": {
        "id": "68c94936-91e4-4437-a960-b554ed650103"
      },
      "outputs": [],
      "source": [
        "def get_plot(country_first, country_second):\n",
        "    \"\"\"Строит график для страны country_first и страны country_second\"\"\"\n",
        "    s = [country_first]\n",
        "    if country_second:\n",
        "        s.append(country_second)\n",
        "        \n",
        "    for country in s:\n",
        "        a = gr[gr[\"Country_Region\"] == country]\n",
        "        signal = (a[\"Confirmed\"] - a[\"Confirmed\"].shift(1)).to_numpy()\n",
        "        signal = savgol_filter(signal, 51, 2)\n",
        "        \n",
        "        # model = \"l2\"  # \"l1\", \"rbf\", \"linear\", \"normal\", \"ar\"\n",
        "        # algo = rpt.Window(width=50, model=model).fit(signal)\n",
        "        # result = algo.predict(n_bkps=10)\n",
        "        \n",
        "        plt.title(country)\n",
        "        plt.plot(a.index, signal)\n",
        "        plt.gcf().autofmt_xdate(rotation=90, ha='center')\n",
        "        plt.show()\n",
        "        \n",
        "\n",
        "cache = {}\n",
        "    \n",
        "def get_new_cases(d, c):\n",
        "    \"\"\"Взятие новых кейсов из датафрейма d для страны c и их сглаживание фильтром\"\"\"\n",
        "    c1 = cache.get(c)\n",
        "    if not c1 is None:\n",
        "        return c1\n",
        "    \n",
        "    new_v = d[d[\"Country_Region\"] == c][\"Confirmed\"]\n",
        "    c1 = (new_v - new_v.shift(1)).dropna()\n",
        "    try:\n",
        "        f = savgol_filter(c1.to_numpy(), 51, 2)\n",
        "        c1 = pd.Series(f, index=new_v.index[:-1])\n",
        "        cache[c] = c1\n",
        "        return c1\n",
        "    except ValueError as e:\n",
        "        return pd.Series()"
      ]
    },
    {
      "cell_type": "markdown",
      "id": "dff7ccc0-7806-4b27-88f3-2dd892d41475",
      "metadata": {
        "tags": [],
        "id": "dff7ccc0-7806-4b27-88f3-2dd892d41475"
      },
      "source": [
        "<h1>Взятие данных</h1>"
      ]
    },
    {
      "cell_type": "code",
      "execution_count": 42,
      "id": "2b0ead79-8f42-4497-b761-091ca8bba546",
      "metadata": {
        "colab": {
          "base_uri": "https://localhost:8080/"
        },
        "id": "2b0ead79-8f42-4497-b761-091ca8bba546",
        "outputId": "151243f0-4e19-4bd4-9930-12c29f736933"
      },
      "outputs": [
        {
          "output_type": "stream",
          "name": "stderr",
          "text": [
            "/usr/local/lib/python3.7/dist-packages/IPython/core/interactiveshell.py:2882: DtypeWarning: Columns (17,18,19) have mixed types.Specify dtype option on import or set low_memory=False.\n",
            "  exec(code_obj, self.user_global_ns, self.user_ns)\n"
          ]
        }
      ],
      "source": [
        "path = \"covid19-prediction\"\n",
        "all_files = Path(path).glob(\"data*.csv\") \n",
        "\n",
        "df = pd.concat(map(pd.read_csv, all_files));"
      ]
    },
    {
      "cell_type": "code",
      "execution_count": 35,
      "id": "9786c2e3-4745-4518-b856-d196e41f91da",
      "metadata": {
        "colab": {
          "base_uri": "https://localhost:8080/",
          "height": 461
        },
        "id": "9786c2e3-4745-4518-b856-d196e41f91da",
        "outputId": "ef3a5e0c-449a-4e15-c38f-d4c1db0b51a3"
      },
      "outputs": [
        {
          "output_type": "execute_result",
          "data": {
            "text/html": [
              "\n",
              "  <div id=\"df-22253438-1cf2-4260-b956-4e62d6e52fc5\">\n",
              "    <div class=\"colab-df-container\">\n",
              "      <div>\n",
              "<style scoped>\n",
              "    .dataframe tbody tr th:only-of-type {\n",
              "        vertical-align: middle;\n",
              "    }\n",
              "\n",
              "    .dataframe tbody tr th {\n",
              "        vertical-align: top;\n",
              "    }\n",
              "\n",
              "    .dataframe thead th {\n",
              "        text-align: right;\n",
              "    }\n",
              "</style>\n",
              "<table border=\"1\" class=\"dataframe\">\n",
              "  <thead>\n",
              "    <tr style=\"text-align: right;\">\n",
              "      <th></th>\n",
              "      <th>Unnamed: 0</th>\n",
              "      <th>FIPS</th>\n",
              "      <th>Admin2</th>\n",
              "      <th>Province_State</th>\n",
              "      <th>Country_Region</th>\n",
              "      <th>Last_Update</th>\n",
              "      <th>Lat</th>\n",
              "      <th>Long_</th>\n",
              "      <th>Confirmed</th>\n",
              "      <th>Deaths</th>\n",
              "      <th>Recovered</th>\n",
              "      <th>Active</th>\n",
              "      <th>Combined_Key</th>\n",
              "      <th>Incidence_Rate</th>\n",
              "      <th>Case-Fatality_Ratio</th>\n",
              "      <th>Incident_Rate</th>\n",
              "      <th>Case_Fatality_Ratio</th>\n",
              "      <th>Province/State</th>\n",
              "      <th>Country/Region</th>\n",
              "      <th>Last Update</th>\n",
              "      <th>Latitude</th>\n",
              "      <th>Longitude</th>\n",
              "    </tr>\n",
              "  </thead>\n",
              "  <tbody>\n",
              "    <tr>\n",
              "      <th>0</th>\n",
              "      <td>1923</td>\n",
              "      <td>24047.0</td>\n",
              "      <td>Worcester</td>\n",
              "      <td>Maryland</td>\n",
              "      <td>US</td>\n",
              "      <td>2022-01-13 08:00:09</td>\n",
              "      <td>38.212743</td>\n",
              "      <td>-75.332000</td>\n",
              "      <td>6974.0</td>\n",
              "      <td>134.0</td>\n",
              "      <td>NaN</td>\n",
              "      <td>NaN</td>\n",
              "      <td>Worcester, Maryland, US</td>\n",
              "      <td>NaN</td>\n",
              "      <td>NaN</td>\n",
              "      <td>13340.729972</td>\n",
              "      <td>1.921422</td>\n",
              "      <td>NaN</td>\n",
              "      <td>NaN</td>\n",
              "      <td>NaN</td>\n",
              "      <td>NaN</td>\n",
              "      <td>NaN</td>\n",
              "    </tr>\n",
              "    <tr>\n",
              "      <th>1</th>\n",
              "      <td>1924</td>\n",
              "      <td>25001.0</td>\n",
              "      <td>Barnstable</td>\n",
              "      <td>Massachusetts</td>\n",
              "      <td>US</td>\n",
              "      <td>2022-01-13 08:00:09</td>\n",
              "      <td>41.729806</td>\n",
              "      <td>-70.288543</td>\n",
              "      <td>28765.0</td>\n",
              "      <td>577.0</td>\n",
              "      <td>NaN</td>\n",
              "      <td>NaN</td>\n",
              "      <td>Barnstable, Massachusetts, US</td>\n",
              "      <td>NaN</td>\n",
              "      <td>NaN</td>\n",
              "      <td>13505.328889</td>\n",
              "      <td>2.005910</td>\n",
              "      <td>NaN</td>\n",
              "      <td>NaN</td>\n",
              "      <td>NaN</td>\n",
              "      <td>NaN</td>\n",
              "      <td>NaN</td>\n",
              "    </tr>\n",
              "    <tr>\n",
              "      <th>2</th>\n",
              "      <td>1925</td>\n",
              "      <td>25003.0</td>\n",
              "      <td>Berkshire</td>\n",
              "      <td>Massachusetts</td>\n",
              "      <td>US</td>\n",
              "      <td>2022-01-13 08:00:09</td>\n",
              "      <td>42.374284</td>\n",
              "      <td>-73.205248</td>\n",
              "      <td>16345.0</td>\n",
              "      <td>351.0</td>\n",
              "      <td>NaN</td>\n",
              "      <td>NaN</td>\n",
              "      <td>Berkshire, Massachusetts, US</td>\n",
              "      <td>NaN</td>\n",
              "      <td>NaN</td>\n",
              "      <td>13081.860674</td>\n",
              "      <td>2.147446</td>\n",
              "      <td>NaN</td>\n",
              "      <td>NaN</td>\n",
              "      <td>NaN</td>\n",
              "      <td>NaN</td>\n",
              "      <td>NaN</td>\n",
              "    </tr>\n",
              "    <tr>\n",
              "      <th>3</th>\n",
              "      <td>1926</td>\n",
              "      <td>25005.0</td>\n",
              "      <td>Bristol</td>\n",
              "      <td>Massachusetts</td>\n",
              "      <td>US</td>\n",
              "      <td>2022-01-13 08:00:09</td>\n",
              "      <td>41.792284</td>\n",
              "      <td>-71.108722</td>\n",
              "      <td>124746.0</td>\n",
              "      <td>2138.0</td>\n",
              "      <td>NaN</td>\n",
              "      <td>NaN</td>\n",
              "      <td>Bristol, Massachusetts, US</td>\n",
              "      <td>NaN</td>\n",
              "      <td>NaN</td>\n",
              "      <td>22070.461433</td>\n",
              "      <td>1.713883</td>\n",
              "      <td>NaN</td>\n",
              "      <td>NaN</td>\n",
              "      <td>NaN</td>\n",
              "      <td>NaN</td>\n",
              "      <td>NaN</td>\n",
              "    </tr>\n",
              "    <tr>\n",
              "      <th>4</th>\n",
              "      <td>1927</td>\n",
              "      <td>NaN</td>\n",
              "      <td>Dukes and Nantucket</td>\n",
              "      <td>Massachusetts</td>\n",
              "      <td>US</td>\n",
              "      <td>2022-01-13 08:00:09</td>\n",
              "      <td>41.406747</td>\n",
              "      <td>-70.687635</td>\n",
              "      <td>5599.0</td>\n",
              "      <td>7.0</td>\n",
              "      <td>NaN</td>\n",
              "      <td>NaN</td>\n",
              "      <td>Dukes and Nantucket, Massachusetts, US</td>\n",
              "      <td>NaN</td>\n",
              "      <td>NaN</td>\n",
              "      <td>19487.661411</td>\n",
              "      <td>0.125022</td>\n",
              "      <td>NaN</td>\n",
              "      <td>NaN</td>\n",
              "      <td>NaN</td>\n",
              "      <td>NaN</td>\n",
              "      <td>NaN</td>\n",
              "    </tr>\n",
              "  </tbody>\n",
              "</table>\n",
              "</div>\n",
              "      <button class=\"colab-df-convert\" onclick=\"convertToInteractive('df-22253438-1cf2-4260-b956-4e62d6e52fc5')\"\n",
              "              title=\"Convert this dataframe to an interactive table.\"\n",
              "              style=\"display:none;\">\n",
              "        \n",
              "  <svg xmlns=\"http://www.w3.org/2000/svg\" height=\"24px\"viewBox=\"0 0 24 24\"\n",
              "       width=\"24px\">\n",
              "    <path d=\"M0 0h24v24H0V0z\" fill=\"none\"/>\n",
              "    <path d=\"M18.56 5.44l.94 2.06.94-2.06 2.06-.94-2.06-.94-.94-2.06-.94 2.06-2.06.94zm-11 1L8.5 8.5l.94-2.06 2.06-.94-2.06-.94L8.5 2.5l-.94 2.06-2.06.94zm10 10l.94 2.06.94-2.06 2.06-.94-2.06-.94-.94-2.06-.94 2.06-2.06.94z\"/><path d=\"M17.41 7.96l-1.37-1.37c-.4-.4-.92-.59-1.43-.59-.52 0-1.04.2-1.43.59L10.3 9.45l-7.72 7.72c-.78.78-.78 2.05 0 2.83L4 21.41c.39.39.9.59 1.41.59.51 0 1.02-.2 1.41-.59l7.78-7.78 2.81-2.81c.8-.78.8-2.07 0-2.86zM5.41 20L4 18.59l7.72-7.72 1.47 1.35L5.41 20z\"/>\n",
              "  </svg>\n",
              "      </button>\n",
              "      \n",
              "  <style>\n",
              "    .colab-df-container {\n",
              "      display:flex;\n",
              "      flex-wrap:wrap;\n",
              "      gap: 12px;\n",
              "    }\n",
              "\n",
              "    .colab-df-convert {\n",
              "      background-color: #E8F0FE;\n",
              "      border: none;\n",
              "      border-radius: 50%;\n",
              "      cursor: pointer;\n",
              "      display: none;\n",
              "      fill: #1967D2;\n",
              "      height: 32px;\n",
              "      padding: 0 0 0 0;\n",
              "      width: 32px;\n",
              "    }\n",
              "\n",
              "    .colab-df-convert:hover {\n",
              "      background-color: #E2EBFA;\n",
              "      box-shadow: 0px 1px 2px rgba(60, 64, 67, 0.3), 0px 1px 3px 1px rgba(60, 64, 67, 0.15);\n",
              "      fill: #174EA6;\n",
              "    }\n",
              "\n",
              "    [theme=dark] .colab-df-convert {\n",
              "      background-color: #3B4455;\n",
              "      fill: #D2E3FC;\n",
              "    }\n",
              "\n",
              "    [theme=dark] .colab-df-convert:hover {\n",
              "      background-color: #434B5C;\n",
              "      box-shadow: 0px 1px 3px 1px rgba(0, 0, 0, 0.15);\n",
              "      filter: drop-shadow(0px 1px 2px rgba(0, 0, 0, 0.3));\n",
              "      fill: #FFFFFF;\n",
              "    }\n",
              "  </style>\n",
              "\n",
              "      <script>\n",
              "        const buttonEl =\n",
              "          document.querySelector('#df-22253438-1cf2-4260-b956-4e62d6e52fc5 button.colab-df-convert');\n",
              "        buttonEl.style.display =\n",
              "          google.colab.kernel.accessAllowed ? 'block' : 'none';\n",
              "\n",
              "        async function convertToInteractive(key) {\n",
              "          const element = document.querySelector('#df-22253438-1cf2-4260-b956-4e62d6e52fc5');\n",
              "          const dataTable =\n",
              "            await google.colab.kernel.invokeFunction('convertToInteractive',\n",
              "                                                     [key], {});\n",
              "          if (!dataTable) return;\n",
              "\n",
              "          const docLinkHtml = 'Like what you see? Visit the ' +\n",
              "            '<a target=\"_blank\" href=https://colab.research.google.com/notebooks/data_table.ipynb>data table notebook</a>'\n",
              "            + ' to learn more about interactive tables.';\n",
              "          element.innerHTML = '';\n",
              "          dataTable['output_type'] = 'display_data';\n",
              "          await google.colab.output.renderOutput(dataTable, element);\n",
              "          const docLink = document.createElement('div');\n",
              "          docLink.innerHTML = docLinkHtml;\n",
              "          element.appendChild(docLink);\n",
              "        }\n",
              "      </script>\n",
              "    </div>\n",
              "  </div>\n",
              "  "
            ],
            "text/plain": [
              "   Unnamed: 0     FIPS               Admin2  ... Last Update Latitude Longitude\n",
              "0        1923  24047.0            Worcester  ...         NaN      NaN       NaN\n",
              "1        1924  25001.0           Barnstable  ...         NaN      NaN       NaN\n",
              "2        1925  25003.0            Berkshire  ...         NaN      NaN       NaN\n",
              "3        1926  25005.0              Bristol  ...         NaN      NaN       NaN\n",
              "4        1927      NaN  Dukes and Nantucket  ...         NaN      NaN       NaN\n",
              "\n",
              "[5 rows x 22 columns]"
            ]
          },
          "metadata": {},
          "execution_count": 35
        }
      ],
      "source": [
        "df.head()"
      ]
    },
    {
      "cell_type": "code",
      "source": [
        "df.info()\n",
        "# df.describe()"
      ],
      "metadata": {
        "colab": {
          "base_uri": "https://localhost:8080/"
        },
        "id": "abLL9At9ruO3",
        "outputId": "853e7b81-2e13-4ed2-8120-71eb58810891"
      },
      "id": "abLL9At9ruO3",
      "execution_count": null,
      "outputs": [
        {
          "output_type": "stream",
          "name": "stdout",
          "text": [
            "<class 'pandas.core.frame.DataFrame'>\n",
            "Int64Index: 2637010 entries, 0 to 527401\n",
            "Data columns (total 22 columns):\n",
            " #   Column               Dtype  \n",
            "---  ------               -----  \n",
            " 0   Unnamed: 0           int64  \n",
            " 1   FIPS                 float64\n",
            " 2   Admin2               object \n",
            " 3   Province_State       object \n",
            " 4   Country_Region       object \n",
            " 5   Last_Update          object \n",
            " 6   Lat                  float64\n",
            " 7   Long_                float64\n",
            " 8   Confirmed            float64\n",
            " 9   Deaths               float64\n",
            " 10  Recovered            float64\n",
            " 11  Active               float64\n",
            " 12  Combined_Key         object \n",
            " 13  Incidence_Rate       float64\n",
            " 14  Case-Fatality_Ratio  float64\n",
            " 15  Incident_Rate        float64\n",
            " 16  Case_Fatality_Ratio  float64\n",
            " 17  Province/State       object \n",
            " 18  Country/Region       object \n",
            " 19  Last Update          object \n",
            " 20  Latitude             float64\n",
            " 21  Longitude            float64\n",
            "dtypes: float64(13), int64(1), object(8)\n",
            "memory usage: 462.7+ MB\n"
          ]
        }
      ]
    },
    {
      "cell_type": "code",
      "source": [
        "valid_se = (~df.isna()).sum(axis=0)\n",
        "df_nans = pd.concat([valid_se, df.shape[0] - valid_se], axis=1)\n",
        "df_nans.columns = ['valid', 'NaNs']\n",
        "df_nans"
      ],
      "metadata": {
        "colab": {
          "base_uri": "https://localhost:8080/",
          "height": 739
        },
        "id": "dVed3-DCse2s",
        "outputId": "1580c49d-0ab6-4263-e850-f00216f14346"
      },
      "id": "dVed3-DCse2s",
      "execution_count": 36,
      "outputs": [
        {
          "output_type": "execute_result",
          "data": {
            "text/html": [
              "\n",
              "  <div id=\"df-178ab29d-d775-4785-bc7e-1d5d1cb39b36\">\n",
              "    <div class=\"colab-df-container\">\n",
              "      <div>\n",
              "<style scoped>\n",
              "    .dataframe tbody tr th:only-of-type {\n",
              "        vertical-align: middle;\n",
              "    }\n",
              "\n",
              "    .dataframe tbody tr th {\n",
              "        vertical-align: top;\n",
              "    }\n",
              "\n",
              "    .dataframe thead th {\n",
              "        text-align: right;\n",
              "    }\n",
              "</style>\n",
              "<table border=\"1\" class=\"dataframe\">\n",
              "  <thead>\n",
              "    <tr style=\"text-align: right;\">\n",
              "      <th></th>\n",
              "      <th>valid</th>\n",
              "      <th>NaNs</th>\n",
              "    </tr>\n",
              "  </thead>\n",
              "  <tbody>\n",
              "    <tr>\n",
              "      <th>Unnamed: 0</th>\n",
              "      <td>2637010</td>\n",
              "      <td>0</td>\n",
              "    </tr>\n",
              "    <tr>\n",
              "      <th>FIPS</th>\n",
              "      <td>2163669</td>\n",
              "      <td>473341</td>\n",
              "    </tr>\n",
              "    <tr>\n",
              "      <th>Admin2</th>\n",
              "      <td>2167116</td>\n",
              "      <td>469894</td>\n",
              "    </tr>\n",
              "    <tr>\n",
              "      <th>Province_State</th>\n",
              "      <td>2510659</td>\n",
              "      <td>126351</td>\n",
              "    </tr>\n",
              "    <tr>\n",
              "      <th>Country_Region</th>\n",
              "      <td>2628068</td>\n",
              "      <td>8942</td>\n",
              "    </tr>\n",
              "    <tr>\n",
              "      <th>Last_Update</th>\n",
              "      <td>2628068</td>\n",
              "      <td>8942</td>\n",
              "    </tr>\n",
              "    <tr>\n",
              "      <th>Lat</th>\n",
              "      <td>2571664</td>\n",
              "      <td>65346</td>\n",
              "    </tr>\n",
              "    <tr>\n",
              "      <th>Long_</th>\n",
              "      <td>2571664</td>\n",
              "      <td>65346</td>\n",
              "    </tr>\n",
              "    <tr>\n",
              "      <th>Confirmed</th>\n",
              "      <td>2636982</td>\n",
              "      <td>28</td>\n",
              "    </tr>\n",
              "    <tr>\n",
              "      <th>Deaths</th>\n",
              "      <td>2636576</td>\n",
              "      <td>434</td>\n",
              "    </tr>\n",
              "    <tr>\n",
              "      <th>Recovered</th>\n",
              "      <td>1449834</td>\n",
              "      <td>1187176</td>\n",
              "    </tr>\n",
              "    <tr>\n",
              "      <th>Active</th>\n",
              "      <td>1441276</td>\n",
              "      <td>1195734</td>\n",
              "    </tr>\n",
              "    <tr>\n",
              "      <th>Combined_Key</th>\n",
              "      <td>2628068</td>\n",
              "      <td>8942</td>\n",
              "    </tr>\n",
              "    <tr>\n",
              "      <th>Incidence_Rate</th>\n",
              "      <td>628375</td>\n",
              "      <td>2008635</td>\n",
              "    </tr>\n",
              "    <tr>\n",
              "      <th>Case-Fatality_Ratio</th>\n",
              "      <td>631860</td>\n",
              "      <td>2005150</td>\n",
              "    </tr>\n",
              "    <tr>\n",
              "      <th>Incident_Rate</th>\n",
              "      <td>1729940</td>\n",
              "      <td>907070</td>\n",
              "    </tr>\n",
              "    <tr>\n",
              "      <th>Case_Fatality_Ratio</th>\n",
              "      <td>1750049</td>\n",
              "      <td>886961</td>\n",
              "    </tr>\n",
              "    <tr>\n",
              "      <th>Province/State</th>\n",
              "      <td>5501</td>\n",
              "      <td>2631509</td>\n",
              "    </tr>\n",
              "    <tr>\n",
              "      <th>Country/Region</th>\n",
              "      <td>8942</td>\n",
              "      <td>2628068</td>\n",
              "    </tr>\n",
              "    <tr>\n",
              "      <th>Last Update</th>\n",
              "      <td>8942</td>\n",
              "      <td>2628068</td>\n",
              "    </tr>\n",
              "    <tr>\n",
              "      <th>Latitude</th>\n",
              "      <td>5219</td>\n",
              "      <td>2631791</td>\n",
              "    </tr>\n",
              "    <tr>\n",
              "      <th>Longitude</th>\n",
              "      <td>5219</td>\n",
              "      <td>2631791</td>\n",
              "    </tr>\n",
              "  </tbody>\n",
              "</table>\n",
              "</div>\n",
              "      <button class=\"colab-df-convert\" onclick=\"convertToInteractive('df-178ab29d-d775-4785-bc7e-1d5d1cb39b36')\"\n",
              "              title=\"Convert this dataframe to an interactive table.\"\n",
              "              style=\"display:none;\">\n",
              "        \n",
              "  <svg xmlns=\"http://www.w3.org/2000/svg\" height=\"24px\"viewBox=\"0 0 24 24\"\n",
              "       width=\"24px\">\n",
              "    <path d=\"M0 0h24v24H0V0z\" fill=\"none\"/>\n",
              "    <path d=\"M18.56 5.44l.94 2.06.94-2.06 2.06-.94-2.06-.94-.94-2.06-.94 2.06-2.06.94zm-11 1L8.5 8.5l.94-2.06 2.06-.94-2.06-.94L8.5 2.5l-.94 2.06-2.06.94zm10 10l.94 2.06.94-2.06 2.06-.94-2.06-.94-.94-2.06-.94 2.06-2.06.94z\"/><path d=\"M17.41 7.96l-1.37-1.37c-.4-.4-.92-.59-1.43-.59-.52 0-1.04.2-1.43.59L10.3 9.45l-7.72 7.72c-.78.78-.78 2.05 0 2.83L4 21.41c.39.39.9.59 1.41.59.51 0 1.02-.2 1.41-.59l7.78-7.78 2.81-2.81c.8-.78.8-2.07 0-2.86zM5.41 20L4 18.59l7.72-7.72 1.47 1.35L5.41 20z\"/>\n",
              "  </svg>\n",
              "      </button>\n",
              "      \n",
              "  <style>\n",
              "    .colab-df-container {\n",
              "      display:flex;\n",
              "      flex-wrap:wrap;\n",
              "      gap: 12px;\n",
              "    }\n",
              "\n",
              "    .colab-df-convert {\n",
              "      background-color: #E8F0FE;\n",
              "      border: none;\n",
              "      border-radius: 50%;\n",
              "      cursor: pointer;\n",
              "      display: none;\n",
              "      fill: #1967D2;\n",
              "      height: 32px;\n",
              "      padding: 0 0 0 0;\n",
              "      width: 32px;\n",
              "    }\n",
              "\n",
              "    .colab-df-convert:hover {\n",
              "      background-color: #E2EBFA;\n",
              "      box-shadow: 0px 1px 2px rgba(60, 64, 67, 0.3), 0px 1px 3px 1px rgba(60, 64, 67, 0.15);\n",
              "      fill: #174EA6;\n",
              "    }\n",
              "\n",
              "    [theme=dark] .colab-df-convert {\n",
              "      background-color: #3B4455;\n",
              "      fill: #D2E3FC;\n",
              "    }\n",
              "\n",
              "    [theme=dark] .colab-df-convert:hover {\n",
              "      background-color: #434B5C;\n",
              "      box-shadow: 0px 1px 3px 1px rgba(0, 0, 0, 0.15);\n",
              "      filter: drop-shadow(0px 1px 2px rgba(0, 0, 0, 0.3));\n",
              "      fill: #FFFFFF;\n",
              "    }\n",
              "  </style>\n",
              "\n",
              "      <script>\n",
              "        const buttonEl =\n",
              "          document.querySelector('#df-178ab29d-d775-4785-bc7e-1d5d1cb39b36 button.colab-df-convert');\n",
              "        buttonEl.style.display =\n",
              "          google.colab.kernel.accessAllowed ? 'block' : 'none';\n",
              "\n",
              "        async function convertToInteractive(key) {\n",
              "          const element = document.querySelector('#df-178ab29d-d775-4785-bc7e-1d5d1cb39b36');\n",
              "          const dataTable =\n",
              "            await google.colab.kernel.invokeFunction('convertToInteractive',\n",
              "                                                     [key], {});\n",
              "          if (!dataTable) return;\n",
              "\n",
              "          const docLinkHtml = 'Like what you see? Visit the ' +\n",
              "            '<a target=\"_blank\" href=https://colab.research.google.com/notebooks/data_table.ipynb>data table notebook</a>'\n",
              "            + ' to learn more about interactive tables.';\n",
              "          element.innerHTML = '';\n",
              "          dataTable['output_type'] = 'display_data';\n",
              "          await google.colab.output.renderOutput(dataTable, element);\n",
              "          const docLink = document.createElement('div');\n",
              "          docLink.innerHTML = docLinkHtml;\n",
              "          element.appendChild(docLink);\n",
              "        }\n",
              "      </script>\n",
              "    </div>\n",
              "  </div>\n",
              "  "
            ],
            "text/plain": [
              "                       valid     NaNs\n",
              "Unnamed: 0           2637010        0\n",
              "FIPS                 2163669   473341\n",
              "Admin2               2167116   469894\n",
              "Province_State       2510659   126351\n",
              "Country_Region       2628068     8942\n",
              "Last_Update          2628068     8942\n",
              "Lat                  2571664    65346\n",
              "Long_                2571664    65346\n",
              "Confirmed            2636982       28\n",
              "Deaths               2636576      434\n",
              "Recovered            1449834  1187176\n",
              "Active               1441276  1195734\n",
              "Combined_Key         2628068     8942\n",
              "Incidence_Rate        628375  2008635\n",
              "Case-Fatality_Ratio   631860  2005150\n",
              "Incident_Rate        1729940   907070\n",
              "Case_Fatality_Ratio  1750049   886961\n",
              "Province/State          5501  2631509\n",
              "Country/Region          8942  2628068\n",
              "Last Update             8942  2628068\n",
              "Latitude                5219  2631791\n",
              "Longitude               5219  2631791"
            ]
          },
          "metadata": {},
          "execution_count": 36
        }
      ]
    },
    {
      "cell_type": "code",
      "source": [
        "# df['Country_Region'].value_counts().head(25)\n",
        "# df['Country/Region'].value_counts().head(25)"
      ],
      "metadata": {
        "id": "H6j9L03tvmIA"
      },
      "id": "H6j9L03tvmIA",
      "execution_count": 15,
      "outputs": []
    },
    {
      "cell_type": "code",
      "source": [
        "duplicates = [['Province_State', 'Province/State'],\n",
        "              ['Country_Region', 'Country/Region'],\n",
        "              ['Last_Update', 'Last Update'],\n",
        "              ['Incident_Rate', 'Incidence_Rate'],\n",
        "              ['Lat', 'Latitude' ],\n",
        "              ['Long_', 'Longitude'],\n",
        "              ['Case-Fatality_Ratio', 'Case_Fatality_Ratio']\n",
        "]\n",
        "\n",
        "for pair in duplicates:\n",
        "    if df[pair[0]][~df[pair[1]].isna()].isna().all():\n",
        "        print(f'{pair[0]} и {pair[1]}: NaN и не NaN не пересекаютcя')\n",
        "    else:\n",
        "        print(f'{pair[0]} и {pair[1]} NaN и не NaN пересекаютcя')"
      ],
      "metadata": {
        "colab": {
          "base_uri": "https://localhost:8080/"
        },
        "id": "KIzevENx6Wag",
        "outputId": "3e6324e8-f16f-46be-c700-a028e2f54716"
      },
      "id": "KIzevENx6Wag",
      "execution_count": 37,
      "outputs": [
        {
          "output_type": "stream",
          "name": "stdout",
          "text": [
            "Province_State и Province/State: NaN и не NaN не пересекаютcя\n",
            "Country_Region и Country/Region: NaN и не NaN не пересекаютcя\n",
            "Last_Update и Last Update: NaN и не NaN не пересекаютcя\n",
            "Incident_Rate и Incidence_Rate: NaN и не NaN не пересекаютcя\n",
            "Lat и Latitude: NaN и не NaN не пересекаютcя\n",
            "Long_ и Longitude: NaN и не NaN не пересекаютcя\n",
            "Case-Fatality_Ratio и Case_Fatality_Ratio: NaN и не NaN не пересекаютcя\n"
          ]
        }
      ]
    },
    {
      "cell_type": "code",
      "source": [
        "# df = df.reindex()\n",
        "\n",
        "for pair in duplicates:\n",
        "    df.loc[~df[pair[1]].isna(), pair[0]] = df.loc[~df[pair[1]].isna(), pair[1]]\n",
        "    # df[pair[0]][~df[pair[1]].isna()] = df[pair[1]]"
      ],
      "metadata": {
        "id": "6NqNqEYH5qcj"
      },
      "id": "6NqNqEYH5qcj",
      "execution_count": 43,
      "outputs": []
    },
    {
      "cell_type": "markdown",
      "id": "599604c6-54f7-4982-9a90-f54e9e7ad03c",
      "metadata": {
        "jp-MarkdownHeadingCollapsed": true,
        "tags": [],
        "id": "599604c6-54f7-4982-9a90-f54e9e7ad03c"
      },
      "source": [
        "<h1>Итоги разведки данных</h1>\n",
        "<ol>\n",
        "<li>Содержатся некоторые лишние столбцы, которые дублируют друг друга.</li>\n",
        "<li>Содержатся регионы, от которых нам для простоты нужно избавиться.</li>\n",
        "<li>Поле Confirmed - это поле, к которому каждый день прибавляется некоторое число заболевших. То есть если нужно получить количество новых случаев в день - делаем шифт, вычетаем.</li>\n",
        "<li>Для простоты будем анализировать только большие страны (где Confirmed > 100000)</li>\n",
        "</ol>"
      ]
    },
    {
      "cell_type": "markdown",
      "id": "6c938bc1-cbbc-499f-b3e5-37d3d0724a5f",
      "metadata": {
        "tags": [],
        "id": "6c938bc1-cbbc-499f-b3e5-37d3d0724a5f"
      },
      "source": [
        "<h1>Предобработка</h1>"
      ]
    },
    {
      "cell_type": "code",
      "execution_count": null,
      "id": "05441260-7fd2-4e77-8c8f-bbc276ec892a",
      "metadata": {
        "id": "05441260-7fd2-4e77-8c8f-bbc276ec892a"
      },
      "outputs": [],
      "source": [
        "df[\"Last_Update\"] = pd.to_datetime(df[\"Last_Update\"]).dt.date\n",
        "df = df[[\"Country_Region\", \"Last_Update\", \"Confirmed\"]]\n",
        "df.dropna(inplace=True)\n",
        "\n",
        "# Избавляемся от региональности - смотрим в масштабе страны\n",
        "gr = df.groupby([\"Country_Region\", \"Last_Update\"]).sum().reset_index().copy()\n",
        "gr.index = gr[\"Last_Update\"].copy()\n",
        "del gr[\"Last_Update\"]\n",
        "gr.sort_index(inplace=True)"
      ]
    },
    {
      "cell_type": "code",
      "execution_count": 9,
      "id": "3206dd7e-4cbc-44d3-97c4-76d378b5754f",
      "metadata": {
        "id": "3206dd7e-4cbc-44d3-97c4-76d378b5754f"
      },
      "outputs": [],
      "source": [
        "del df"
      ]
    },
    {
      "cell_type": "code",
      "execution_count": null,
      "id": "f04ff046-3750-47f8-af31-cc4cc474d09f",
      "metadata": {
        "id": "f04ff046-3750-47f8-af31-cc4cc474d09f"
      },
      "outputs": [],
      "source": [
        "countries = []\n",
        "\n",
        "for country in np.unique(gr[\"Country_Region\"].to_numpy()):\n",
        "    if gr[gr[\"Country_Region\"] == country][\"Confirmed\"].iloc[-1] > 100000:\n",
        "        countries.append(country)"
      ]
    },
    {
      "cell_type": "code",
      "execution_count": null,
      "id": "cc2f3933-db98-4f62-9c05-4177e8f77cef",
      "metadata": {
        "id": "cc2f3933-db98-4f62-9c05-4177e8f77cef",
        "outputId": "551bb32d-3b78-4d6d-a2fd-f8887fbd1393"
      },
      "outputs": [
        {
          "data": {
            "text/plain": [
              "['Afghanistan',\n",
              " 'Albania',\n",
              " 'Algeria',\n",
              " 'Argentina',\n",
              " 'Armenia',\n",
              " 'Australia',\n",
              " 'Austria',\n",
              " 'Azerbaijan',\n",
              " 'Bahrain',\n",
              " 'Bangladesh']"
            ]
          },
          "execution_count": 17,
          "metadata": {},
          "output_type": "execute_result"
        }
      ],
      "source": [
        "countries[:10]"
      ]
    },
    {
      "cell_type": "code",
      "execution_count": null,
      "id": "907fc926-f9aa-49f4-ae41-1e55954f4093",
      "metadata": {
        "id": "907fc926-f9aa-49f4-ae41-1e55954f4093",
        "outputId": "f8458b06-a12e-4ed3-cd36-3007f23c7549"
      },
      "outputs": [
        {
          "data": {
            "text/plain": [
              "119"
            ]
          },
          "execution_count": 18,
          "metadata": {},
          "output_type": "execute_result"
        }
      ],
      "source": [
        "len(countries)"
      ]
    },
    {
      "cell_type": "code",
      "execution_count": null,
      "id": "e6059969-e4cb-42ec-8a03-5a7428bbdfd9",
      "metadata": {
        "id": "e6059969-e4cb-42ec-8a03-5a7428bbdfd9"
      },
      "outputs": [],
      "source": [
        "gr = gr[gr[\"Country_Region\"].isin(countries)]"
      ]
    },
    {
      "cell_type": "markdown",
      "id": "d4e1124d-592a-4dd5-a1f5-36bec51cf86a",
      "metadata": {
        "jp-MarkdownHeadingCollapsed": true,
        "tags": [],
        "id": "d4e1124d-592a-4dd5-a1f5-36bec51cf86a"
      },
      "source": [
        "<h1>Нахождение \"лага\"</h1>\n",
        "Ищем через смещение + максимальную корреляцию двух временных рядов."
      ]
    },
    {
      "cell_type": "code",
      "execution_count": null,
      "id": "303101fe-9a30-4232-af59-76613569d81c",
      "metadata": {
        "id": "303101fe-9a30-4232-af59-76613569d81c"
      },
      "outputs": [],
      "source": [
        "import itertools\n",
        "\n",
        "result = dict()\n",
        "for countries_pair in itertools.combinations(countries, 2):\n",
        "    c_one, c_two = countries_pair\n",
        "    if c_one == \"Russia\" or c_two == \"Russia\":\n",
        "        c1 = get_new_cases(gr, c_one)\n",
        "        c2 = get_new_cases(gr, c_two)\n",
        "        values = []\n",
        "        for i in range(-100, 100, 1):\n",
        "            values.append((c1.shift(i).corr(c2), i))\n",
        "            \n",
        "        result[countries_pair] = max(values, key=lambda x: x[0])"
      ]
    },
    {
      "cell_type": "code",
      "execution_count": null,
      "id": "f8b8c979-8fd2-4705-a94c-68aa03c0dcc8",
      "metadata": {
        "id": "f8b8c979-8fd2-4705-a94c-68aa03c0dcc8"
      },
      "outputs": [],
      "source": [
        "result_25 = sorted(\n",
        "    filter(\n",
        "        lambda x: x[1][0] == x[1][0] and ((x[1][1] < 0 and x[0][0] == \"Russia\") or (x[1][1] > 0 and x[0][1] == \"Russia\")), \n",
        "        result.items()), \n",
        "    key=lambda x: x[1], \n",
        "    reverse=True\n",
        ")\n",
        "\n",
        "def filter_results(result, country):\n",
        "    r = sorted(\n",
        "        filter(\n",
        "            lambda x: x[1][0] == x[1][0] and ((x[1][1] < 0 and x[0][0] == country) or (x[1][1] > 0 and x[0][1] == country)), \n",
        "            result.items()), \n",
        "        key=lambda x: x[1], \n",
        "        reverse=True\n",
        "    ) \n",
        "    res = []\n",
        "    for i in r:\n",
        "        first_country = i[0][0] == country\n",
        "        appended = (\n",
        "            i[0][1] if first_country else i[0][0],\n",
        "            i[1][1] if first_country else -i[1][1],\n",
        "            i[1][0]\n",
        "        )\n",
        "        res.append(appended)\n",
        "    \n",
        "    return res"
      ]
    },
    {
      "cell_type": "code",
      "execution_count": null,
      "id": "9d0713b5-ff72-4ccc-89c3-bb71fe5dfc8e",
      "metadata": {
        "id": "9d0713b5-ff72-4ccc-89c3-bb71fe5dfc8e",
        "outputId": "15b3146e-09fd-48d2-cb30-13441e278c8f"
      },
      "outputs": [
        {
          "name": "stdout",
          "output_type": "stream",
          "text": [
            "Iraq похожа на Russia с переносом 99 дней. Степень уверенности: 0.908748261889193\n",
            "Russia похожа на Uzbekistan с переносом -93 дней. Степень уверенности: 0.8710160218504092\n",
            "Costa Rica похожа на Russia с переносом 68 дней. Степень уверенности: 0.8523622645894275\n",
            "Georgia похожа на Russia с переносом 4 дней. Степень уверенности: 0.844125445335424\n",
            "Russia похожа на Venezuela с переносом -100 дней. Степень уверенности: 0.7784374885285897\n",
            "Guatemala похожа на Russia с переносом 84 дней. Степень уверенности: 0.7783459619359971\n",
            "Lithuania похожа на Russia с переносом 7 дней. Степень уверенности: 0.7749932966065529\n",
            "Libya похожа на Russia с переносом 92 дней. Степень уверенности: 0.762064071627624\n",
            "Philippines похожа на Russia с переносом 74 дней. Степень уверенности: 0.7562405325644483\n",
            "Kazakhstan похожа на Russia с переносом 95 дней. Степень уверенности: 0.7416325812836705\n"
          ]
        }
      ],
      "source": [
        "for i in result_25[:10]:\n",
        "    print(f\"{i[0][0]} похожа на {i[0][1]} с переносом {i[1][1]} дней. Степень уверенности: {i[1][0]}\")\n",
        "    # страна1 страна2 лаг степень уверенности"
      ]
    },
    {
      "cell_type": "code",
      "execution_count": null,
      "id": "f6392480-a8ff-4389-879e-9949dfaaa11e",
      "metadata": {
        "id": "f6392480-a8ff-4389-879e-9949dfaaa11e",
        "outputId": "cb9f6baa-ff06-4686-b02d-4a7480f43f14"
      },
      "outputs": [
        {
          "data": {
            "text/plain": [
              "[('Iraq', -99, 0.908748261889193),\n",
              " ('Uzbekistan', -93, 0.8710160218504092),\n",
              " ('Costa Rica', -68, 0.8523622645894275),\n",
              " ('Georgia', -4, 0.844125445335424),\n",
              " ('Venezuela', -100, 0.7784374885285897),\n",
              " ('Guatemala', -84, 0.7783459619359971),\n",
              " ('Lithuania', -7, 0.7749932966065529),\n",
              " ('Libya', -92, 0.762064071627624),\n",
              " ('Philippines', -74, 0.7562405325644483),\n",
              " ('Kazakhstan', -95, 0.7416325812836705),\n",
              " ('Iran', -83, 0.7370515778807922),\n",
              " ('Thailand', -80, 0.7301096556588234),\n",
              " ('Honduras', -99, 0.7275809264980097),\n",
              " ('Malaysia', -75, 0.7262985301857369),\n",
              " ('Cuba', -83, 0.7242668789233618),\n",
              " ('Bangladesh', -99, 0.72172708336647),\n",
              " ('Botswana', -96, 0.7069316265974488),\n",
              " ('Mongolia', -56, 0.7062839449027435),\n",
              " ('Latvia', -8, 0.6924324927587389),\n",
              " ('Sri Lanka', -70, 0.6819777123053963),\n",
              " ('Romania', -23, 0.6701013090758025),\n",
              " ('Burma', -91, 0.6603178969587536),\n",
              " ('Australia', -34, 0.6589997101514076),\n",
              " ('Rwanda', -100, 0.6580545570698594),\n",
              " ('Morocco', -80, 0.6558763716872278),\n",
              " ('Ukraine', -6, 0.6466957372030133),\n",
              " ('Cambodia', -99, 0.6462226928345457),\n",
              " ('Japan', -80, 0.6338408560856287),\n",
              " ('Serbia', -21, 0.6256873480094801),\n",
              " ('Singapore', -17, 0.6203070186084904),\n",
              " ('Indonesia', -99, 0.6098830212429908),\n",
              " ('Bulgaria', -13, 0.5927472814569671),\n",
              " ('Armenia', -24, 0.5830828145231713),\n",
              " ('Kenya', -98, 0.5648393390192655),\n",
              " ('Tunisia', -100, 0.5496194621921907),\n",
              " ('Azerbaijan', -3, 0.5382636902081713),\n",
              " ('Nepal', -68, 0.5078979140694273),\n",
              " ('Algeria', -99, 0.4827649564788003),\n",
              " ('Kyrgyzstan', -99, 0.46501239082157236),\n",
              " ('Argentina', -99, 0.44289167214630043),\n",
              " ('Uganda', -63, 0.4324766843324337),\n",
              " ('El Salvador', -99, 0.36991797026372353),\n",
              " ('Kosovo', -76, 0.3697339261120062),\n",
              " ('Namibia', -99, 0.35718763658221125),\n",
              " ('India', -83, 0.3496335597071015),\n",
              " ('Colombia', -99, 0.307142528978078),\n",
              " ('Kuwait', -99, 0.2795047557597321),\n",
              " ('Maldives', -65, 0.2406924092938141),\n",
              " ('Brazil', -99, 0.23812495752255572),\n",
              " ('Oman', -99, 0.21166134367684164),\n",
              " ('Pakistan', -94, 0.1897576100066316),\n",
              " ('Afghanistan', -99, 0.144013335919418),\n",
              " ('Saudi Arabia', -100, -0.13541001726650856)]"
            ]
          },
          "execution_count": 14,
          "metadata": {},
          "output_type": "execute_result"
        }
      ],
      "source": [
        "filter_results(result, \"Russia\")"
      ]
    },
    {
      "cell_type": "code",
      "execution_count": null,
      "id": "3c938af6-2738-4bbb-9c47-13301dadf9eb",
      "metadata": {
        "id": "3c938af6-2738-4bbb-9c47-13301dadf9eb",
        "outputId": "45d404e3-b371-4c56-9bf0-e40097bec408"
      },
      "outputs": [
        {
          "data": {
            "image/png": "[encoded data removed]",
            "text/plain": [
              "<Figure size 432x288 with 1 Axes>"
            ]
          },
          "metadata": {
            "needs_background": "light"
          },
          "output_type": "display_data"
        },
        {
          "data": {
            "image/png": "[encoded data removed]",
            "text/plain": [
              "<Figure size 432x288 with 1 Axes>"
            ]
          },
          "metadata": {
            "needs_background": "light"
          },
          "output_type": "display_data"
        }
      ],
      "source": [
        "get_plot(\"Russia\", \"Iraq\")"
      ]
    },
    {
      "cell_type": "code",
      "execution_count": null,
      "id": "6af54e6d-104d-4c26-9053-54459fc5fc6d",
      "metadata": {
        "id": "6af54e6d-104d-4c26-9053-54459fc5fc6d"
      },
      "outputs": [],
      "source": [
        "# import itertools\n",
        "\n",
        "# delim = ';'\n",
        "# result = dict()\n",
        "# with open(\"graph.csv\", \"w\") as f:\n",
        "#     f.write(f\"Country1{delim}Country2{delim}Lag{delim}Degree_of_certainty\\n\")\n",
        "#     for coutries_pair in itertools.combinations(countries, 2):\n",
        "#         c_one, c_two = coutries_pair\n",
        "#         c1 = get_new_cases(gr, c_one)\n",
        "#         c2 = get_new_cases(gr, c_two)\n",
        "#         values = []\n",
        "#         for i in range(-100, 100, 1):\n",
        "#             values.append((c1.shift(i).corr(c2), i))\n",
        "\n",
        "        \n",
        "#         r = max(values, key=lambda x: x[0])\n",
        "#         f.write(f\"{c_one}{delim}{c_two}{delim}{r[1]}{delim}{r[0]}\\n\")"
      ]
    },
    {
      "cell_type": "code",
      "execution_count": null,
      "id": "a2414a32-3fc7-4bfe-aeaf-1c0c423faf7d",
      "metadata": {
        "id": "a2414a32-3fc7-4bfe-aeaf-1c0c423faf7d",
        "outputId": "47a4014c-e808-4999-b942-761c85cccbed"
      },
      "outputs": [
        {
          "data": {
            "image/png": "[encoded data removed]",
            "text/plain": [
              "<Figure size 432x288 with 1 Axes>"
            ]
          },
          "metadata": {
            "needs_background": "light"
          },
          "output_type": "display_data"
        },
        {
          "data": {
            "image/png": "[encoded data removed]",
            "text/plain": [
              "<Figure size 432x288 with 1 Axes>"
            ]
          },
          "metadata": {
            "needs_background": "light"
          },
          "output_type": "display_data"
        }
      ],
      "source": [
        "get_plot(\"Russia\", \"Belarus\")"
      ]
    },
    {
      "cell_type": "markdown",
      "id": "8a481521-c3e0-4ebf-9dd6-a3656ff86f5d",
      "metadata": {
        "jp-MarkdownHeadingCollapsed": true,
        "tags": [],
        "id": "8a481521-c3e0-4ebf-9dd6-a3656ff86f5d"
      },
      "source": [
        "<h1>Предикт (модель)</h1>\n",
        "<ol>\n",
        "    <li>Для предикта используем последнюю неделю по заражению в данной конкретной стране</li>\n",
        "    <li>Так же используем максимально похожие страны (пусть будет 25 стран) для взятия \"степени крутости\" на конкретный день</li>\n",
        "    <li>Возьмём численную производную ещё и по той неделе, которую анализируем.</li>\n",
        "</ol>"
      ]
    },
    {
      "cell_type": "code",
      "execution_count": null,
      "id": "d3cabfe9-77c7-4840-9459-fa4c8065262b",
      "metadata": {
        "id": "d3cabfe9-77c7-4840-9459-fa4c8065262b"
      },
      "outputs": [],
      "source": [
        "# (5 производных на момент ) (7 предыдущих дней новые кейсы) -> следующий день\n",
        "def get_derivatives(df, graph_data, top_n=5):\n",
        "    \"\"\"Вернём производные топ 5ти похожих стран, которые идут до текущей страны\"\"\"\n",
        "    derivatives = []\n",
        "    for i, (country, day_ago, conf) in enumerate(filter(lambda x: x[1] < 0, graph_data)):\n",
        "        if i + 1 == top_n:\n",
        "            break\n",
        "        \n",
        "        country_data = df[df[\"Country_Region\"] == country].shift(day_ago)[\"New_Cases\"].iloc[:2].to_numpy()\n",
        "        derivative = country_data[1] - country_data[0]  # численная производная, единица времени = день\n",
        "        # Если нан - пусть производная будет единицей\n",
        "        if not derivative:\n",
        "            derivative = 1\n",
        "        \n",
        "        derivatives.append(derivative)\n",
        "        \n",
        "    return derivatives"
      ]
    },
    {
      "cell_type": "markdown",
      "id": "91dfd9e0-0f55-44cb-a88d-c0a06b2dea43",
      "metadata": {
        "tags": [],
        "id": "91dfd9e0-0f55-44cb-a88d-c0a06b2dea43"
      },
      "source": [
        "<h1>Предикт - бейзлайн</h1>"
      ]
    },
    {
      "cell_type": "code",
      "execution_count": null,
      "id": "cc21f80d-cfd5-462d-a077-b7966c2b4a37",
      "metadata": {
        "id": "cc21f80d-cfd5-462d-a077-b7966c2b4a37"
      },
      "outputs": [],
      "source": [
        "def get_predict(df, predict_country, graph_data) -> int:\n",
        "    \"\"\"Вернёт цифирь, которая предсказывает заболеваемость для конкретной страны\"\"\"\n",
        "    def get_mean(d, c, shift=0, deriv=False):\n",
        "        \"\"\"Взятие среднего за 7 дней периода, на который похожа predict_country страна в данный момент\"\"\"\n",
        "        d_country = d[d[\"Country_Region\"] == c].copy()\n",
        "        new_cases = (d_country[\"Confirmed\"] - d_country[\"Confirmed\"].shift(1)).dropna()\n",
        "        all_cases = d_country[\"Confirmed\"].iloc[-1]\n",
        "        if shift != 0:\n",
        "            seven_days_mean = new_cases.iloc[shift-7:shift].to_numpy().mean()\n",
        "        else:\n",
        "            seven_days_mean = new_cases.iloc[-7:].to_numpy().mean()\n",
        "\n",
        "        if seven_days_mean != seven_days_mean:\n",
        "            return 0, all_cases\n",
        "        if deriv:\n",
        "            # Возвращаем коэффициент, который показывает во сколько раз растёт заболеваемость\n",
        "            return new_cases.iloc[-1] / new_cases.iloc[-2], seven_days_mean, all_cases\n",
        "        else:\n",
        "            return seven_days_mean, all_cases\n",
        "\n",
        "    d, mean, all_cases = get_mean(df, predict_country, deriv=True)\n",
        "\n",
        "    result = 0\n",
        "    weights = 0\n",
        "    for country, lag, weight in graph_data:\n",
        "        current_mean, current_cases = get_mean(df, country, lag)\n",
        "        # Масштабируем число заражённых под данную страну\n",
        "        coef = all_cases / current_cases\n",
        "        # Берём коэффициент, на которым будем домножать\n",
        "        current_mean = current_mean * coef\n",
        "        # Суммируем\n",
        "        weights += weight\n",
        "        result += current_mean * weight\n",
        "\n",
        "    return int(result / weights * d)"
      ]
    },
    {
      "cell_type": "code",
      "execution_count": null,
      "id": "fd82e4bf-e6a6-435d-8c8c-966230b0dd73",
      "metadata": {
        "id": "fd82e4bf-e6a6-435d-8c8c-966230b0dd73",
        "outputId": "36fdd134-572f-4a6b-c0b1-82ea0337421e"
      },
      "outputs": [
        {
          "data": {
            "text/plain": [
              "17662"
            ]
          },
          "execution_count": 20,
          "metadata": {},
          "output_type": "execute_result"
        }
      ],
      "source": [
        "get_predict(gr, \"Russia\", filter_results(result, \"Russia\"))"
      ]
    },
    {
      "cell_type": "code",
      "execution_count": null,
      "id": "954f7111-ec3e-4199-8e53-45988cb1383b",
      "metadata": {
        "id": "954f7111-ec3e-4199-8e53-45988cb1383b",
        "outputId": "c0f2feae-d00b-416a-873f-f79e3d9986cc"
      },
      "outputs": [
        {
          "data": {
            "text/plain": [
              "[('Iraq', -99, 0.908748261889193),\n",
              " ('Uzbekistan', -93, 0.8710160218504092),\n",
              " ('Costa Rica', -68, 0.8523622645894275),\n",
              " ('Georgia', -4, 0.844125445335424),\n",
              " ('Venezuela', -100, 0.7784374885285897)]"
            ]
          },
          "execution_count": 21,
          "metadata": {},
          "output_type": "execute_result"
        }
      ],
      "source": [
        "filter_results(result, \"Russia\")[:5]"
      ]
    },
    {
      "cell_type": "code",
      "execution_count": null,
      "id": "f0b9b26e-2ef4-443c-b674-f88fcca4a099",
      "metadata": {
        "id": "f0b9b26e-2ef4-443c-b674-f88fcca4a099"
      },
      "outputs": [],
      "source": [
        "r = gr[gr[\"Country_Region\"] == \"Russia\"].copy()\n",
        "r[\"New_Cases\"] = (r[\"Confirmed\"] - r[\"Confirmed\"].shift(1)).dropna()\n",
        "r.to_csv(\"russia_data.csv\")"
      ]
    },
    {
      "cell_type": "code",
      "execution_count": null,
      "id": "6c9356db-1a4b-4158-ae54-078c7369dca0",
      "metadata": {
        "id": "6c9356db-1a4b-4158-ae54-078c7369dca0"
      },
      "outputs": [],
      "source": [
        ""
      ]
    }
  ],
  "metadata": {
    "kernelspec": {
      "display_name": "Python 3 (ipykernel)",
      "language": "python",
      "name": "python3"
    },
    "language_info": {
      "codemirror_mode": {
        "name": "ipython",
        "version": 3
      },
      "file_extension": ".py",
      "mimetype": "text/x-python",
      "name": "python",
      "nbconvert_exporter": "python",
      "pygments_lexer": "ipython3",
      "version": "3.9.7"
    },
    "colab": {
      "name": "get_dataframe.ipynb",
      "provenance": [],
      "include_colab_link": true
    }
  },
  "nbformat": 4,
  "nbformat_minor": 5
}