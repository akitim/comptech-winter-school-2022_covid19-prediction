{
  "cells": [
    {
      "cell_type": "markdown",
      "metadata": {
        "id": "view-in-github",
        "colab_type": "text"
      },
      "source": [
        "<a href=\"https://colab.research.google.com/github/akitim/comptech-winter-school-2022_covid19-prediction/blob/main/prepare_data.ipynb\" target=\"_parent\"><img src=\"https://colab.research.google.com/assets/colab-badge.svg\" alt=\"Open In Colab\"/></a>"
      ]
    },
    {
      "cell_type": "code",
      "execution_count": 2,
      "id": "d9663d19",
      "metadata": {
        "id": "d9663d19"
      },
      "outputs": [],
      "source": [
        "import pandas as pd\n",
        "from pathlib import Path"
      ]
    },
    {
      "cell_type": "code",
      "source": [
        "!git clone https://github.com/comptech-winter-school/covid19-prediction"
      ],
      "metadata": {
        "colab": {
          "base_uri": "https://localhost:8080/"
        },
        "id": "G9qwCoUjze_M",
        "outputId": "48233fdf-6e58-4326-c871-a60be34d9ccd"
      },
      "id": "G9qwCoUjze_M",
      "execution_count": 20,
      "outputs": [
        {
          "output_type": "stream",
          "name": "stdout",
          "text": [
            "fatal: destination path 'covid19-prediction' already exists and is not an empty directory.\n"
          ]
        }
      ]
    },
    {
      "cell_type": "code",
      "source": [
        "path = \"covid19-prediction\"\n",
        "all_files = Path(path).glob(\"data*.csv\") \n",
        "\n",
        "df = pd.concat(map(pd.read_csv, all_files));"
      ],
      "metadata": {
        "colab": {
          "base_uri": "https://localhost:8080/"
        },
        "id": "xT9jGwq1zg5F",
        "outputId": "d811821e-8fbf-4939-ba34-ab10f5782a39"
      },
      "id": "xT9jGwq1zg5F",
      "execution_count": 46,
      "outputs": [
        {
          "output_type": "stream",
          "name": "stderr",
          "text": [
            "/usr/local/lib/python3.7/dist-packages/IPython/core/interactiveshell.py:2882: DtypeWarning: Columns (17,18,19) have mixed types.Specify dtype option on import or set low_memory=False.\n",
            "  exec(code_obj, self.user_global_ns, self.user_ns)\n"
          ]
        }
      ]
    },
    {
      "cell_type": "code",
      "execution_count": 14,
      "id": "cc4733a5",
      "metadata": {
        "id": "cc4733a5"
      },
      "outputs": [],
      "source": [
        "# path = \"COVID-19/csse_covid_19_data/csse_covid_19_daily_reports\"\n",
        "# all_files = Path(path).glob(\"*.csv\") \n",
        "\n",
        "# df = pd.concat(map(pd.read_csv, all_files))"
      ]
    },
    {
      "cell_type": "code",
      "execution_count": 15,
      "id": "72c25be2",
      "metadata": {
        "colab": {
          "base_uri": "https://localhost:8080/"
        },
        "id": "72c25be2",
        "outputId": "32e4aca1-65ba-422f-8cfb-e5ed05789d3d"
      },
      "outputs": [
        {
          "output_type": "execute_result",
          "data": {
            "text/plain": [
              "(2637010, 22)"
            ]
          },
          "metadata": {},
          "execution_count": 15
        }
      ],
      "source": [
        "df.shape"
      ]
    },
    {
      "cell_type": "code",
      "execution_count": 16,
      "id": "c61f1387",
      "metadata": {
        "scrolled": true,
        "colab": {
          "base_uri": "https://localhost:8080/",
          "height": 426
        },
        "id": "c61f1387",
        "outputId": "bc5336e6-6aee-4698-d880-7fbe8fc5215d"
      },
      "outputs": [
        {
          "output_type": "execute_result",
          "data": {
            "text/html": [
              "\n",
              "  <div id=\"df-0f25e518-05f9-4a4b-b1fa-9504db01f684\">\n",
              "    <div class=\"colab-df-container\">\n",
              "      <div>\n",
              "<style scoped>\n",
              "    .dataframe tbody tr th:only-of-type {\n",
              "        vertical-align: middle;\n",
              "    }\n",
              "\n",
              "    .dataframe tbody tr th {\n",
              "        vertical-align: top;\n",
              "    }\n",
              "\n",
              "    .dataframe thead th {\n",
              "        text-align: right;\n",
              "    }\n",
              "</style>\n",
              "<table border=\"1\" class=\"dataframe\">\n",
              "  <thead>\n",
              "    <tr style=\"text-align: right;\">\n",
              "      <th></th>\n",
              "      <th>Unnamed: 0</th>\n",
              "      <th>FIPS</th>\n",
              "      <th>Admin2</th>\n",
              "      <th>Province_State</th>\n",
              "      <th>Country_Region</th>\n",
              "      <th>Last_Update</th>\n",
              "      <th>Lat</th>\n",
              "      <th>Long_</th>\n",
              "      <th>Confirmed</th>\n",
              "      <th>Deaths</th>\n",
              "      <th>Recovered</th>\n",
              "      <th>Active</th>\n",
              "      <th>Combined_Key</th>\n",
              "      <th>Incidence_Rate</th>\n",
              "      <th>Case-Fatality_Ratio</th>\n",
              "      <th>Incident_Rate</th>\n",
              "      <th>Case_Fatality_Ratio</th>\n",
              "      <th>Province/State</th>\n",
              "      <th>Country/Region</th>\n",
              "      <th>Last Update</th>\n",
              "      <th>Latitude</th>\n",
              "      <th>Longitude</th>\n",
              "    </tr>\n",
              "  </thead>\n",
              "  <tbody>\n",
              "    <tr>\n",
              "      <th>0</th>\n",
              "      <td>485</td>\n",
              "      <td>22027.0</td>\n",
              "      <td>Claiborne</td>\n",
              "      <td>Louisiana</td>\n",
              "      <td>US</td>\n",
              "      <td>2020-05-24 02:32:43</td>\n",
              "      <td>32.823085</td>\n",
              "      <td>-92.995269</td>\n",
              "      <td>58.0</td>\n",
              "      <td>10.0</td>\n",
              "      <td>0.0</td>\n",
              "      <td>48.0</td>\n",
              "      <td>Claiborne, Louisiana, US</td>\n",
              "      <td>NaN</td>\n",
              "      <td>NaN</td>\n",
              "      <td>NaN</td>\n",
              "      <td>NaN</td>\n",
              "      <td>NaN</td>\n",
              "      <td>NaN</td>\n",
              "      <td>NaN</td>\n",
              "      <td>NaN</td>\n",
              "      <td>NaN</td>\n",
              "    </tr>\n",
              "    <tr>\n",
              "      <th>1</th>\n",
              "      <td>486</td>\n",
              "      <td>28021.0</td>\n",
              "      <td>Claiborne</td>\n",
              "      <td>Mississippi</td>\n",
              "      <td>US</td>\n",
              "      <td>2020-05-24 02:32:43</td>\n",
              "      <td>31.970617</td>\n",
              "      <td>-90.907022</td>\n",
              "      <td>57.0</td>\n",
              "      <td>1.0</td>\n",
              "      <td>0.0</td>\n",
              "      <td>56.0</td>\n",
              "      <td>Claiborne, Mississippi, US</td>\n",
              "      <td>NaN</td>\n",
              "      <td>NaN</td>\n",
              "      <td>NaN</td>\n",
              "      <td>NaN</td>\n",
              "      <td>NaN</td>\n",
              "      <td>NaN</td>\n",
              "      <td>NaN</td>\n",
              "      <td>NaN</td>\n",
              "      <td>NaN</td>\n",
              "    </tr>\n",
              "    <tr>\n",
              "      <th>2</th>\n",
              "      <td>487</td>\n",
              "      <td>47025.0</td>\n",
              "      <td>Claiborne</td>\n",
              "      <td>Tennessee</td>\n",
              "      <td>US</td>\n",
              "      <td>2020-05-24 02:32:43</td>\n",
              "      <td>36.483191</td>\n",
              "      <td>-83.659473</td>\n",
              "      <td>8.0</td>\n",
              "      <td>0.0</td>\n",
              "      <td>0.0</td>\n",
              "      <td>8.0</td>\n",
              "      <td>Claiborne, Tennessee, US</td>\n",
              "      <td>NaN</td>\n",
              "      <td>NaN</td>\n",
              "      <td>NaN</td>\n",
              "      <td>NaN</td>\n",
              "      <td>NaN</td>\n",
              "      <td>NaN</td>\n",
              "      <td>NaN</td>\n",
              "      <td>NaN</td>\n",
              "      <td>NaN</td>\n",
              "    </tr>\n",
              "    <tr>\n",
              "      <th>3</th>\n",
              "      <td>488</td>\n",
              "      <td>53009.0</td>\n",
              "      <td>Clallam</td>\n",
              "      <td>Washington</td>\n",
              "      <td>US</td>\n",
              "      <td>2020-05-24 02:32:43</td>\n",
              "      <td>48.047546</td>\n",
              "      <td>-123.922632</td>\n",
              "      <td>25.0</td>\n",
              "      <td>0.0</td>\n",
              "      <td>0.0</td>\n",
              "      <td>25.0</td>\n",
              "      <td>Clallam, Washington, US</td>\n",
              "      <td>NaN</td>\n",
              "      <td>NaN</td>\n",
              "      <td>NaN</td>\n",
              "      <td>NaN</td>\n",
              "      <td>NaN</td>\n",
              "      <td>NaN</td>\n",
              "      <td>NaN</td>\n",
              "      <td>NaN</td>\n",
              "      <td>NaN</td>\n",
              "    </tr>\n",
              "    <tr>\n",
              "      <th>4</th>\n",
              "      <td>489</td>\n",
              "      <td>26035.0</td>\n",
              "      <td>Clare</td>\n",
              "      <td>Michigan</td>\n",
              "      <td>US</td>\n",
              "      <td>2020-05-24 02:32:43</td>\n",
              "      <td>43.987942</td>\n",
              "      <td>-84.848199</td>\n",
              "      <td>17.0</td>\n",
              "      <td>2.0</td>\n",
              "      <td>0.0</td>\n",
              "      <td>15.0</td>\n",
              "      <td>Clare, Michigan, US</td>\n",
              "      <td>NaN</td>\n",
              "      <td>NaN</td>\n",
              "      <td>NaN</td>\n",
              "      <td>NaN</td>\n",
              "      <td>NaN</td>\n",
              "      <td>NaN</td>\n",
              "      <td>NaN</td>\n",
              "      <td>NaN</td>\n",
              "      <td>NaN</td>\n",
              "    </tr>\n",
              "  </tbody>\n",
              "</table>\n",
              "</div>\n",
              "      <button class=\"colab-df-convert\" onclick=\"convertToInteractive('df-0f25e518-05f9-4a4b-b1fa-9504db01f684')\"\n",
              "              title=\"Convert this dataframe to an interactive table.\"\n",
              "              style=\"display:none;\">\n",
              "        \n",
              "  <svg xmlns=\"http://www.w3.org/2000/svg\" height=\"24px\"viewBox=\"0 0 24 24\"\n",
              "       width=\"24px\">\n",
              "    <path d=\"M0 0h24v24H0V0z\" fill=\"none\"/>\n",
              "    <path d=\"M18.56 5.44l.94 2.06.94-2.06 2.06-.94-2.06-.94-.94-2.06-.94 2.06-2.06.94zm-11 1L8.5 8.5l.94-2.06 2.06-.94-2.06-.94L8.5 2.5l-.94 2.06-2.06.94zm10 10l.94 2.06.94-2.06 2.06-.94-2.06-.94-.94-2.06-.94 2.06-2.06.94z\"/><path d=\"M17.41 7.96l-1.37-1.37c-.4-.4-.92-.59-1.43-.59-.52 0-1.04.2-1.43.59L10.3 9.45l-7.72 7.72c-.78.78-.78 2.05 0 2.83L4 21.41c.39.39.9.59 1.41.59.51 0 1.02-.2 1.41-.59l7.78-7.78 2.81-2.81c.8-.78.8-2.07 0-2.86zM5.41 20L4 18.59l7.72-7.72 1.47 1.35L5.41 20z\"/>\n",
              "  </svg>\n",
              "      </button>\n",
              "      \n",
              "  <style>\n",
              "    .colab-df-container {\n",
              "      display:flex;\n",
              "      flex-wrap:wrap;\n",
              "      gap: 12px;\n",
              "    }\n",
              "\n",
              "    .colab-df-convert {\n",
              "      background-color: #E8F0FE;\n",
              "      border: none;\n",
              "      border-radius: 50%;\n",
              "      cursor: pointer;\n",
              "      display: none;\n",
              "      fill: #1967D2;\n",
              "      height: 32px;\n",
              "      padding: 0 0 0 0;\n",
              "      width: 32px;\n",
              "    }\n",
              "\n",
              "    .colab-df-convert:hover {\n",
              "      background-color: #E2EBFA;\n",
              "      box-shadow: 0px 1px 2px rgba(60, 64, 67, 0.3), 0px 1px 3px 1px rgba(60, 64, 67, 0.15);\n",
              "      fill: #174EA6;\n",
              "    }\n",
              "\n",
              "    [theme=dark] .colab-df-convert {\n",
              "      background-color: #3B4455;\n",
              "      fill: #D2E3FC;\n",
              "    }\n",
              "\n",
              "    [theme=dark] .colab-df-convert:hover {\n",
              "      background-color: #434B5C;\n",
              "      box-shadow: 0px 1px 3px 1px rgba(0, 0, 0, 0.15);\n",
              "      filter: drop-shadow(0px 1px 2px rgba(0, 0, 0, 0.3));\n",
              "      fill: #FFFFFF;\n",
              "    }\n",
              "  </style>\n",
              "\n",
              "      <script>\n",
              "        const buttonEl =\n",
              "          document.querySelector('#df-0f25e518-05f9-4a4b-b1fa-9504db01f684 button.colab-df-convert');\n",
              "        buttonEl.style.display =\n",
              "          google.colab.kernel.accessAllowed ? 'block' : 'none';\n",
              "\n",
              "        async function convertToInteractive(key) {\n",
              "          const element = document.querySelector('#df-0f25e518-05f9-4a4b-b1fa-9504db01f684');\n",
              "          const dataTable =\n",
              "            await google.colab.kernel.invokeFunction('convertToInteractive',\n",
              "                                                     [key], {});\n",
              "          if (!dataTable) return;\n",
              "\n",
              "          const docLinkHtml = 'Like what you see? Visit the ' +\n",
              "            '<a target=\"_blank\" href=https://colab.research.google.com/notebooks/data_table.ipynb>data table notebook</a>'\n",
              "            + ' to learn more about interactive tables.';\n",
              "          element.innerHTML = '';\n",
              "          dataTable['output_type'] = 'display_data';\n",
              "          await google.colab.output.renderOutput(dataTable, element);\n",
              "          const docLink = document.createElement('div');\n",
              "          docLink.innerHTML = docLinkHtml;\n",
              "          element.appendChild(docLink);\n",
              "        }\n",
              "      </script>\n",
              "    </div>\n",
              "  </div>\n",
              "  "
            ],
            "text/plain": [
              "   Unnamed: 0     FIPS     Admin2  ... Last Update Latitude Longitude\n",
              "0         485  22027.0  Claiborne  ...         NaN      NaN       NaN\n",
              "1         486  28021.0  Claiborne  ...         NaN      NaN       NaN\n",
              "2         487  47025.0  Claiborne  ...         NaN      NaN       NaN\n",
              "3         488  53009.0    Clallam  ...         NaN      NaN       NaN\n",
              "4         489  26035.0      Clare  ...         NaN      NaN       NaN\n",
              "\n",
              "[5 rows x 22 columns]"
            ]
          },
          "metadata": {},
          "execution_count": 16
        }
      ],
      "source": [
        "df.head()"
      ]
    },
    {
      "cell_type": "code",
      "source": [
        "def merge_columns(f1, f2, df):\n",
        "    d = df.loc[:, [f1, f2]].copy().reset_index()\n",
        "    d.loc[d[f1].isna(), f1] = d.loc[~d[f2].isna(), f2]\n",
        "    # result = d[f1]\n",
        "    # result[result.isna()] = d.loc[result.isna(), f2]\n",
        "    return d[f1]"
      ],
      "metadata": {
        "id": "ZJ5LIbDLy8us"
      },
      "id": "ZJ5LIbDLy8us",
      "execution_count": 38,
      "outputs": []
    },
    {
      "cell_type": "code",
      "execution_count": 23,
      "id": "b353dca7",
      "metadata": {
        "id": "b353dca7"
      },
      "outputs": [],
      "source": [
        "def remove_small_countries(df):\n",
        "    countries = df.groupby(\"Country_Region\").last().query('Confirmed > 100000').index.to_list()\n",
        "    return df[df.Country_Region.isin(countries)]"
      ]
    },
    {
      "cell_type": "code",
      "execution_count": 24,
      "id": "1a22aab6",
      "metadata": {
        "id": "1a22aab6"
      },
      "outputs": [],
      "source": [
        "def report_shape(df):\n",
        "    print(df.shape)\n",
        "    return df"
      ]
    },
    {
      "cell_type": "code",
      "execution_count": 51,
      "id": "943bd635",
      "metadata": {
        "colab": {
          "base_uri": "https://localhost:8080/"
        },
        "id": "943bd635",
        "outputId": "ba05ba65-4343-495f-eff5-27b67b93cda3"
      },
      "outputs": [
        {
          "output_type": "stream",
          "name": "stdout",
          "text": [
            "(72968, 2)\n"
          ]
        }
      ],
      "source": [
        "(df\n",
        " .assign(Country_Region = merge_columns(\"Country_Region\", \"Country/Region\", df))\n",
        " .assign(Last_Update = merge_columns(\"Last_Update\", \"Last Update\", df))\n",
        " .assign(Last_Update = pd.to_datetime(df[\"Last_Update\"]).dt.date)\n",
        " .loc[:, [\"Country_Region\", \"Last_Update\", \"Confirmed\"]]\n",
        " .dropna()\n",
        " .groupby([\"Country_Region\", \"Last_Update\"])\n",
        " .sum()\n",
        " .reset_index()\n",
        " .set_index(\"Last_Update\")\n",
        " .sort_index()\n",
        " .pipe(remove_small_countries)\n",
        " .pipe(report_shape)\n",
        " .to_parquet(\"tmp/data.parquet\")\n",
        ")"
      ]
    },
    {
      "cell_type": "code",
      "source": [
        "df.columns"
      ],
      "metadata": {
        "colab": {
          "base_uri": "https://localhost:8080/"
        },
        "id": "q9YY0ZXIUJV8",
        "outputId": "71bdfd5f-6a7f-4da1-ed75-dc8f64e3daa2"
      },
      "id": "q9YY0ZXIUJV8",
      "execution_count": 49,
      "outputs": [
        {
          "output_type": "execute_result",
          "data": {
            "text/plain": [
              "Index(['Unnamed: 0', 'FIPS', 'Admin2', 'Province_State', 'Country_Region',\n",
              "       'Last_Update', 'Lat', 'Long_', 'Confirmed', 'Deaths', 'Recovered',\n",
              "       'Active', 'Combined_Key', 'Incidence_Rate', 'Case-Fatality_Ratio',\n",
              "       'Incident_Rate', 'Case_Fatality_Ratio', 'Province/State',\n",
              "       'Country/Region', 'Last Update', 'Latitude', 'Longitude'],\n",
              "      dtype='object')"
            ]
          },
          "metadata": {},
          "execution_count": 49
        }
      ]
    },
    {
      "cell_type": "code",
      "source": [
        "def df_nans_calc(df):\n",
        "    valid_se = (~df.isna()).sum(axis=0)\n",
        "    df_nans = pd.concat([valid_se, df.shape[0] - valid_se], axis=1)\n",
        "    df_nans.columns = ['valid', 'NaNs']\n",
        "    return df_nans\n",
        "\n",
        "df_nans_calc(df)"
      ],
      "metadata": {
        "colab": {
          "base_uri": "https://localhost:8080/",
          "height": 739
        },
        "id": "pT9_n5YqAWZ9",
        "outputId": "ea5cde3d-ff6e-44a6-c7b2-5f58e7ba3d14"
      },
      "id": "pT9_n5YqAWZ9",
      "execution_count": 52,
      "outputs": [
        {
          "output_type": "execute_result",
          "data": {
            "text/html": [
              "\n",
              "  <div id=\"df-ac4412f6-7923-40ce-9eaf-6884502f11b6\">\n",
              "    <div class=\"colab-df-container\">\n",
              "      <div>\n",
              "<style scoped>\n",
              "    .dataframe tbody tr th:only-of-type {\n",
              "        vertical-align: middle;\n",
              "    }\n",
              "\n",
              "    .dataframe tbody tr th {\n",
              "        vertical-align: top;\n",
              "    }\n",
              "\n",
              "    .dataframe thead th {\n",
              "        text-align: right;\n",
              "    }\n",
              "</style>\n",
              "<table border=\"1\" class=\"dataframe\">\n",
              "  <thead>\n",
              "    <tr style=\"text-align: right;\">\n",
              "      <th></th>\n",
              "      <th>valid</th>\n",
              "      <th>NaNs</th>\n",
              "    </tr>\n",
              "  </thead>\n",
              "  <tbody>\n",
              "    <tr>\n",
              "      <th>Unnamed: 0</th>\n",
              "      <td>2637010</td>\n",
              "      <td>0</td>\n",
              "    </tr>\n",
              "    <tr>\n",
              "      <th>FIPS</th>\n",
              "      <td>2163669</td>\n",
              "      <td>473341</td>\n",
              "    </tr>\n",
              "    <tr>\n",
              "      <th>Admin2</th>\n",
              "      <td>2167116</td>\n",
              "      <td>469894</td>\n",
              "    </tr>\n",
              "    <tr>\n",
              "      <th>Province_State</th>\n",
              "      <td>2510659</td>\n",
              "      <td>126351</td>\n",
              "    </tr>\n",
              "    <tr>\n",
              "      <th>Country_Region</th>\n",
              "      <td>2628068</td>\n",
              "      <td>8942</td>\n",
              "    </tr>\n",
              "    <tr>\n",
              "      <th>Last_Update</th>\n",
              "      <td>2628068</td>\n",
              "      <td>8942</td>\n",
              "    </tr>\n",
              "    <tr>\n",
              "      <th>Lat</th>\n",
              "      <td>2571664</td>\n",
              "      <td>65346</td>\n",
              "    </tr>\n",
              "    <tr>\n",
              "      <th>Long_</th>\n",
              "      <td>2571664</td>\n",
              "      <td>65346</td>\n",
              "    </tr>\n",
              "    <tr>\n",
              "      <th>Confirmed</th>\n",
              "      <td>2636982</td>\n",
              "      <td>28</td>\n",
              "    </tr>\n",
              "    <tr>\n",
              "      <th>Deaths</th>\n",
              "      <td>2636576</td>\n",
              "      <td>434</td>\n",
              "    </tr>\n",
              "    <tr>\n",
              "      <th>Recovered</th>\n",
              "      <td>1449834</td>\n",
              "      <td>1187176</td>\n",
              "    </tr>\n",
              "    <tr>\n",
              "      <th>Active</th>\n",
              "      <td>1441276</td>\n",
              "      <td>1195734</td>\n",
              "    </tr>\n",
              "    <tr>\n",
              "      <th>Combined_Key</th>\n",
              "      <td>2628068</td>\n",
              "      <td>8942</td>\n",
              "    </tr>\n",
              "    <tr>\n",
              "      <th>Incidence_Rate</th>\n",
              "      <td>628375</td>\n",
              "      <td>2008635</td>\n",
              "    </tr>\n",
              "    <tr>\n",
              "      <th>Case-Fatality_Ratio</th>\n",
              "      <td>631860</td>\n",
              "      <td>2005150</td>\n",
              "    </tr>\n",
              "    <tr>\n",
              "      <th>Incident_Rate</th>\n",
              "      <td>1729940</td>\n",
              "      <td>907070</td>\n",
              "    </tr>\n",
              "    <tr>\n",
              "      <th>Case_Fatality_Ratio</th>\n",
              "      <td>1750049</td>\n",
              "      <td>886961</td>\n",
              "    </tr>\n",
              "    <tr>\n",
              "      <th>Province/State</th>\n",
              "      <td>5501</td>\n",
              "      <td>2631509</td>\n",
              "    </tr>\n",
              "    <tr>\n",
              "      <th>Country/Region</th>\n",
              "      <td>8942</td>\n",
              "      <td>2628068</td>\n",
              "    </tr>\n",
              "    <tr>\n",
              "      <th>Last Update</th>\n",
              "      <td>8942</td>\n",
              "      <td>2628068</td>\n",
              "    </tr>\n",
              "    <tr>\n",
              "      <th>Latitude</th>\n",
              "      <td>5219</td>\n",
              "      <td>2631791</td>\n",
              "    </tr>\n",
              "    <tr>\n",
              "      <th>Longitude</th>\n",
              "      <td>5219</td>\n",
              "      <td>2631791</td>\n",
              "    </tr>\n",
              "  </tbody>\n",
              "</table>\n",
              "</div>\n",
              "      <button class=\"colab-df-convert\" onclick=\"convertToInteractive('df-ac4412f6-7923-40ce-9eaf-6884502f11b6')\"\n",
              "              title=\"Convert this dataframe to an interactive table.\"\n",
              "              style=\"display:none;\">\n",
              "        \n",
              "  <svg xmlns=\"http://www.w3.org/2000/svg\" height=\"24px\"viewBox=\"0 0 24 24\"\n",
              "       width=\"24px\">\n",
              "    <path d=\"M0 0h24v24H0V0z\" fill=\"none\"/>\n",
              "    <path d=\"M18.56 5.44l.94 2.06.94-2.06 2.06-.94-2.06-.94-.94-2.06-.94 2.06-2.06.94zm-11 1L8.5 8.5l.94-2.06 2.06-.94-2.06-.94L8.5 2.5l-.94 2.06-2.06.94zm10 10l.94 2.06.94-2.06 2.06-.94-2.06-.94-.94-2.06-.94 2.06-2.06.94z\"/><path d=\"M17.41 7.96l-1.37-1.37c-.4-.4-.92-.59-1.43-.59-.52 0-1.04.2-1.43.59L10.3 9.45l-7.72 7.72c-.78.78-.78 2.05 0 2.83L4 21.41c.39.39.9.59 1.41.59.51 0 1.02-.2 1.41-.59l7.78-7.78 2.81-2.81c.8-.78.8-2.07 0-2.86zM5.41 20L4 18.59l7.72-7.72 1.47 1.35L5.41 20z\"/>\n",
              "  </svg>\n",
              "      </button>\n",
              "      \n",
              "  <style>\n",
              "    .colab-df-container {\n",
              "      display:flex;\n",
              "      flex-wrap:wrap;\n",
              "      gap: 12px;\n",
              "    }\n",
              "\n",
              "    .colab-df-convert {\n",
              "      background-color: #E8F0FE;\n",
              "      border: none;\n",
              "      border-radius: 50%;\n",
              "      cursor: pointer;\n",
              "      display: none;\n",
              "      fill: #1967D2;\n",
              "      height: 32px;\n",
              "      padding: 0 0 0 0;\n",
              "      width: 32px;\n",
              "    }\n",
              "\n",
              "    .colab-df-convert:hover {\n",
              "      background-color: #E2EBFA;\n",
              "      box-shadow: 0px 1px 2px rgba(60, 64, 67, 0.3), 0px 1px 3px 1px rgba(60, 64, 67, 0.15);\n",
              "      fill: #174EA6;\n",
              "    }\n",
              "\n",
              "    [theme=dark] .colab-df-convert {\n",
              "      background-color: #3B4455;\n",
              "      fill: #D2E3FC;\n",
              "    }\n",
              "\n",
              "    [theme=dark] .colab-df-convert:hover {\n",
              "      background-color: #434B5C;\n",
              "      box-shadow: 0px 1px 3px 1px rgba(0, 0, 0, 0.15);\n",
              "      filter: drop-shadow(0px 1px 2px rgba(0, 0, 0, 0.3));\n",
              "      fill: #FFFFFF;\n",
              "    }\n",
              "  </style>\n",
              "\n",
              "      <script>\n",
              "        const buttonEl =\n",
              "          document.querySelector('#df-ac4412f6-7923-40ce-9eaf-6884502f11b6 button.colab-df-convert');\n",
              "        buttonEl.style.display =\n",
              "          google.colab.kernel.accessAllowed ? 'block' : 'none';\n",
              "\n",
              "        async function convertToInteractive(key) {\n",
              "          const element = document.querySelector('#df-ac4412f6-7923-40ce-9eaf-6884502f11b6');\n",
              "          const dataTable =\n",
              "            await google.colab.kernel.invokeFunction('convertToInteractive',\n",
              "                                                     [key], {});\n",
              "          if (!dataTable) return;\n",
              "\n",
              "          const docLinkHtml = 'Like what you see? Visit the ' +\n",
              "            '<a target=\"_blank\" href=https://colab.research.google.com/notebooks/data_table.ipynb>data table notebook</a>'\n",
              "            + ' to learn more about interactive tables.';\n",
              "          element.innerHTML = '';\n",
              "          dataTable['output_type'] = 'display_data';\n",
              "          await google.colab.output.renderOutput(dataTable, element);\n",
              "          const docLink = document.createElement('div');\n",
              "          docLink.innerHTML = docLinkHtml;\n",
              "          element.appendChild(docLink);\n",
              "        }\n",
              "      </script>\n",
              "    </div>\n",
              "  </div>\n",
              "  "
            ],
            "text/plain": [
              "                       valid     NaNs\n",
              "Unnamed: 0           2637010        0\n",
              "FIPS                 2163669   473341\n",
              "Admin2               2167116   469894\n",
              "Province_State       2510659   126351\n",
              "Country_Region       2628068     8942\n",
              "Last_Update          2628068     8942\n",
              "Lat                  2571664    65346\n",
              "Long_                2571664    65346\n",
              "Confirmed            2636982       28\n",
              "Deaths               2636576      434\n",
              "Recovered            1449834  1187176\n",
              "Active               1441276  1195734\n",
              "Combined_Key         2628068     8942\n",
              "Incidence_Rate        628375  2008635\n",
              "Case-Fatality_Ratio   631860  2005150\n",
              "Incident_Rate        1729940   907070\n",
              "Case_Fatality_Ratio  1750049   886961\n",
              "Province/State          5501  2631509\n",
              "Country/Region          8942  2628068\n",
              "Last Update             8942  2628068\n",
              "Latitude                5219  2631791\n",
              "Longitude               5219  2631791"
            ]
          },
          "metadata": {},
          "execution_count": 52
        }
      ]
    },
    {
      "cell_type": "code",
      "source": [
        "df['Country_Region'] = merge_columns('Country_Region', 'Country/Region', df).isna().sum()\n",
        "pd.isna(df['Country_Region']).sum()"
      ],
      "metadata": {
        "colab": {
          "base_uri": "https://localhost:8080/"
        },
        "id": "svB61B_NNES8",
        "outputId": "ebe3b2d9-fb5c-469f-9a19-542f9fc8745d"
      },
      "id": "svB61B_NNES8",
      "execution_count": 57,
      "outputs": [
        {
          "output_type": "execute_result",
          "data": {
            "text/plain": [
              "0"
            ]
          },
          "metadata": {},
          "execution_count": 57
        }
      ]
    }
  ],
  "metadata": {
    "kernelspec": {
      "display_name": "Python 3",
      "language": "python",
      "name": "python3"
    },
    "language_info": {
      "codemirror_mode": {
        "name": "ipython",
        "version": 3
      },
      "file_extension": ".py",
      "mimetype": "text/x-python",
      "name": "python",
      "nbconvert_exporter": "python",
      "pygments_lexer": "ipython3",
      "version": "3.6.9"
    },
    "varInspector": {
      "cols": {
        "lenName": 16,
        "lenType": 16,
        "lenVar": 40
      },
      "kernels_config": {
        "python": {
          "delete_cmd_postfix": "",
          "delete_cmd_prefix": "del ",
          "library": "var_list.py",
          "varRefreshCmd": "print(var_dic_list())"
        },
        "r": {
          "delete_cmd_postfix": ") ",
          "delete_cmd_prefix": "rm(",
          "library": "var_list.r",
          "varRefreshCmd": "cat(var_dic_list()) "
        }
      },
      "types_to_exclude": [
        "module",
        "function",
        "builtin_function_or_method",
        "instance",
        "_Feature"
      ],
      "window_display": false
    },
    "colab": {
      "name": "prepare_data.ipynb",
      "provenance": [],
      "include_colab_link": true
    }
  },
  "nbformat": 4,
  "nbformat_minor": 5
}