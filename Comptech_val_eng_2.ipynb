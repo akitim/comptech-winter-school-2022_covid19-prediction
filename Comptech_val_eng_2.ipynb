{
  "nbformat": 4,
  "nbformat_minor": 0,
  "metadata": {
    "colab": {
      "name": "Comptech_val_eng_2.ipynb",
      "provenance": [],
      "include_colab_link": true
    },
    "kernelspec": {
      "name": "python3",
      "display_name": "Python 3"
    },
    "language_info": {
      "name": "python"
    }
  },
  "cells": [
    {
      "cell_type": "markdown",
      "metadata": {
        "id": "view-in-github",
        "colab_type": "text"
      },
      "source": [
        "<a href=\"https://colab.research.google.com/github/akitim/comptech-winter-school-2022_covid19-prediction/blob/main/Comptech_val_eng_2.ipynb\" target=\"_parent\"><img src=\"https://colab.research.google.com/assets/colab-badge.svg\" alt=\"Open In Colab\"/></a>"
      ]
    },
    {
      "cell_type": "code",
      "source": [
        "!pip install httpx"
      ],
      "metadata": {
        "id": "8KFoQ_x4lCz6",
        "outputId": "074b13e8-83b7-4ab6-d78a-5f2184787238",
        "colab": {
          "base_uri": "https://localhost:8080/"
        }
      },
      "execution_count": 1,
      "outputs": [
        {
          "output_type": "stream",
          "name": "stdout",
          "text": [
            "Collecting httpx\n",
            "  Downloading httpx-0.22.0-py3-none-any.whl (84 kB)\n",
            "\u001b[?25l\r\u001b[K     |████                            | 10 kB 10.0 MB/s eta 0:00:01\r\u001b[K     |███████▉                        | 20 kB 7.1 MB/s eta 0:00:01\r\u001b[K     |███████████▊                    | 30 kB 7.1 MB/s eta 0:00:01\r\u001b[K     |███████████████▋                | 40 kB 6.8 MB/s eta 0:00:01\r\u001b[K     |███████████████████▌            | 51 kB 4.9 MB/s eta 0:00:01\r\u001b[K     |███████████████████████▍        | 61 kB 5.1 MB/s eta 0:00:01\r\u001b[K     |███████████████████████████▎    | 71 kB 5.3 MB/s eta 0:00:01\r\u001b[K     |███████████████████████████████▏| 81 kB 5.9 MB/s eta 0:00:01\r\u001b[K     |████████████████████████████████| 84 kB 1.9 MB/s \n",
            "\u001b[?25hCollecting httpcore<0.15.0,>=0.14.5\n",
            "  Downloading httpcore-0.14.6-py3-none-any.whl (68 kB)\n",
            "\u001b[K     |████████████████████████████████| 68 kB 5.8 MB/s \n",
            "\u001b[?25hRequirement already satisfied: certifi in /usr/local/lib/python3.7/dist-packages (from httpx) (2021.10.8)\n",
            "Collecting rfc3986[idna2008]<2,>=1.3\n",
            "  Downloading rfc3986-1.5.0-py2.py3-none-any.whl (31 kB)\n",
            "Requirement already satisfied: charset-normalizer in /usr/local/lib/python3.7/dist-packages (from httpx) (2.0.11)\n",
            "Collecting sniffio\n",
            "  Downloading sniffio-1.2.0-py3-none-any.whl (10 kB)\n",
            "Collecting anyio==3.*\n",
            "  Downloading anyio-3.5.0-py3-none-any.whl (79 kB)\n",
            "\u001b[K     |████████████████████████████████| 79 kB 5.9 MB/s \n",
            "\u001b[?25hCollecting h11<0.13,>=0.11\n",
            "  Downloading h11-0.12.0-py3-none-any.whl (54 kB)\n",
            "\u001b[K     |████████████████████████████████| 54 kB 2.6 MB/s \n",
            "\u001b[?25hRequirement already satisfied: typing-extensions in /usr/local/lib/python3.7/dist-packages (from anyio==3.*->httpcore<0.15.0,>=0.14.5->httpx) (3.10.0.2)\n",
            "Requirement already satisfied: idna>=2.8 in /usr/local/lib/python3.7/dist-packages (from anyio==3.*->httpcore<0.15.0,>=0.14.5->httpx) (2.10)\n",
            "Installing collected packages: sniffio, rfc3986, h11, anyio, httpcore, httpx\n",
            "Successfully installed anyio-3.5.0 h11-0.12.0 httpcore-0.14.6 httpx-0.22.0 rfc3986-1.5.0 sniffio-1.2.0\n"
          ]
        }
      ]
    },
    {
      "cell_type": "code",
      "execution_count": 2,
      "metadata": {
        "id": "CI-GOycEj3OP",
        "colab": {
          "base_uri": "https://localhost:8080/"
        },
        "outputId": "2cdc9007-85a9-4e4d-a867-728a98e215c2"
      },
      "outputs": [
        {
          "output_type": "stream",
          "name": "stderr",
          "text": [
            "/usr/local/lib/python3.7/dist-packages/statsmodels/tools/_testing.py:19: FutureWarning: pandas.util.testing is deprecated. Use the functions in the public API at pandas.testing instead.\n",
            "  import pandas.util.testing as tm\n"
          ]
        }
      ],
      "source": [
        "import pandas as pd\n",
        "import itertools\n",
        "from scipy.signal import savgol_filter\n",
        "from tqdm.notebook import tqdm\n",
        "import json\n",
        "from collections import defaultdict\n",
        "import pickle\n",
        "from matplotlib import pyplot as plt\n",
        "import pickle\n",
        "import numpy as np\n",
        "from sklearn.metrics import mean_absolute_percentage_error\n",
        "import statsmodels.api as sm\n",
        "from datetime import date, timedelta\n",
        "import pickle\n",
        "import httpx\n",
        "import json\n",
        "import warnings\n",
        "warnings.filterwarnings('ignore')"
      ]
    },
    {
      "cell_type": "code",
      "source": [
        "def get_cases(days):\n",
        "  data = httpx.get(f\"https://storage.yandexcloud.net/covid-19/cases{\\\n",
        "      ('_' + str(days)) if days != 0 else ''}.pickle\").content\n",
        "  return pickle.loads(data)"
      ],
      "metadata": {
        "id": "2lp0hBE8k3mB"
      },
      "execution_count": 3,
      "outputs": []
    },
    {
      "cell_type": "code",
      "source": [
        "def get_lags(days):\n",
        "  data = httpx.get(f\"https://storage.yandexcloud.net/covid-19/lags{\\\n",
        "      ('_' + str(days)) if days != 0 else ''}.json\").content\n",
        "  return json.loads(data)"
      ],
      "metadata": {
        "id": "UkokiU0JlPHk"
      },
      "execution_count": 4,
      "outputs": []
    },
    {
      "cell_type": "code",
      "source": [
        "def median_percentage_absolute_error(y_true, y_pred):\n",
        "    return np.round(np.median(np.abs((y_true - y_pred) / y_true)), 6)"
      ],
      "metadata": {
        "id": "B9groByTtYiO"
      },
      "execution_count": 5,
      "outputs": []
    },
    {
      "cell_type": "code",
      "source": [
        "def get_columns(country, top_3_countries, num_features):\n",
        "  first = [f\"{country}_{i}\" for i in range(1, 31)]\n",
        "  second = []\n",
        "  for c, _ in top_3_countries:\n",
        "    for i in range(1, num_features + 1):  \n",
        "      second.append(f\"{c}_{i}\")\n",
        "  second.append('y')\n",
        "  return first + second\n",
        "\n",
        "\n",
        "def get_predict_linregr(country, lags, need_predict, cases_all, use_filter=True, num_features=30):\n",
        "\n",
        "  field_name = (\"filtered_\" if use_filter else \"\") + \"history\"\n",
        "  threshold = date(year=2021, month=1, day=1)\n",
        "\n",
        "  # PREPARE TRAIN DATA\n",
        "  a = cases_all[country][field_name] #случаи по стране cглаженные или нет\n",
        "  a = a[a.index >= threshold] #отсечение - берем даты после 01.01.2021\n",
        "  df_list = []\n",
        "  top_3_countries = [\n",
        "    i for i in sorted(lags[country].items(),\n",
        "                        key=lambda x: x[1][\"similarity\"]\n",
        "                      ) if -i[1][\"lag\"] > need_predict\n",
        "    ][-3:] #топ-3 страны с максимальной корреляцией\n",
        "\n",
        "  for window in range(num_features, (a.index[-1] - threshold).days): # window проходит значения от кол-ва пр-ков до кол-ва дней в рассм. cases\n",
        "    this_row = list(a[window - num_features : window].values)\n",
        "    y = a[window]\n",
        "\n",
        "    for country_similar, info in top_3_countries:\n",
        "\n",
        "      b = cases_all[country_similar][field_name]\n",
        "      this_row += list(b[b.index > threshold - timedelta(days=-info[\"lag\"])]\n",
        "                       [window - num_features : window].values)\n",
        "\n",
        "    this_row.append(y)\n",
        "    df_list.append(this_row)\n",
        "\n",
        "  df = pd.DataFrame(df_list, columns=get_columns(country, top_3_countries, num_features))\n",
        "\n",
        "  # FIT\n",
        "\n",
        "  X = sm.add_constant(df.drop('y', axis=1))\n",
        "  y = df['y']\n",
        "  model = sm.OLS(y, X).fit()\n",
        "\n",
        "  # PREDICT\n",
        "\n",
        "  predicted = []\n",
        "\n",
        "  for i in range(0, need_predict):\n",
        "\n",
        "    if i >= num_features:\n",
        "      p = [1.0] + predicted[-num_features:]\n",
        "    else:\n",
        "      p = [1.0] + list(cases_all[\"Russia\"][field_name].iloc[-num_features + i : ].values) + predicted\n",
        "\n",
        "    for c, info in top_3_countries:\n",
        "\n",
        "      from_ind = -num_features + info[\"lag\"] + i\n",
        "      to_ind = info[\"lag\"] + i\n",
        "      p += list(cases_all[c][field_name].iloc[from_ind : to_ind])\n",
        "      \n",
        "    predicted.append(model.predict(p)[0])\n",
        "  \n",
        "  return np.array(predicted), df.drop('y', axis=1)"
      ],
      "metadata": {
        "id": "msDav64gdY1x"
      },
      "execution_count": 6,
      "outputs": []
    },
    {
      "cell_type": "code",
      "source": [
        "days = [30, 60, 90]"
      ],
      "metadata": {
        "id": "o4r6-cvimrH7"
      },
      "execution_count": 7,
      "outputs": []
    },
    {
      "cell_type": "code",
      "source": [
        "cases_30, cases_60, cases_90 = (get_cases(i) for i in days)"
      ],
      "metadata": {
        "id": "TEx38H1vmuXV"
      },
      "execution_count": 8,
      "outputs": []
    },
    {
      "cell_type": "code",
      "source": [
        "lags_30, lags_60, lags_90 = (get_lags(i) for i in days)"
      ],
      "metadata": {
        "id": "r6NqjWMAm24z"
      },
      "execution_count": 9,
      "outputs": []
    },
    {
      "cell_type": "code",
      "source": [
        "df_dict = {30: (cases_30, lags_30), 60: (cases_60, lags_60)}#, 90:(cases_90, lags_90)}"
      ],
      "metadata": {
        "id": "uejKARAznP81"
      },
      "execution_count": 10,
      "outputs": []
    },
    {
      "cell_type": "code",
      "source": [
        "# cases_30['Russia'].items()\n",
        "# a = cases_30['Russia']['filtered_history']\n",
        "# a = a[a.index >= date(year=2021, month=1, day=1)]\n",
        "# (a.index[-1] - date(year=2021, month=1, day=1)).days\n",
        "# a.index[0]\\\n"
      ],
      "metadata": {
        "id": "z2RgBWz8UTTb"
      },
      "execution_count": 11,
      "outputs": []
    },
    {
      "cell_type": "code",
      "source": [
        "def get_predict_baseline(predict_country, lags, predict_days, cases, use_filter=False):\n",
        "    predict = np.zeros(predict_days)\n",
        "    weights = 0\n",
        "    field_name = (\"filtered_\" if use_filter else \"\") + \"history\"\n",
        "    mean_predict_country = cases[predict_country][field_name][-predict_days:].mean()\n",
        "\n",
        "    for country, desc in lags[predict_country].items():\n",
        "        days_lag = -desc[\"lag\"]  # т.к. всегда отрицательная величина\n",
        "        if days_lag <= predict_days:\n",
        "            continue\n",
        "        \n",
        "        cases_prev_days = cases[country][field_name].iloc[-days_lag: -days_lag + predict_days]\n",
        "        coef = (mean_predict_country / cases_prev_days.mean())\n",
        "        weight = np.sqrt(desc[\"similarity\"])\n",
        "        case = cases_prev_days.values * coef * weight\n",
        "        \n",
        "        if len(case) == predict_days:\n",
        "          weights += weight\n",
        "          predict += case\n",
        "    \n",
        "    if weights != 0:\n",
        "        return predict / weights\n",
        "    else:\n",
        "        return predict"
      ],
      "metadata": {
        "id": "2VwYfrP6lytQ"
      },
      "execution_count": 12,
      "outputs": []
    },
    {
      "cell_type": "code",
      "source": [
        "def validator_dict(model, df_dict, use_filter=True, return_mdape=False):\n",
        "    result = {}\n",
        "    # mape = []\n",
        "    mdape = []\n",
        "    \n",
        "    for days, lst in df_dict.items():\n",
        "\n",
        "      cases, lags = lst\n",
        "      for country in lags.keys():\n",
        "          \n",
        "       if country == \"Russia\":\n",
        "        y_true = cases[country][f\"{'filtered_' if use_filter else ''}validate\"]\n",
        "        y_pred = model(country, lags, days, cases, use_filter)[0]\n",
        "\n",
        "        if not return_mdape: return y_true, y_pred\n",
        "\n",
        "        if any(y_pred != y_pred) or any(y_pred == 0) or any(y_true == 0):\n",
        "            continue\n",
        "        \n",
        "        # mape.append(mean_absolute_percentage_error(y_true, y_pred)) \n",
        "        mdape.append(median_percentage_absolute_error(y_true, y_pred)) \n",
        "        \n",
        "      result[str(days) + ' days'] = np.array(mdape).mean()\n",
        "\n",
        "    return result"
      ],
      "metadata": {
        "id": "nvpfS2oZ2O7n"
      },
      "execution_count": 13,
      "outputs": []
    },
    {
      "cell_type": "code",
      "source": [
        "validator_dict(get_predict_linregr, df_dict, True, False)"
      ],
      "metadata": {
        "colab": {
          "base_uri": "https://localhost:8080/"
        },
        "id": "8TiFzvMm1cE2",
        "outputId": "ae9dd9a5-d083-4970-eeb6-6a1769e61481"
      },
      "execution_count": 14,
      "outputs": [
        {
          "output_type": "execute_result",
          "data": {
            "text/plain": [
              "(Last_Update\n",
              " 2022-01-05     15097.706064\n",
              " 2022-01-06     15199.817029\n",
              " 2022-01-07     15708.974767\n",
              " 2022-01-08     16222.845251\n",
              " 2022-01-09     16846.802917\n",
              " 2022-01-10     18823.138216\n",
              " 2022-01-11     21040.628456\n",
              " 2022-01-12     23499.273638\n",
              " 2022-01-13     26199.073761\n",
              " 2022-01-14     29140.028825\n",
              " 2022-01-15     32322.138831\n",
              " 2022-01-16     35745.403778\n",
              " 2022-01-17     39409.823666\n",
              " 2022-01-18     43315.398496\n",
              " 2022-01-19     47462.128268\n",
              " 2022-01-20     51850.012980\n",
              " 2022-01-21     56479.052635\n",
              " 2022-01-22     61349.247230\n",
              " 2022-01-23     66460.596767\n",
              " 2022-01-24     71813.101245\n",
              " 2022-01-25     77406.760665\n",
              " 2022-01-26     83241.575026\n",
              " 2022-01-27     89317.544329\n",
              " 2022-01-28     95634.668572\n",
              " 2022-01-29    102192.947758\n",
              " 2022-01-30    108992.381884\n",
              " 2022-01-31    116032.970952\n",
              " 2022-02-01    123314.714962\n",
              " 2022-02-02    130837.613913\n",
              " 2022-02-03    138601.667805\n",
              " dtype: float64,\n",
              " array([14989.38379721, 14812.02231948, 14787.4632467 , 14878.49957438,\n",
              "        15074.31938292, 15272.55516798, 15564.48366715, 16059.85466763,\n",
              "        16782.37924247, 17706.85006385, 18856.8526613 , 20157.989641  ,\n",
              "        21532.67348379, 22986.23909314, 24519.21830037, 26119.7552398 ,\n",
              "        27871.6667756 , 29788.51583141, 31784.5927465 , 33773.56411734,\n",
              "        35629.83626363, 37380.0204357 , 39028.2122647 , 40616.42845778,\n",
              "        42153.67728013, 43565.62145714, 44696.46472202, 45494.82277396,\n",
              "        45890.34064957, 45880.99078858]))"
            ]
          },
          "metadata": {},
          "execution_count": 14
        }
      ]
    },
    {
      "cell_type": "code",
      "source": [
        "import seaborn as sns\n",
        "\n",
        "# plt.figure(figsize=(20, 20))\n",
        "# sns.heatmap(get_predict('Russia', lags_30, 30, cases_30, True, 30)[1].corr(), cmap='coolwarm');\n",
        "\n",
        "rp = get_predict_linregr('Russia', lags_30, 30, cases_30, True, 30)[1].corr()\n",
        "any(~rp[rp <= 0.5].isna()) #.columns"
      ],
      "metadata": {
        "colab": {
          "base_uri": "https://localhost:8080/"
        },
        "id": "X5r-pii4ILKS",
        "outputId": "626f2c7c-0e3c-4757-a71b-d9116a42fa1b"
      },
      "execution_count": 15,
      "outputs": [
        {
          "output_type": "execute_result",
          "data": {
            "text/plain": [
              "True"
            ]
          },
          "metadata": {},
          "execution_count": 15
        }
      ]
    },
    {
      "cell_type": "code",
      "source": [
        "true_, pred_ = validator_dict(get_predict_linregr, df_dict, True)"
      ],
      "metadata": {
        "id": "99J_UBK-3Gno"
      },
      "execution_count": 16,
      "outputs": []
    },
    {
      "cell_type": "code",
      "source": [
        "%matplotlib inline"
      ],
      "metadata": {
        "id": "ttbviHhD1GGw"
      },
      "execution_count": 17,
      "outputs": []
    },
    {
      "cell_type": "code",
      "source": [
        "from matplotlib import pyplot as plt\n",
        "plt.scatter(true_.index, true_.values);\n",
        "plt.scatter(true_.index, pred_);"
      ],
      "metadata": {
        "colab": {
          "base_uri": "https://localhost:8080/",
          "height": 265
        },
        "id": "Y8j7XfNi1IGX",
        "outputId": "e7247cac-49c3-459a-8d5b-876997ed4a55"
      },
      "execution_count": 28,
      "outputs": [
        {
          "output_type": "display_data",
          "data": {
            "image/png": "[encoded data removed]",
            "text/plain": [
              "<Figure size 432x288 with 1 Axes>"
            ]
          },
          "metadata": {
            "needs_background": "light"
          }
        }
      ]
    },
    {
      "cell_type": "code",
      "source": [
        "early = [127297.73641993303, 132600.20483385914, 136619.37434922362, 140836.80730270335, 143737.04746894058, 142813.11085296664, 142630.53345246712, 143341.5066806572, 143076.48524371465, 146335.75887030794, 146210.0414530263,147364.13578195698, 150360.07855808048, 150905.0310396987, 149520.86527956236, 156450.18866885972, 156425.910736048, 160164.36502176864, 162606.36517775926, 169749.19835550373, 170366.17978586693, 171357.34940489975, 173582.94171802138,174031.0639300036, 177210.84705378467, 178115.14202578535, 181952.4384241183, 180652.69380222203, 181609.9641533312, 178259.66305531352]"
      ],
      "metadata": {
        "id": "RtlIyMAJ8QjE"
      },
      "execution_count": 21,
      "outputs": []
    },
    {
      "cell_type": "code",
      "source": [
        "cases = get_cases(0)\n",
        "lags = get_lags(0)"
      ],
      "metadata": {
        "id": "jgsNny8NmrGz"
      },
      "execution_count": 22,
      "outputs": []
    },
    {
      "cell_type": "code",
      "source": [
        "predict = get_predict_linregr(\"Russia\", lags, 15, cases)[0]\n",
        "predict.size"
      ],
      "metadata": {
        "id": "LBUo5iljlY2p",
        "colab": {
          "base_uri": "https://localhost:8080/"
        },
        "outputId": "86f05fc6-78d0-4d10-d877-25ee24729126"
      },
      "execution_count": 39,
      "outputs": [
        {
          "output_type": "execute_result",
          "data": {
            "text/plain": [
              "15"
            ]
          },
          "metadata": {},
          "execution_count": 39
        }
      ]
    },
    {
      "cell_type": "code",
      "source": [
        "a = cases[\"Russia\"][\"history\"].iloc[-30:]\n",
        "plt.scatter(range(0, 30), a.values)\n",
        "plt.scatter(range(30, 30 + predict.size), list(predict))\n",
        "plt.show();"
      ],
      "metadata": {
        "colab": {
          "base_uri": "https://localhost:8080/",
          "height": 265
        },
        "id": "kCr0rfvnwvn2",
        "outputId": "bcca5697-bf55-4351-92cd-b3b5ad9eec55"
      },
      "execution_count": 41,
      "outputs": [
        {
          "output_type": "display_data",
          "data": {
            "image/png": "[encoded data removed]",
            "text/plain": [
              "<Figure size 432x288 with 1 Axes>"
            ]
          },
          "metadata": {
            "needs_background": "light"
          }
        }
      ]
    }
  ]
}