{
  "nbformat": 4,
  "nbformat_minor": 0,
  "metadata": {
    "colab": {
      "name": "Comptech_val_eng_2.ipynb",
      "provenance": [],
      "include_colab_link": true
    },
    "kernelspec": {
      "name": "python3",
      "display_name": "Python 3"
    },
    "language_info": {
      "name": "python"
    }
  },
  "cells": [
    {
      "cell_type": "markdown",
      "metadata": {
        "id": "view-in-github",
        "colab_type": "text"
      },
      "source": [
        "<a href=\"https://colab.research.google.com/github/akitim/comptech-winter-school-2022_covid19-prediction/blob/main/Comptech_val_eng_2.ipynb\" target=\"_parent\"><img src=\"https://colab.research.google.com/assets/colab-badge.svg\" alt=\"Open In Colab\"/></a>"
      ]
    },
    {
      "cell_type": "code",
      "source": [
        "!pip install httpx"
      ],
      "metadata": {
        "id": "8KFoQ_x4lCz6",
        "outputId": "39f1fe54-6b88-4df8-d923-5bc7c2f0fd15",
        "colab": {
          "base_uri": "https://localhost:8080/"
        }
      },
      "execution_count": 1,
      "outputs": [
        {
          "output_type": "stream",
          "name": "stdout",
          "text": [
            "Collecting httpx\n",
            "  Downloading httpx-0.22.0-py3-none-any.whl (84 kB)\n",
            "\u001b[?25l\r\u001b[K     |████                            | 10 kB 19.7 MB/s eta 0:00:01\r\u001b[K     |███████▉                        | 20 kB 26.8 MB/s eta 0:00:01\r\u001b[K     |███████████▊                    | 30 kB 33.5 MB/s eta 0:00:01\r\u001b[K     |███████████████▋                | 40 kB 25.8 MB/s eta 0:00:01\r\u001b[K     |███████████████████▌            | 51 kB 27.7 MB/s eta 0:00:01\r\u001b[K     |███████████████████████▍        | 61 kB 22.2 MB/s eta 0:00:01\r\u001b[K     |███████████████████████████▎    | 71 kB 21.9 MB/s eta 0:00:01\r\u001b[K     |███████████████████████████████▏| 81 kB 23.5 MB/s eta 0:00:01\r\u001b[K     |████████████████████████████████| 84 kB 2.5 MB/s \n",
            "\u001b[?25hCollecting httpcore<0.15.0,>=0.14.5\n",
            "  Downloading httpcore-0.14.6-py3-none-any.whl (68 kB)\n",
            "\u001b[?25l\r\u001b[K     |████▉                           | 10 kB 23.7 MB/s eta 0:00:01\r\u001b[K     |█████████▋                      | 20 kB 29.6 MB/s eta 0:00:01\r\u001b[K     |██████████████▍                 | 30 kB 36.7 MB/s eta 0:00:01\r\u001b[K     |███████████████████▎            | 40 kB 36.4 MB/s eta 0:00:01\r\u001b[K     |████████████████████████        | 51 kB 36.6 MB/s eta 0:00:01\r\u001b[K     |████████████████████████████▉   | 61 kB 39.6 MB/s eta 0:00:01\r\u001b[K     |████████████████████████████████| 68 kB 5.4 MB/s \n",
            "\u001b[?25hRequirement already satisfied: certifi in /usr/local/lib/python3.7/dist-packages (from httpx) (2021.10.8)\n",
            "Collecting rfc3986[idna2008]<2,>=1.3\n",
            "  Downloading rfc3986-1.5.0-py2.py3-none-any.whl (31 kB)\n",
            "Collecting sniffio\n",
            "  Downloading sniffio-1.2.0-py3-none-any.whl (10 kB)\n",
            "Requirement already satisfied: charset-normalizer in /usr/local/lib/python3.7/dist-packages (from httpx) (2.0.11)\n",
            "Collecting anyio==3.*\n",
            "  Downloading anyio-3.5.0-py3-none-any.whl (79 kB)\n",
            "\u001b[K     |████████████████████████████████| 79 kB 6.8 MB/s \n",
            "\u001b[?25hCollecting h11<0.13,>=0.11\n",
            "  Downloading h11-0.12.0-py3-none-any.whl (54 kB)\n",
            "\u001b[K     |████████████████████████████████| 54 kB 2.7 MB/s \n",
            "\u001b[?25hRequirement already satisfied: typing-extensions in /usr/local/lib/python3.7/dist-packages (from anyio==3.*->httpcore<0.15.0,>=0.14.5->httpx) (3.10.0.2)\n",
            "Requirement already satisfied: idna>=2.8 in /usr/local/lib/python3.7/dist-packages (from anyio==3.*->httpcore<0.15.0,>=0.14.5->httpx) (2.10)\n",
            "Installing collected packages: sniffio, rfc3986, h11, anyio, httpcore, httpx\n",
            "Successfully installed anyio-3.5.0 h11-0.12.0 httpcore-0.14.6 httpx-0.22.0 rfc3986-1.5.0 sniffio-1.2.0\n"
          ]
        }
      ]
    },
    {
      "cell_type": "code",
      "execution_count": 4,
      "metadata": {
        "id": "CI-GOycEj3OP"
      },
      "outputs": [],
      "source": [
        "import pandas as pd\n",
        "import itertools\n",
        "from scipy.signal import savgol_filter\n",
        "from tqdm.notebook import tqdm\n",
        "import json\n",
        "from collections import defaultdict\n",
        "import pickle\n",
        "from matplotlib import pyplot as plt\n",
        "import pickle\n",
        "import numpy as np\n",
        "from sklearn.metrics import mean_absolute_percentage_error\n",
        "import statsmodels.api as sm\n",
        "from datetime import date, timedelta\n",
        "import pickle\n",
        "import httpx\n",
        "import json\n",
        "import warnings\n",
        "warnings.filterwarnings('ignore')"
      ]
    },
    {
      "cell_type": "code",
      "source": [
        "def get_cases(days):\n",
        "  data = httpx.get(f\"https://storage.yandexcloud.net/covid-19/cases{\\\n",
        "      ('_' + str(days)) if days != 0 else ''}.pickle\").content\n",
        "  return pickle.loads(data)"
      ],
      "metadata": {
        "id": "2lp0hBE8k3mB"
      },
      "execution_count": 5,
      "outputs": []
    },
    {
      "cell_type": "code",
      "source": [
        "def get_lags(days):\n",
        "  data = httpx.get(f\"https://storage.yandexcloud.net/covid-19/lags{\\\n",
        "      ('_' + str(days)) if days != 0 else ''}.json\").content\n",
        "  return json.loads(data)"
      ],
      "metadata": {
        "id": "UkokiU0JlPHk"
      },
      "execution_count": 13,
      "outputs": []
    },
    {
      "cell_type": "code",
      "source": [
        "def median_percentage_absolute_error(y_true, y_pred):\n",
        "    return np.round(np.median(np.abs((y_true - y_pred) / y_true)), 6)"
      ],
      "metadata": {
        "id": "B9groByTtYiO"
      },
      "execution_count": 33,
      "outputs": []
    },
    {
      "cell_type": "code",
      "source": [
        "def get_columns(country, top_3_countries, num_features):\n",
        "  first = [f\"{country}_{i}\" for i in range(1, 31)]\n",
        "  second = []\n",
        "  for c, _ in top_3_countries:\n",
        "    for i in range(1, num_features + 1):  \n",
        "      second.append(f\"{c}_{i}\")\n",
        "  second.append('y')\n",
        "  return first + second\n",
        "\n",
        "\n",
        "def get_predict(country, lags, need_predict, cases_all, use_filter=True, num_features=30):\n",
        "\n",
        "  field_name = (\"filtered_\" if use_filter else \"\") + \"history\"\n",
        "  threshold = date(year=2021, month=1, day=1)\n",
        "\n",
        "  # PREPARE TRAIN DATA\n",
        "  a = cases_all[country][field_name] #случаи по стране cглаженные или нет\n",
        "  a = a[a.index >= threshold] #отсечение - берем даты после 01.01.2021\n",
        "  df_list = []\n",
        "  top_3_countries = [\n",
        "    i for i in sorted(lags[country].items(),\n",
        "                        key=lambda x: x[1][\"similarity\"]\n",
        "                      ) if -i[1][\"lag\"] > need_predict\n",
        "    ][-3:] #топ-3 страны с максимальной корреляцией\n",
        "\n",
        "  for window in range(num_features, (a.index[-1] - threshold).days): # window проходит значения от кол-ва пр-ков до кол-ва дней в рассм. cases\n",
        "    this_row = list(a[window - num_features : window].values)\n",
        "    y = a[window]\n",
        "\n",
        "    for country_similar, info in top_3_countries:\n",
        "\n",
        "      b = cases_all[country_similar][field_name]\n",
        "      this_row += list(b[b.index > threshold - timedelta(days=-info[\"lag\"])]\n",
        "                       [window - num_features : window].values)\n",
        "\n",
        "    this_row.append(y)\n",
        "    df_list.append(this_row)\n",
        "\n",
        "  df = pd.DataFrame(df_list, columns=get_columns(country, top_3_countries, num_features))\n",
        "\n",
        "  # FIT\n",
        "\n",
        "  X = sm.add_constant(df.drop('y', axis=1))\n",
        "  y = df['y']\n",
        "  model = sm.OLS(y, X).fit()\n",
        "\n",
        "  # PREDICT\n",
        "\n",
        "  predicted = []\n",
        "  \n",
        "  for i in range(0, need_predict):\n",
        "\n",
        "    if i >= num_features:\n",
        "      p = [1.0] + predicted[-num_features:]\n",
        "    else:\n",
        "      p = [1.0] + list(cases_all[\"Russia\"][field_name].iloc[-num_features + i:].values) + predicted\n",
        "\n",
        "    for c, info in top_3_countries:\n",
        "\n",
        "      from_ind = -num_features + info[\"lag\"] + i\n",
        "      to_ind = info[\"lag\"] + i\n",
        "      p += list(cases_all[c][field_name].iloc[from_ind: to_ind])\n",
        "      \n",
        "    predicted.append(model.predict(p)[0])\n",
        "  \n",
        "  return np.array(predicted)"
      ],
      "metadata": {
        "id": "msDav64gdY1x"
      },
      "execution_count": 15,
      "outputs": []
    },
    {
      "cell_type": "code",
      "source": [
        "days = [30, 60, 90]"
      ],
      "metadata": {
        "id": "o4r6-cvimrH7"
      },
      "execution_count": 16,
      "outputs": []
    },
    {
      "cell_type": "code",
      "source": [
        "cases_30, cases_60, cases_90 = (get_cases(i) for i in days)"
      ],
      "metadata": {
        "id": "TEx38H1vmuXV"
      },
      "execution_count": 17,
      "outputs": []
    },
    {
      "cell_type": "code",
      "source": [
        "lags_30, lags_60, lags_90 = (get_lags(i) for i in days)"
      ],
      "metadata": {
        "id": "r6NqjWMAm24z"
      },
      "execution_count": 18,
      "outputs": []
    },
    {
      "cell_type": "code",
      "source": [
        "df_dict = {30: (cases_30, lags_30), 60: (cases_60, lags_60)}#, 90:(cases_90, lags_90)}"
      ],
      "metadata": {
        "id": "uejKARAznP81"
      },
      "execution_count": 19,
      "outputs": []
    },
    {
      "cell_type": "code",
      "source": [
        "# cases_30['Russia'].items()\n",
        "# a = cases_30['Russia']['filtered_history']\n",
        "# a = a[a.index >= date(year=2021, month=1, day=1)]\n",
        "# (a.index[-1] - date(year=2021, month=1, day=1)).days\n",
        "# a.index[0]\\\n",
        "\n",
        "need_predict = 20\n",
        "country = 'Namibia'\n",
        "lags = lags_60\n",
        "\n",
        "# top_3_countries = [\n",
        "#     i for i in sorted(lags[country].items(),\n",
        "#                         key=lambda x: x[1][\"similarity\"]\n",
        "#                       ) if -i[1][\"lag\"] > need_predict\n",
        "#     ][-3:]\n",
        "# top_3_countries\n",
        "l = np.asarray([[1, 2], [4, 5]])\n",
        "pd.DataFrame(l)"
      ],
      "metadata": {
        "colab": {
          "base_uri": "https://localhost:8080/",
          "height": 112
        },
        "id": "z2RgBWz8UTTb",
        "outputId": "c39b2f2e-b4ac-4c81-d2f9-814494c71c7a"
      },
      "execution_count": 20,
      "outputs": [
        {
          "output_type": "execute_result",
          "data": {
            "text/html": [
              "\n",
              "  <div id=\"df-ebe34f85-c0b7-4cda-a63b-82fdc141d905\">\n",
              "    <div class=\"colab-df-container\">\n",
              "      <div>\n",
              "<style scoped>\n",
              "    .dataframe tbody tr th:only-of-type {\n",
              "        vertical-align: middle;\n",
              "    }\n",
              "\n",
              "    .dataframe tbody tr th {\n",
              "        vertical-align: top;\n",
              "    }\n",
              "\n",
              "    .dataframe thead th {\n",
              "        text-align: right;\n",
              "    }\n",
              "</style>\n",
              "<table border=\"1\" class=\"dataframe\">\n",
              "  <thead>\n",
              "    <tr style=\"text-align: right;\">\n",
              "      <th></th>\n",
              "      <th>0</th>\n",
              "      <th>1</th>\n",
              "    </tr>\n",
              "  </thead>\n",
              "  <tbody>\n",
              "    <tr>\n",
              "      <th>0</th>\n",
              "      <td>1</td>\n",
              "      <td>2</td>\n",
              "    </tr>\n",
              "    <tr>\n",
              "      <th>1</th>\n",
              "      <td>4</td>\n",
              "      <td>5</td>\n",
              "    </tr>\n",
              "  </tbody>\n",
              "</table>\n",
              "</div>\n",
              "      <button class=\"colab-df-convert\" onclick=\"convertToInteractive('df-ebe34f85-c0b7-4cda-a63b-82fdc141d905')\"\n",
              "              title=\"Convert this dataframe to an interactive table.\"\n",
              "              style=\"display:none;\">\n",
              "        \n",
              "  <svg xmlns=\"http://www.w3.org/2000/svg\" height=\"24px\"viewBox=\"0 0 24 24\"\n",
              "       width=\"24px\">\n",
              "    <path d=\"M0 0h24v24H0V0z\" fill=\"none\"/>\n",
              "    <path d=\"M18.56 5.44l.94 2.06.94-2.06 2.06-.94-2.06-.94-.94-2.06-.94 2.06-2.06.94zm-11 1L8.5 8.5l.94-2.06 2.06-.94-2.06-.94L8.5 2.5l-.94 2.06-2.06.94zm10 10l.94 2.06.94-2.06 2.06-.94-2.06-.94-.94-2.06-.94 2.06-2.06.94z\"/><path d=\"M17.41 7.96l-1.37-1.37c-.4-.4-.92-.59-1.43-.59-.52 0-1.04.2-1.43.59L10.3 9.45l-7.72 7.72c-.78.78-.78 2.05 0 2.83L4 21.41c.39.39.9.59 1.41.59.51 0 1.02-.2 1.41-.59l7.78-7.78 2.81-2.81c.8-.78.8-2.07 0-2.86zM5.41 20L4 18.59l7.72-7.72 1.47 1.35L5.41 20z\"/>\n",
              "  </svg>\n",
              "      </button>\n",
              "      \n",
              "  <style>\n",
              "    .colab-df-container {\n",
              "      display:flex;\n",
              "      flex-wrap:wrap;\n",
              "      gap: 12px;\n",
              "    }\n",
              "\n",
              "    .colab-df-convert {\n",
              "      background-color: #E8F0FE;\n",
              "      border: none;\n",
              "      border-radius: 50%;\n",
              "      cursor: pointer;\n",
              "      display: none;\n",
              "      fill: #1967D2;\n",
              "      height: 32px;\n",
              "      padding: 0 0 0 0;\n",
              "      width: 32px;\n",
              "    }\n",
              "\n",
              "    .colab-df-convert:hover {\n",
              "      background-color: #E2EBFA;\n",
              "      box-shadow: 0px 1px 2px rgba(60, 64, 67, 0.3), 0px 1px 3px 1px rgba(60, 64, 67, 0.15);\n",
              "      fill: #174EA6;\n",
              "    }\n",
              "\n",
              "    [theme=dark] .colab-df-convert {\n",
              "      background-color: #3B4455;\n",
              "      fill: #D2E3FC;\n",
              "    }\n",
              "\n",
              "    [theme=dark] .colab-df-convert:hover {\n",
              "      background-color: #434B5C;\n",
              "      box-shadow: 0px 1px 3px 1px rgba(0, 0, 0, 0.15);\n",
              "      filter: drop-shadow(0px 1px 2px rgba(0, 0, 0, 0.3));\n",
              "      fill: #FFFFFF;\n",
              "    }\n",
              "  </style>\n",
              "\n",
              "      <script>\n",
              "        const buttonEl =\n",
              "          document.querySelector('#df-ebe34f85-c0b7-4cda-a63b-82fdc141d905 button.colab-df-convert');\n",
              "        buttonEl.style.display =\n",
              "          google.colab.kernel.accessAllowed ? 'block' : 'none';\n",
              "\n",
              "        async function convertToInteractive(key) {\n",
              "          const element = document.querySelector('#df-ebe34f85-c0b7-4cda-a63b-82fdc141d905');\n",
              "          const dataTable =\n",
              "            await google.colab.kernel.invokeFunction('convertToInteractive',\n",
              "                                                     [key], {});\n",
              "          if (!dataTable) return;\n",
              "\n",
              "          const docLinkHtml = 'Like what you see? Visit the ' +\n",
              "            '<a target=\"_blank\" href=https://colab.research.google.com/notebooks/data_table.ipynb>data table notebook</a>'\n",
              "            + ' to learn more about interactive tables.';\n",
              "          element.innerHTML = '';\n",
              "          dataTable['output_type'] = 'display_data';\n",
              "          await google.colab.output.renderOutput(dataTable, element);\n",
              "          const docLink = document.createElement('div');\n",
              "          docLink.innerHTML = docLinkHtml;\n",
              "          element.appendChild(docLink);\n",
              "        }\n",
              "      </script>\n",
              "    </div>\n",
              "  </div>\n",
              "  "
            ],
            "text/plain": [
              "   0  1\n",
              "0  1  2\n",
              "1  4  5"
            ]
          },
          "metadata": {},
          "execution_count": 20
        }
      ]
    },
    {
      "cell_type": "code",
      "source": [
        "def get_predict_baseline(predict_country, lags, predict_days, cases, use_filter=False):\n",
        "    predict = np.zeros(predict_days)\n",
        "    weights = 0\n",
        "    field_name = (\"filtered_\" if use_filter else \"\") + \"history\"\n",
        "    mean_predict_country = cases[predict_country][field_name][-predict_days:].mean()\n",
        "\n",
        "    for country, desc in lags[predict_country].items():\n",
        "        days_lag = -desc[\"lag\"]  # т.к. всегда отрицательная величина\n",
        "        if days_lag <= predict_days:\n",
        "            continue\n",
        "        \n",
        "        cases_prev_days = cases[country][field_name].iloc[-days_lag: -days_lag + predict_days]\n",
        "        coef = (mean_predict_country / cases_prev_days.mean())\n",
        "        weight = np.sqrt(desc[\"similarity\"])\n",
        "        case = cases_prev_days.values * coef * weight\n",
        "        \n",
        "        if len(case) == predict_days:\n",
        "          weights += weight\n",
        "          predict += case\n",
        "    \n",
        "    if weights != 0:\n",
        "        return predict / weights\n",
        "    else:\n",
        "        return predict"
      ],
      "metadata": {
        "id": "2VwYfrP6lytQ"
      },
      "execution_count": 58,
      "outputs": []
    },
    {
      "cell_type": "code",
      "source": [
        "def validator_dict(model, df_dict, use_filter=True, return_mdape=False):\n",
        "    result = {}\n",
        "    # mape = []\n",
        "    mdape = []\n",
        "    \n",
        "    for days, lst in df_dict.items():\n",
        "\n",
        "      cases, lags = lst\n",
        "      for country in lags.keys():\n",
        "          \n",
        "       if country == \"Russia\":\n",
        "        y_true = cases[country][f\"{'filtered_' if use_filter else ''}validate\"]\n",
        "        y_pred = model(country, lags, days, cases, use_filter)\n",
        "\n",
        "        if not return_mdape: return y_true, y_pred\n",
        "\n",
        "        if any(y_pred != y_pred) or any(y_pred == 0) or any(y_true == 0):\n",
        "            continue\n",
        "        \n",
        "        # mape.append(mean_absolute_percentage_error(y_true, y_pred)) \n",
        "        mdape.append(median_percentage_absolute_error(y_true, y_pred)) \n",
        "        \n",
        "      result[str(days) + ' days'] = np.array(mdape).mean()\n",
        "\n",
        "    return result"
      ],
      "metadata": {
        "id": "nvpfS2oZ2O7n"
      },
      "execution_count": 40,
      "outputs": []
    },
    {
      "cell_type": "code",
      "source": [
        "validator_dict(get_predict, df_dict, True, True)"
      ],
      "metadata": {
        "id": "8TiFzvMm1cE2",
        "outputId": "eac100de-5952-4dea-8824-0d2499885210",
        "colab": {
          "base_uri": "https://localhost:8080/"
        }
      },
      "execution_count": 42,
      "outputs": [
        {
          "output_type": "execute_result",
          "data": {
            "text/plain": [
              "{'30 days': 0.61067, '60 days': 0.417428}"
            ]
          },
          "metadata": {},
          "execution_count": 42
        }
      ]
    },
    {
      "cell_type": "code",
      "source": [
        "true_, pred_ = validator_dict(get_predict, df_dict, True)"
      ],
      "metadata": {
        "id": "99J_UBK-3Gno"
      },
      "execution_count": 22,
      "outputs": []
    },
    {
      "cell_type": "code",
      "source": [
        "%matplotlib inline"
      ],
      "metadata": {
        "id": "ttbviHhD1GGw"
      },
      "execution_count": 23,
      "outputs": []
    },
    {
      "cell_type": "code",
      "source": [
        "from matplotlib import pyplot as plt\n",
        "plt.scatter(true_.index, true_.values)\n",
        "plt.scatter(true_.index, pred_)"
      ],
      "metadata": {
        "colab": {
          "base_uri": "https://localhost:8080/",
          "height": 284
        },
        "id": "Y8j7XfNi1IGX",
        "outputId": "71b94bda-8249-4b9f-d8e3-06b0923cffea"
      },
      "execution_count": 24,
      "outputs": [
        {
          "output_type": "execute_result",
          "data": {
            "text/plain": [
              "<matplotlib.collections.PathCollection at 0x7f77dbf7e1d0>"
            ]
          },
          "metadata": {},
          "execution_count": 24
        },
        {
          "output_type": "display_data",
          "data": {
            "image/png": "[encoded data removed]",
            "text/plain": [
              "<Figure size 432x288 with 1 Axes>"
            ]
          },
          "metadata": {
            "needs_background": "light"
          }
        }
      ]
    },
    {
      "cell_type": "code",
      "source": [
        "validator_dict(get_predict, df_dict, True)"
      ],
      "metadata": {
        "id": "MGbwvZdwxeTf",
        "colab": {
          "base_uri": "https://localhost:8080/"
        },
        "outputId": "b50e7be4-3654-4818-fd8d-ee00e107d4eb"
      },
      "execution_count": 25,
      "outputs": [
        {
          "output_type": "execute_result",
          "data": {
            "text/plain": [
              "(Last_Update\n",
              " 2022-01-03     15903.186074\n",
              " 2022-01-04     15375.798342\n",
              " 2022-01-05     15097.706064\n",
              " 2022-01-06     15199.817029\n",
              " 2022-01-07     15708.974767\n",
              " 2022-01-08     17229.301400\n",
              " 2022-01-09     18958.113152\n",
              " 2022-01-10     20895.410024\n",
              " 2022-01-11     23041.192015\n",
              " 2022-01-12     25395.459127\n",
              " 2022-01-13     27958.211358\n",
              " 2022-01-14     30729.448709\n",
              " 2022-01-15     33709.171180\n",
              " 2022-01-16     36897.378771\n",
              " 2022-01-17     40294.071481\n",
              " 2022-01-18     43899.249311\n",
              " 2022-01-19     47712.912261\n",
              " 2022-01-20     51735.060331\n",
              " 2022-01-21     55965.693521\n",
              " 2022-01-22     60404.811830\n",
              " 2022-01-23     65052.415259\n",
              " 2022-01-24     69908.503808\n",
              " 2022-01-25     74973.077477\n",
              " 2022-01-26     80246.136266\n",
              " 2022-01-27     85727.680174\n",
              " 2022-01-28     91417.709203\n",
              " 2022-01-29     97316.223351\n",
              " 2022-01-30    103423.222618\n",
              " 2022-01-31    109738.707006\n",
              " 2022-02-01    116262.676513\n",
              " dtype: float64,\n",
              " array([15738.44763181, 15065.49219754, 14491.12777501, 14113.86076613,\n",
              "        13891.29646748, 13747.73906791, 13624.35799483, 13469.07782823,\n",
              "        13322.34448255, 13349.73828031, 13571.02605648, 13974.42731983,\n",
              "        14580.6308449 , 15292.56258529, 16006.99551728, 16743.4522073 ,\n",
              "        17519.06821266, 18361.32448758, 19381.31015738, 20612.96165361,\n",
              "        21968.75299731, 23343.89089155, 24606.95464408, 25773.30990333,\n",
              "        26904.36905451, 28097.1686763 , 29413.22613645, 30802.75453535,\n",
              "        32091.91816024, 33154.78094094]))"
            ]
          },
          "metadata": {},
          "execution_count": 25
        }
      ]
    },
    {
      "cell_type": "code",
      "source": [
        "early = [127297.73641993303, 132600.20483385914, 136619.37434922362, 140836.80730270335, 143737.04746894058, 142813.11085296664, 142630.53345246712, 143341.5066806572, 143076.48524371465, 146335.75887030794, 146210.0414530263,147364.13578195698, 150360.07855808048, 150905.0310396987, 149520.86527956236, 156450.18866885972, 156425.910736048, 160164.36502176864, 162606.36517775926, 169749.19835550373, 170366.17978586693, 171357.34940489975, 173582.94171802138,174031.0639300036, 177210.84705378467, 178115.14202578535, 181952.4384241183, 180652.69380222203, 181609.9641533312, 178259.66305531352]"
      ],
      "metadata": {
        "id": "RtlIyMAJ8QjE"
      },
      "execution_count": 26,
      "outputs": []
    },
    {
      "cell_type": "code",
      "source": [
        "cases = get_cases(0)\n",
        "lags = get_lags(0)"
      ],
      "metadata": {
        "id": "jgsNny8NmrGz"
      },
      "execution_count": 27,
      "outputs": []
    },
    {
      "cell_type": "code",
      "source": [
        "predict = get_predict(\"Russia\", lags, 30, cases)"
      ],
      "metadata": {
        "id": "LBUo5iljlY2p"
      },
      "execution_count": 28,
      "outputs": []
    },
    {
      "cell_type": "code",
      "source": [
        "# len(a.values)"
      ],
      "metadata": {
        "colab": {
          "base_uri": "https://localhost:8080/",
          "height": 165
        },
        "id": "ElLkEw8QxV03",
        "outputId": "c69b8df8-dbe4-4eea-f1d5-1af83a124db0"
      },
      "execution_count": 29,
      "outputs": [
        {
          "output_type": "error",
          "ename": "NameError",
          "evalue": "ignored",
          "traceback": [
            "\u001b[0;31m---------------------------------------------------------------------------\u001b[0m",
            "\u001b[0;31mNameError\u001b[0m                                 Traceback (most recent call last)",
            "\u001b[0;32m<ipython-input-29-1b88b0af99e4>\u001b[0m in \u001b[0;36m<module>\u001b[0;34m()\u001b[0m\n\u001b[0;32m----> 1\u001b[0;31m \u001b[0mlen\u001b[0m\u001b[0;34m(\u001b[0m\u001b[0ma\u001b[0m\u001b[0;34m.\u001b[0m\u001b[0mvalues\u001b[0m\u001b[0;34m)\u001b[0m\u001b[0;34m\u001b[0m\u001b[0;34m\u001b[0m\u001b[0m\n\u001b[0m",
            "\u001b[0;31mNameError\u001b[0m: name 'a' is not defined"
          ]
        }
      ]
    },
    {
      "cell_type": "code",
      "source": [
        "# print(len(a.index), len(predict))"
      ],
      "metadata": {
        "id": "OIWdUVsZxYCp"
      },
      "execution_count": null,
      "outputs": []
    },
    {
      "cell_type": "code",
      "source": [
        "a = cases[\"Russia\"][\"history\"].iloc[-30:]\n",
        "plt.scatter(range(0, 30), list(a.values))\n",
        "plt.scatter(range(30, 60), list(predict))\n",
        "plt.show();"
      ],
      "metadata": {
        "colab": {
          "base_uri": "https://localhost:8080/",
          "height": 265
        },
        "id": "kCr0rfvnwvn2",
        "outputId": "c3169f86-e39f-4882-93f3-47021b2e062b"
      },
      "execution_count": 30,
      "outputs": [
        {
          "output_type": "display_data",
          "data": {
            "image/png": "[encoded data removed]",
            "text/plain": [
              "<Figure size 432x288 with 1 Axes>"
            ]
          },
          "metadata": {
            "needs_background": "light"
          }
        }
      ]
    }
  ]
}