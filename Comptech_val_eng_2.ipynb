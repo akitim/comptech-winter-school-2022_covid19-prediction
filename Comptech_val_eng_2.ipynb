{
  "nbformat": 4,
  "nbformat_minor": 0,
  "metadata": {
    "colab": {
      "name": "Comptech_val_eng_2.ipynb",
      "provenance": [],
      "include_colab_link": true
    },
    "kernelspec": {
      "name": "python3",
      "display_name": "Python 3"
    },
    "language_info": {
      "name": "python"
    }
  },
  "cells": [
    {
      "cell_type": "markdown",
      "metadata": {
        "id": "view-in-github",
        "colab_type": "text"
      },
      "source": [
        "<a href=\"https://colab.research.google.com/github/akitim/comptech-winter-school-2022_covid19-prediction/blob/main/Comptech_val_eng_2.ipynb\" target=\"_parent\"><img src=\"https://colab.research.google.com/assets/colab-badge.svg\" alt=\"Open In Colab\"/></a>"
      ]
    },
    {
      "cell_type": "code",
      "source": [
        "!pip install httpx"
      ],
      "metadata": {
        "id": "8KFoQ_x4lCz6",
        "outputId": "187d8818-0f7b-4290-bedb-78d2b8904a6c",
        "colab": {
          "base_uri": "https://localhost:8080/"
        }
      },
      "execution_count": 89,
      "outputs": [
        {
          "output_type": "stream",
          "name": "stdout",
          "text": [
            "Requirement already satisfied: httpx in /usr/local/lib/python3.7/dist-packages (0.22.0)\n",
            "Requirement already satisfied: sniffio in /usr/local/lib/python3.7/dist-packages (from httpx) (1.2.0)\n",
            "Requirement already satisfied: certifi in /usr/local/lib/python3.7/dist-packages (from httpx) (2021.10.8)\n",
            "Requirement already satisfied: httpcore<0.15.0,>=0.14.5 in /usr/local/lib/python3.7/dist-packages (from httpx) (0.14.6)\n",
            "Requirement already satisfied: charset-normalizer in /usr/local/lib/python3.7/dist-packages (from httpx) (2.0.11)\n",
            "Requirement already satisfied: rfc3986[idna2008]<2,>=1.3 in /usr/local/lib/python3.7/dist-packages (from httpx) (1.5.0)\n",
            "Requirement already satisfied: h11<0.13,>=0.11 in /usr/local/lib/python3.7/dist-packages (from httpcore<0.15.0,>=0.14.5->httpx) (0.12.0)\n",
            "Requirement already satisfied: anyio==3.* in /usr/local/lib/python3.7/dist-packages (from httpcore<0.15.0,>=0.14.5->httpx) (3.5.0)\n",
            "Requirement already satisfied: idna>=2.8 in /usr/local/lib/python3.7/dist-packages (from anyio==3.*->httpcore<0.15.0,>=0.14.5->httpx) (2.10)\n",
            "Requirement already satisfied: typing-extensions in /usr/local/lib/python3.7/dist-packages (from anyio==3.*->httpcore<0.15.0,>=0.14.5->httpx) (3.10.0.2)\n"
          ]
        }
      ]
    },
    {
      "cell_type": "code",
      "execution_count": 90,
      "metadata": {
        "id": "CI-GOycEj3OP"
      },
      "outputs": [],
      "source": [
        "import pandas as pd\n",
        "import itertools\n",
        "from scipy.signal import savgol_filter\n",
        "from tqdm.notebook import tqdm\n",
        "import json\n",
        "from collections import defaultdict\n",
        "import pickle\n",
        "from matplotlib import pyplot as plt\n",
        "import pickle\n",
        "import numpy as np\n",
        "from sklearn.metrics import mean_absolute_percentage_error as mape, mean_absolute_error as mae\n",
        "import statsmodels.api as sm\n",
        "from datetime import date, timedelta\n",
        "import pickle\n",
        "import httpx\n",
        "import json\n",
        "import warnings\n",
        "warnings.filterwarnings('ignore')"
      ]
    },
    {
      "cell_type": "code",
      "source": [
        "def get_cases(days):\n",
        "  data = httpx.get(f\"https://storage.yandexcloud.net/covid-19/cases{\\\n",
        "      ('_' + str(days)) if days != 0 else ''}.pickle\").content\n",
        "  return pickle.loads(data)"
      ],
      "metadata": {
        "id": "2lp0hBE8k3mB"
      },
      "execution_count": 91,
      "outputs": []
    },
    {
      "cell_type": "code",
      "source": [
        "def get_lags(days):\n",
        "  data = httpx.get(f\"https://storage.yandexcloud.net/covid-19/lags{\\\n",
        "      ('_' + str(days)) if days != 0 else ''}.json\").content\n",
        "  return json.loads(data)"
      ],
      "metadata": {
        "id": "UkokiU0JlPHk"
      },
      "execution_count": 92,
      "outputs": []
    },
    {
      "cell_type": "code",
      "source": [
        "def median_percentage_absolute_error(y_true, y_pred):\n",
        "    return np.round(np.median(np.abs((y_true - y_pred) / y_true)), 6)"
      ],
      "metadata": {
        "id": "B9groByTtYiO"
      },
      "execution_count": 93,
      "outputs": []
    },
    {
      "cell_type": "code",
      "source": [
        "def get_columns(country, top_3_countries, num_features):\n",
        "  first = [f\"{country}_{i}\" for i in range(1, 31)]\n",
        "  second = []\n",
        "  for c, _ in top_3_countries:\n",
        "    for i in range(1, num_features + 1):  \n",
        "      second.append(f\"{c}_{i}\")\n",
        "  second.append('y')\n",
        "  return first + second\n",
        "\n",
        "\n",
        "def get_predict_linregr(country, lags, need_predict, cases_all, use_filter=True, num_features=30):\n",
        "\n",
        "  field_name = (\"filtered_\" if use_filter else \"\") + \"history\"\n",
        "  threshold = date(year=2021, month=1, day=1)\n",
        "\n",
        "  # PREPARE TRAIN DATA\n",
        "  a = cases_all[country][field_name] #случаи по стране cглаженные или нет\n",
        "  a = a[a.index >= threshold] #отсечение - берем даты после 01.01.2021\n",
        "  df_list = []\n",
        "  top_3_countries = [\n",
        "    i for i in sorted(lags[country].items(),\n",
        "                        key=lambda x: x[1][\"similarity\"]\n",
        "                      ) if -i[1][\"lag\"] > need_predict\n",
        "    ][-3:] #топ-3 страны с максимальной корреляцией\n",
        "\n",
        "  for window in range(num_features, (a.index[-1] - threshold).days): # window проходит значения от кол-ва пр-ков до кол-ва дней в рассм. cases\n",
        "    this_row = list(a[window - num_features : window].values)\n",
        "    y = a[window]\n",
        "\n",
        "    for country_similar, info in top_3_countries:\n",
        "\n",
        "      b = cases_all[country_similar][field_name]\n",
        "      this_row += list(b[b.index > threshold - timedelta(days=-info[\"lag\"])]\n",
        "                       [window - num_features : window].values)\n",
        "\n",
        "    this_row.append(y)\n",
        "    df_list.append(this_row)\n",
        "\n",
        "  df = pd.DataFrame(df_list, columns=get_columns(country, top_3_countries, num_features))\n",
        "\n",
        "  # FIT\n",
        "\n",
        "  X = sm.add_constant(df.drop('y', axis=1))\n",
        "  y = df['y']\n",
        "  model = sm.OLS(y, X).fit()\n",
        "\n",
        "  # PREDICT\n",
        "\n",
        "  predicted = []\n",
        "\n",
        "  for i in range(0, need_predict):\n",
        "\n",
        "    if i >= num_features:\n",
        "      p = [1.0] + predicted[-num_features:]\n",
        "    else:\n",
        "      p = [1.0] + list(cases_all[\"Russia\"][field_name].iloc[-num_features + i : ].values) + predicted\n",
        "\n",
        "    for c, info in top_3_countries:\n",
        "\n",
        "      from_ind = -num_features + info[\"lag\"] + i\n",
        "      to_ind = info[\"lag\"] + i\n",
        "      p += list(cases_all[c][field_name].iloc[from_ind : to_ind])\n",
        "      \n",
        "    predicted.append(model.predict(p)[0])\n",
        "  \n",
        "  return np.array(predicted), df.drop('y', axis=1)"
      ],
      "metadata": {
        "id": "msDav64gdY1x"
      },
      "execution_count": 94,
      "outputs": []
    },
    {
      "cell_type": "code",
      "source": [
        "days = [30, 60, 90]"
      ],
      "metadata": {
        "id": "o4r6-cvimrH7"
      },
      "execution_count": 95,
      "outputs": []
    },
    {
      "cell_type": "code",
      "source": [
        "cases_30, cases_60, cases_90 = (get_cases(i) for i in days)"
      ],
      "metadata": {
        "id": "TEx38H1vmuXV"
      },
      "execution_count": 96,
      "outputs": []
    },
    {
      "cell_type": "code",
      "source": [
        "# cases_30['Russia']['history'], cases_30['Russia']['validate']"
      ],
      "metadata": {
        "id": "_9wVuWupBQ0N"
      },
      "execution_count": 97,
      "outputs": []
    },
    {
      "cell_type": "code",
      "source": [
        "lags_30, lags_60, lags_90 = (get_lags(i) for i in days)"
      ],
      "metadata": {
        "id": "r6NqjWMAm24z"
      },
      "execution_count": 98,
      "outputs": []
    },
    {
      "cell_type": "code",
      "source": [
        "df_dict = {30: (cases_30, lags_30), 60: (cases_60, lags_60)}#, 90:(cases_90, lags_90)}"
      ],
      "metadata": {
        "id": "uejKARAznP81"
      },
      "execution_count": 99,
      "outputs": []
    },
    {
      "cell_type": "code",
      "source": [
        "# cases_30['Russia'].items()\n",
        "# a = cases_30['Russia']['filtered_history']\n",
        "# a = a[a.index >= date(year=2021, month=1, day=1)]\n",
        "# (a.index[-1] - date(year=2021, month=1, day=1)).days\n",
        "# a.index[0]\\\n"
      ],
      "metadata": {
        "id": "z2RgBWz8UTTb"
      },
      "execution_count": 100,
      "outputs": []
    },
    {
      "cell_type": "code",
      "source": [
        "def get_predict_baseline(predict_country, lags, predict_days, cases, use_filter=False):\n",
        "    predict = np.zeros(predict_days)\n",
        "    weights = 0\n",
        "    field_name = (\"filtered_\" if use_filter else \"\") + \"history\"\n",
        "    mean_predict_country = cases[predict_country][field_name][-predict_days:].mean()\n",
        "\n",
        "    for country, desc in lags[predict_country].items():\n",
        "        days_lag = -desc[\"lag\"]  # т.к. всегда отрицательная величина\n",
        "        if days_lag <= predict_days:\n",
        "            continue\n",
        "        \n",
        "        cases_prev_days = cases[country][field_name].iloc[-days_lag: -days_lag + predict_days]\n",
        "        coef = (mean_predict_country / cases_prev_days.mean())\n",
        "        weight = np.sqrt(desc[\"similarity\"])\n",
        "        case = cases_prev_days.values * coef * weight\n",
        "        \n",
        "        if len(case) == predict_days:\n",
        "          weights += weight\n",
        "          predict += case\n",
        "    \n",
        "    if weights != 0:\n",
        "        return predict / weights\n",
        "    else:\n",
        "        return predict"
      ],
      "metadata": {
        "id": "2VwYfrP6lytQ"
      },
      "execution_count": 101,
      "outputs": []
    },
    {
      "cell_type": "code",
      "source": [
        "def validator_dict(model, df_dict, use_filter=True, return_mdape=False):\n",
        "    result = {}\n",
        "    # mape = []\n",
        "    mdape = []\n",
        "    \n",
        "    for days, lst in df_dict.items():\n",
        "\n",
        "      cases, lags = lst\n",
        "      for country in lags.keys():\n",
        "          \n",
        "       if country == \"Russia\":\n",
        "        y_true = cases[country][f\"{'filtered_' if use_filter else ''}validate\"]\n",
        "        y_pred = model(country, lags, days, cases, use_filter)[0]\n",
        "\n",
        "        if not return_mdape: return y_true, y_pred\n",
        "\n",
        "        if any(y_pred != y_pred) or any(y_pred == 0) or any(y_true == 0):\n",
        "            continue\n",
        "        \n",
        "        # mape.append(mean_absolute_percentage_error(y_true, y_pred)) \n",
        "        mdape.append(median_percentage_absolute_error(y_true, y_pred)) \n",
        "        \n",
        "      result[str(days) + ' days'] = np.array(mdape).mean()\n",
        "\n",
        "    return result"
      ],
      "metadata": {
        "id": "nvpfS2oZ2O7n"
      },
      "execution_count": 102,
      "outputs": []
    },
    {
      "cell_type": "code",
      "source": [
        "def get_predict_mean(country, n_days, need_predict, cases_all, use_filter=True, pred_from=None):\n",
        "\n",
        "    field_name = (\"filtered_\" if use_filter else \"\") + \"history\"\n",
        "    threshold = date(year=2021, month=1, day=1)\n",
        "\n",
        "    just_cases = cases_all[country][field_name]\n",
        "    if pred_from:\n",
        "        mean_value = np.mean(just_cases[pred_from - n_days : pred_from].values)\n",
        "    else:\n",
        "        mean_value = np.mean(just_cases[- n_days : ].values)\n",
        "\n",
        "    predict = np.asarray([mean_value for i in range(0, need_predict)])\n",
        "\n",
        "    return predict\n",
        "\n",
        "def validator_n_days_mean_dict(country, model, n_days, cases, days=[30, 60], use_filter=True, return_mdape=False):\n",
        "\n",
        "    for day in days:\n",
        "\n",
        "        for w in range():\n",
        "            cases\n",
        "        get_predict_mean(country, n_days, need_predict, cases_all, use_filter=True, pred_from=None)\n",
        "\n",
        "\n",
        "\n",
        "    pass"
      ],
      "metadata": {
        "id": "6ran1wiw8vOc"
      },
      "execution_count": 103,
      "outputs": []
    },
    {
      "cell_type": "code",
      "source": [
        "cases = get_cases(0)"
      ],
      "metadata": {
        "id": "Kw2mrMe8b3TR"
      },
      "execution_count": 104,
      "outputs": []
    },
    {
      "cell_type": "code",
      "source": [
        "days = [30, 60] #, 90]\n",
        "n_days = 2\n",
        "country = 'Russia'"
      ],
      "metadata": {
        "id": "ALdtEBZzUsNp"
      },
      "execution_count": 105,
      "outputs": []
    },
    {
      "cell_type": "code",
      "source": [
        "pure_cases = cases[country]['history']\n",
        "metrics = {}\n",
        "\n",
        "for day in days:\n",
        "    \n",
        "    mae_ls = []\n",
        "    mape_ls = []\n",
        "\n",
        "    for w in range(n_days, pure_cases.size - n_days - day):\n",
        "\n",
        "        y_true = pure_cases[w : w + day]\n",
        "        y_pred = get_predict_mean(country=country,\n",
        "                                  n_days = n_days,\n",
        "                                  need_predict = day,\n",
        "                                  cases_all=cases,\n",
        "                                  use_filter=True,\n",
        "                                  pred_from=w\n",
        "        )\n",
        "\n",
        "        mae_ls += [mae(y_true, y_pred)]\n",
        "        mape_ls += [mape(y_true, y_pred)]\n",
        "    \n",
        "    metrics[f'{day} days'] = {'MAE': np.mean(mae_ls),\n",
        "                              'MAPE': np.mean(mape_ls)}\n",
        "metrics"
      ],
      "metadata": {
        "colab": {
          "base_uri": "https://localhost:8080/"
        },
        "id": "8TiFzvMm1cE2",
        "outputId": "5abb8dd7-f19a-473d-a1bd-ae528b686f27"
      },
      "execution_count": 106,
      "outputs": [
        {
          "output_type": "execute_result",
          "data": {
            "text/plain": [
              "{'30 days': {'MAE': 3117.1705034846727, 'MAPE': 0.19518941940001733},\n",
              " '60 days': {'MAE': 4978.604812520736, 'MAPE': 0.3107107747251254}}"
            ]
          },
          "metadata": {},
          "execution_count": 106
        }
      ]
    },
    {
      "cell_type": "code",
      "source": [
        "import seaborn as sns\n",
        "\n",
        "# plt.figure(figsize=(20, 20))\n",
        "# sns.heatmap(get_predict('Russia', lags_30, 30, cases_30, True, 30)[1].corr(), cmap='coolwarm');\n",
        "\n",
        "rp = get_predict_linregr('Russia', lags_30, 30, cases_30, True, 30)[1].corr()\n",
        "any(~rp[rp <= 0.5].isna()) #.columns"
      ],
      "metadata": {
        "colab": {
          "base_uri": "https://localhost:8080/"
        },
        "id": "X5r-pii4ILKS",
        "outputId": "afe36ec4-61ed-4610-ac3a-3e7c8ff76c08"
      },
      "execution_count": 107,
      "outputs": [
        {
          "output_type": "execute_result",
          "data": {
            "text/plain": [
              "True"
            ]
          },
          "metadata": {},
          "execution_count": 107
        }
      ]
    },
    {
      "cell_type": "code",
      "source": [
        "true_, pred_ = validator_dict(get_predict_linregr, df_dict, True)"
      ],
      "metadata": {
        "id": "99J_UBK-3Gno"
      },
      "execution_count": 108,
      "outputs": []
    },
    {
      "cell_type": "code",
      "source": [
        "%matplotlib inline"
      ],
      "metadata": {
        "id": "ttbviHhD1GGw"
      },
      "execution_count": 109,
      "outputs": []
    },
    {
      "cell_type": "code",
      "source": [
        "from matplotlib import pyplot as plt\n",
        "plt.scatter(true_.index, true_.values);\n",
        "plt.scatter(true_.index, pred_);"
      ],
      "metadata": {
        "colab": {
          "base_uri": "https://localhost:8080/",
          "height": 265
        },
        "id": "Y8j7XfNi1IGX",
        "outputId": "a5dad090-7d95-44cd-e3fd-6f1e94ab8df3"
      },
      "execution_count": 110,
      "outputs": [
        {
          "output_type": "display_data",
          "data": {
            "image/png": "[encoded data removed]",
            "text/plain": [
              "<Figure size 432x288 with 1 Axes>"
            ]
          },
          "metadata": {
            "needs_background": "light"
          }
        }
      ]
    },
    {
      "cell_type": "code",
      "source": [
        "early = [127297.73641993303, 132600.20483385914, 136619.37434922362, 140836.80730270335, 143737.04746894058, 142813.11085296664, 142630.53345246712, 143341.5066806572, 143076.48524371465, 146335.75887030794, 146210.0414530263,147364.13578195698, 150360.07855808048, 150905.0310396987, 149520.86527956236, 156450.18866885972, 156425.910736048, 160164.36502176864, 162606.36517775926, 169749.19835550373, 170366.17978586693, 171357.34940489975, 173582.94171802138,174031.0639300036, 177210.84705378467, 178115.14202578535, 181952.4384241183, 180652.69380222203, 181609.9641533312, 178259.66305531352]"
      ],
      "metadata": {
        "id": "RtlIyMAJ8QjE"
      },
      "execution_count": 111,
      "outputs": []
    },
    {
      "cell_type": "code",
      "source": [
        "cases = get_cases(0)\n",
        "lags = get_lags(0)"
      ],
      "metadata": {
        "id": "jgsNny8NmrGz"
      },
      "execution_count": 112,
      "outputs": []
    },
    {
      "cell_type": "code",
      "source": [
        "predict = get_predict_linregr(\"Russia\", lags, 30, cases)[0]\n",
        "predict.size"
      ],
      "metadata": {
        "id": "LBUo5iljlY2p",
        "colab": {
          "base_uri": "https://localhost:8080/"
        },
        "outputId": "399edd81-dbe4-4f1f-fee9-b7ec4c4f085b"
      },
      "execution_count": 113,
      "outputs": [
        {
          "output_type": "execute_result",
          "data": {
            "text/plain": [
              "30"
            ]
          },
          "metadata": {},
          "execution_count": 113
        }
      ]
    },
    {
      "cell_type": "code",
      "source": [
        "a = cases[\"Russia\"][\"history\"].iloc[-30:]\n",
        "plt.scatter(range(0, 30), a.values)\n",
        "plt.scatter(range(30, 30 + predict.size), list(predict))\n",
        "plt.show();"
      ],
      "metadata": {
        "colab": {
          "base_uri": "https://localhost:8080/",
          "height": 265
        },
        "id": "kCr0rfvnwvn2",
        "outputId": "c9378003-2f71-4fd2-fc4d-369a5ff50cb2"
      },
      "execution_count": 114,
      "outputs": [
        {
          "output_type": "display_data",
          "data": {
            "image/png": "[encoded data removed]",
            "text/plain": [
              "<Figure size 432x288 with 1 Axes>"
            ]
          },
          "metadata": {
            "needs_background": "light"
          }
        }
      ]
    }
  ]
}