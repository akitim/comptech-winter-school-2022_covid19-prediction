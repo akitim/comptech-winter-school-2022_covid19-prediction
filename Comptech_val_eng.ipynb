{
  "nbformat": 4,
  "nbformat_minor": 0,
  "metadata": {
    "colab": {
      "name": "Comptech_val_eng.ipynb",
      "provenance": [],
      "include_colab_link": true
    },
    "kernelspec": {
      "name": "python3",
      "display_name": "Python 3"
    },
    "language_info": {
      "name": "python"
    }
  },
  "cells": [
    {
      "cell_type": "markdown",
      "metadata": {
        "id": "view-in-github",
        "colab_type": "text"
      },
      "source": [
        "<a href=\"https://colab.research.google.com/github/akitim/comptech-winter-school-2022_covid19-prediction/blob/main/Comptech_val_eng.ipynb\" target=\"_parent\"><img src=\"https://colab.research.google.com/assets/colab-badge.svg\" alt=\"Open In Colab\"/></a>"
      ]
    },
    {
      "cell_type": "markdown",
      "source": [
        "МОЯ копия версии Артема"
      ],
      "metadata": {
        "id": "RavQ7uY80j54"
      }
    },
    {
      "cell_type": "code",
      "execution_count": null,
      "metadata": {
        "id": "CI-GOycEj3OP"
      },
      "outputs": [],
      "source": [
        "import pandas as pd\n",
        "import itertools\n",
        "from scipy.signal import savgol_filter\n",
        "from tqdm.notebook import tqdm\n",
        "import json\n",
        "from collections import defaultdict\n",
        "import pickle\n",
        "from matplotlib import pyplot as plt\n",
        "import pickle\n",
        "import numpy as np\n",
        "from sklearn.metrics import mean_absolute_percentage_error"
      ]
    },
    {
      "cell_type": "code",
      "source": [
        "import pickle"
      ],
      "metadata": {
        "id": "pv6cnZ8Dk0n7"
      },
      "execution_count": null,
      "outputs": []
    },
    {
      "cell_type": "code",
      "source": [
        "!pip install httpx"
      ],
      "metadata": {
        "id": "8KFoQ_x4lCz6",
        "outputId": "77189dd1-3e53-4e11-d0ed-d4febdcdef70",
        "colab": {
          "base_uri": "https://localhost:8080/"
        }
      },
      "execution_count": null,
      "outputs": [
        {
          "output_type": "stream",
          "name": "stdout",
          "text": [
            "Collecting httpx\n",
            "  Downloading httpx-0.22.0-py3-none-any.whl (84 kB)\n",
            "\u001b[K     |████████████████████████████████| 84 kB 896 kB/s \n",
            "\u001b[?25hCollecting httpcore<0.15.0,>=0.14.5\n",
            "  Downloading httpcore-0.14.5-py3-none-any.whl (67 kB)\n",
            "\u001b[K     |████████████████████████████████| 67 kB 2.1 MB/s \n",
            "\u001b[?25hCollecting rfc3986[idna2008]<2,>=1.3\n",
            "  Downloading rfc3986-1.5.0-py2.py3-none-any.whl (31 kB)\n",
            "Requirement already satisfied: certifi in /usr/local/lib/python3.7/dist-packages (from httpx) (2021.10.8)\n",
            "Collecting sniffio\n",
            "  Downloading sniffio-1.2.0-py3-none-any.whl (10 kB)\n",
            "Requirement already satisfied: charset-normalizer in /usr/local/lib/python3.7/dist-packages (from httpx) (2.0.10)\n",
            "Collecting anyio==3.*\n",
            "  Downloading anyio-3.5.0-py3-none-any.whl (79 kB)\n",
            "\u001b[K     |████████████████████████████████| 79 kB 2.8 MB/s \n",
            "\u001b[?25hCollecting h11<0.13,>=0.11\n",
            "  Downloading h11-0.12.0-py3-none-any.whl (54 kB)\n",
            "\u001b[K     |████████████████████████████████| 54 kB 729 kB/s \n",
            "\u001b[?25hRequirement already satisfied: typing-extensions in /usr/local/lib/python3.7/dist-packages (from anyio==3.*->httpcore<0.15.0,>=0.14.5->httpx) (3.10.0.2)\n",
            "Requirement already satisfied: idna>=2.8 in /usr/local/lib/python3.7/dist-packages (from anyio==3.*->httpcore<0.15.0,>=0.14.5->httpx) (2.10)\n",
            "Installing collected packages: sniffio, rfc3986, h11, anyio, httpcore, httpx\n",
            "Successfully installed anyio-3.5.0 h11-0.12.0 httpcore-0.14.5 httpx-0.22.0 rfc3986-1.5.0 sniffio-1.2.0\n"
          ]
        }
      ]
    },
    {
      "cell_type": "code",
      "source": [
        "def get_cases(days):\n",
        "  import httpx\n",
        "  data = httpx.get(f\"https://storage.yandexcloud.net/covid-19/cases_{days}.pickle\").content\n",
        "  return pickle.loads(data)"
      ],
      "metadata": {
        "id": "2lp0hBE8k3mB"
      },
      "execution_count": null,
      "outputs": []
    },
    {
      "cell_type": "code",
      "source": [
        "def get_lags(days):\n",
        "  import json\n",
        "  import httpx\n",
        "  data = httpx.get(f\"https://storage.yandexcloud.net/covid-19/lags_{days}.json\").content\n",
        "  return json.loads(data)"
      ],
      "metadata": {
        "id": "UkokiU0JlPHk"
      },
      "execution_count": null,
      "outputs": []
    },
    {
      "cell_type": "code",
      "source": [
        "def get_predict(predict_country, lags, predict_days, cases, use_filter=False):\n",
        "    predict = np.zeros(predict_days)\n",
        "    weights = 0\n",
        "    field_name = (\"filtered_\" if use_filter else \"\") + \"history\"\n",
        "    mean_predict_country = cases[predict_country][field_name][-predict_days:].mean()\n",
        "\n",
        "    for country, desc in lags[predict_country].items():\n",
        "        days_lag = -desc[\"lag\"]  # т.к. всегда отрицательная величина\n",
        "        if days_lag <= predict_days:\n",
        "            continue\n",
        "        \n",
        "        cases_prev_days = cases[country][field_name].iloc[-days_lag: -days_lag + predict_days]\n",
        "        coef = (mean_predict_country / cases_prev_days.mean())\n",
        "        weight = np.sqrt(desc[\"similarity\"])\n",
        "        case = cases_prev_days.values * coef * weight\n",
        "        \n",
        "        if len(case) == predict_days:\n",
        "          weights += weight\n",
        "          predict += case\n",
        "    \n",
        "    if weights != 0:\n",
        "        return predict / weights\n",
        "    else:\n",
        "        return predict"
      ],
      "metadata": {
        "id": "2VwYfrP6lytQ"
      },
      "execution_count": null,
      "outputs": []
    },
    {
      "cell_type": "code",
      "source": [
        "days = [30, 60, 90]"
      ],
      "metadata": {
        "id": "o4r6-cvimrH7"
      },
      "execution_count": null,
      "outputs": []
    },
    {
      "cell_type": "code",
      "source": [
        "cases_30, cases_60, cases_90 = (get_cases(i) for i in days)"
      ],
      "metadata": {
        "id": "TEx38H1vmuXV"
      },
      "execution_count": null,
      "outputs": []
    },
    {
      "cell_type": "code",
      "source": [
        "lags_30, lags_60, lags_90 = (get_lags(i) for i in days)"
      ],
      "metadata": {
        "id": "r6NqjWMAm24z"
      },
      "execution_count": null,
      "outputs": []
    },
    {
      "cell_type": "code",
      "source": [
        "cases_30.keys()"
      ],
      "metadata": {
        "id": "Vno2hkSTnFSg",
        "outputId": "6151a395-47a2-4881-919d-564ba725a9a9",
        "colab": {
          "base_uri": "https://localhost:8080/"
        }
      },
      "execution_count": null,
      "outputs": [
        {
          "output_type": "execute_result",
          "data": {
            "text/plain": [
              "dict_keys(['China', 'Peru', 'Philippines', 'Poland', 'Portugal', 'Bangladesh', 'Qatar', 'Afghanistan', 'Romania', 'Russia', 'Rwanda', 'Bahrain', 'Saudi Arabia', 'Paraguay', 'Oman', 'Panama', 'Montenegro', 'Morocco', 'Mozambique', 'Namibia', 'Nepal', 'Netherlands', 'Nigeria', 'Belgium', 'North Macedonia', 'Norway', 'Azerbaijan', 'Pakistan', 'Belarus', 'Serbia', 'Slovenia', 'Singapore', 'Trinidad and Tobago', 'Tunisia', 'Turkey', 'US', 'Uganda', 'Ukraine', 'United Arab Emirates', 'United Kingdom', 'Algeria', 'Uruguay', 'Uzbekistan', 'Venezuela', 'Vietnam', 'Albania', 'Thailand', 'Austria', 'Slovakia', 'Mongolia', 'South Africa', 'Australia', 'Spain', 'Sri Lanka', 'Sweden', 'Switzerland', 'Argentina', 'Armenia', 'Moldova', 'Ethiopia', 'Finland', 'France', 'Canada', 'Georgia', 'Germany', 'Ghana', 'Cameroon', 'Greece', 'Guatemala', 'Estonia', 'Costa Rica', 'Croatia', 'Colombia', 'Cuba', 'Cyprus', 'Cambodia', 'Czechia', 'Dominican Republic', 'Chile', 'Ecuador', 'Egypt', 'El Salvador', 'Denmark', 'Latvia', 'Lebanon', 'Brazil', 'Lithuania', 'Luxembourg', 'Bosnia and Herzegovina', 'Malaysia', 'Maldives', 'Bolivia', 'Zambia', 'Mexico', 'Kyrgyzstan', 'Kuwait', 'Korea, South', 'Bulgaria', 'Honduras', 'Hungary', 'India', 'Indonesia', 'Iran', 'Iraq', 'Ireland', 'Italy', 'Jamaica', 'Japan', 'Jordan', 'Kazakhstan', 'Kenya', 'Israel', 'Zimbabwe', 'Laos', 'Libya', 'West Bank and Gaza', 'Kosovo', 'Burma', 'Botswana'])"
            ]
          },
          "metadata": {},
          "execution_count": 11
        }
      ]
    },
    {
      "cell_type": "code",
      "source": [
        "cases_30[\"China\"].keys()"
      ],
      "metadata": {
        "id": "9VjOYoxtnHdc",
        "outputId": "fe9d30ee-f2ad-4c1f-f0fb-eeaf088a9533",
        "colab": {
          "base_uri": "https://localhost:8080/"
        }
      },
      "execution_count": null,
      "outputs": [
        {
          "output_type": "execute_result",
          "data": {
            "text/plain": [
              "dict_keys(['filtered_history', 'filtered_validate', 'validate', 'history'])"
            ]
          },
          "metadata": {},
          "execution_count": 12
        }
      ]
    },
    {
      "cell_type": "code",
      "source": [
        "df_dict = {30: (cases_30, lags_30), 60: (cases_60, lags_60)}#, 90:(cases_90, lags_90)}"
      ],
      "metadata": {
        "id": "uejKARAznP81"
      },
      "execution_count": null,
      "outputs": []
    },
    {
      "cell_type": "code",
      "source": [
        "# А теперь попробую сразу посмотреть как с несколькими датасетами справится движок\n",
        "def validator_dict(model, df_dict, use_filter=True):\n",
        "    result = {}\n",
        "    mape = []\n",
        "    \n",
        "    for days, lst in df_dict.items():\n",
        "      cases, lags = lst\n",
        "      for country in lags.keys():\n",
        "        if country == \"Russia\":\n",
        "          y_true = cases[country][f\"{'filtered_' if use_filter else ''}validate\"]\n",
        "          y_pred = model(country, lags, days, cases, use_filter)\n",
        "          #return y_true, y_pred\n",
        "          if any(y_pred != y_pred) or any(y_pred == 0) or any(y_true == 0):\n",
        "              continue\n",
        "\n",
        "          mape.append(mean_absolute_percentage_error(y_true, y_pred))\n",
        "\n",
        "      result[str(days) + ' days'] = np.array(mape).mean()\n",
        "\n",
        "    return result"
      ],
      "metadata": {
        "id": "nvpfS2oZ2O7n"
      },
      "execution_count": null,
      "outputs": []
    },
    {
      "cell_type": "code",
      "source": [
        "validator_dict(get_predict, df_dict, True)"
      ],
      "metadata": {
        "colab": {
          "base_uri": "https://localhost:8080/"
        },
        "id": "99J_UBK-3Gno",
        "outputId": "91514cb0-e54e-41aa-a2b5-67f1e6f28f44"
      },
      "execution_count": null,
      "outputs": [
        {
          "output_type": "execute_result",
          "data": {
            "text/plain": [
              "{'30 days': 0.7353281351108056, '60 days': 0.9140387173449508}"
            ]
          },
          "metadata": {},
          "execution_count": 35
        }
      ]
    },
    {
      "cell_type": "code",
      "source": [
        "%matplotlib inline"
      ],
      "metadata": {
        "id": "ttbviHhD1GGw"
      },
      "execution_count": null,
      "outputs": []
    },
    {
      "cell_type": "code",
      "source": [
        "from matplotlib import pyplot as plt\n",
        "plt.scatter(true_.index, true_.values)\n",
        "plt.scatter(true_.index, pred_)"
      ],
      "metadata": {
        "colab": {
          "base_uri": "https://localhost:8080/",
          "height": 282
        },
        "id": "Y8j7XfNi1IGX",
        "outputId": "6274f2f4-e45e-45ad-d61f-873a01d7a432"
      },
      "execution_count": null,
      "outputs": [
        {
          "output_type": "execute_result",
          "data": {
            "text/plain": [
              "<matplotlib.collections.PathCollection at 0x7f68e8c94b50>"
            ]
          },
          "metadata": {},
          "execution_count": 32
        },
        {
          "output_type": "display_data",
          "data": {
            "image/png": "[encoded data removed]",
            "text/plain": [
              "<Figure size 432x288 with 1 Axes>"
            ]
          },
          "metadata": {
            "needs_background": "light"
          }
        }
      ]
    },
    {
      "cell_type": "code",
      "source": [
        "validator_dict(get_predict, df_dict, False)"
      ],
      "metadata": {
        "id": "MGbwvZdwxeTf",
        "outputId": "19a8bf8b-7478-423a-ffb3-828ebd1160b9",
        "colab": {
          "base_uri": "https://localhost:8080/"
        }
      },
      "execution_count": null,
      "outputs": [
        {
          "output_type": "stream",
          "name": "stdout",
          "text": [
            "Last_Update\n",
            "2022-01-03     18088.0\n",
            "2022-01-04     16193.0\n",
            "2022-01-05     15760.0\n",
            "2022-01-06     15632.0\n",
            "2022-01-07     15179.0\n",
            "2022-01-08     16608.0\n",
            "2022-01-09     16424.0\n",
            "2022-01-10     16111.0\n",
            "2022-01-11     15699.0\n",
            "2022-01-12     17396.0\n",
            "2022-01-13     17797.0\n",
            "2022-01-14     20972.0\n",
            "2022-01-15     23614.0\n",
            "2022-01-16     26949.0\n",
            "2022-01-17     28977.0\n",
            "2022-01-18     30457.0\n",
            "2022-01-19     30959.0\n",
            "2022-01-20     33571.0\n",
            "2022-01-21     38508.0\n",
            "2022-01-22     49127.0\n",
            "2022-01-23     56767.0\n",
            "2022-01-24     62695.0\n",
            "2022-01-25     64533.0\n",
            "2022-01-26     67219.0\n",
            "2022-01-27     74072.0\n",
            "2022-01-28     88105.0\n",
            "2022-01-29     97284.0\n",
            "2022-01-30    112302.0\n",
            "2022-01-31    120324.0\n",
            "2022-02-01    123033.0\n",
            "Name: Confirmed, dtype: float64\n",
            "[   35248.22091335    32857.96333683    35005.40269201    33097.63971328\n",
            "    26373.96619895    38117.49478347    30067.20640149    30972.58992402\n",
            "    27121.94650366    31478.63299758    26594.21456529    21697.53499932\n",
            "    31717.12995399    29895.06808143    23478.65619028    27304.04603724\n",
            "    26766.34274005    27702.04126391    23114.4164968     29137.79869822\n",
            "    26323.62172139    26076.00459474    27059.10736901    25924.61677512\n",
            "    25380.77359025    22824.66183914  4141121.62218797 -4133456.84077469\n",
            "    28536.16871083    28879.95149507]\n",
            "Last_Update\n",
            "2021-12-04     32316.0\n",
            "2021-12-05     32374.0\n",
            "2021-12-06     32013.0\n",
            "2021-12-07     31569.0\n",
            "2021-12-08     30546.0\n",
            "2021-12-09     30228.0\n",
            "2021-12-10     29701.0\n",
            "2021-12-11     30383.0\n",
            "2021-12-12     29815.0\n",
            "2021-12-13     29483.0\n",
            "2021-12-14     29208.0\n",
            "2021-12-15     27910.0\n",
            "2021-12-16     28011.0\n",
            "2021-12-17     28158.0\n",
            "2021-12-18     27427.0\n",
            "2021-12-19     27131.0\n",
            "2021-12-20     27680.0\n",
            "2021-12-21     26744.0\n",
            "2021-12-22     25655.0\n",
            "2021-12-23     25038.0\n",
            "2021-12-24     25446.0\n",
            "2021-12-25     24522.0\n",
            "2021-12-26     24771.0\n",
            "2021-12-27     23543.0\n",
            "2021-12-28     23036.0\n",
            "2021-12-29     21751.0\n",
            "2021-12-30     20957.0\n",
            "2021-12-31     20914.0\n",
            "2022-01-01     20482.0\n",
            "2022-01-02     19606.0\n",
            "2022-01-03     18088.0\n",
            "2022-01-04     16193.0\n",
            "2022-01-05     15760.0\n",
            "2022-01-06     15632.0\n",
            "2022-01-07     15179.0\n",
            "2022-01-08     16608.0\n",
            "2022-01-09     16424.0\n",
            "2022-01-10     16111.0\n",
            "2022-01-11     15699.0\n",
            "2022-01-12     17396.0\n",
            "2022-01-13     17797.0\n",
            "2022-01-14     20972.0\n",
            "2022-01-15     23614.0\n",
            "2022-01-16     26949.0\n",
            "2022-01-17     28977.0\n",
            "2022-01-18     30457.0\n",
            "2022-01-19     30959.0\n",
            "2022-01-20     33571.0\n",
            "2022-01-21     38508.0\n",
            "2022-01-22     49127.0\n",
            "2022-01-23     56767.0\n",
            "2022-01-24     62695.0\n",
            "2022-01-25     64533.0\n",
            "2022-01-26     67219.0\n",
            "2022-01-27     74072.0\n",
            "2022-01-28     88105.0\n",
            "2022-01-29     97284.0\n",
            "2022-01-30    112302.0\n",
            "2022-01-31    120324.0\n",
            "2022-02-01    123033.0\n",
            "Name: Confirmed, dtype: float64\n",
            "[  66862.09458068   66428.13372177   53377.99314994   67421.48402151\n",
            "   65599.21192255   62072.03964729   58080.42855913   49982.67622923\n",
            "   50992.87421245   39808.29873858   50212.5602254    49649.46025154\n",
            "   44974.17559524   45684.54861491   38394.25252999   33950.04482822\n",
            "   31045.87497535   39741.1830172    36401.46630718   37648.47382055\n",
            "   33169.28620361   37520.62961687   29878.09683365   26414.21630956\n",
            "   29392.69613969   34331.89077905   31279.10456226   31664.70403625\n",
            "   27423.77135199   27000.03887464   25428.15539678   28464.13165122\n",
            "   27801.010638     24624.83866409   27485.57381931   27101.36453701\n",
            "   25361.32932201   22911.11188936   24743.46953417   28524.55259536\n",
            "   25057.56089883   28756.03110267   23230.24774238   23177.37520112\n",
            "   21781.82722445   26398.61604296   26226.56885283   23893.65755827\n",
            "   29477.48845204   24369.53343445   24648.69134602   23515.59243473\n",
            "  980837.86633109 -939095.97957007   23625.04237513   27162.3444519\n",
            "   23530.39907786   24892.50331495   33724.28224081   24686.103784  ]\n",
            "Last_Update\n",
            "2021-11-04     39357.0\n",
            "2021-11-05     39117.0\n",
            "2021-11-06     39617.0\n",
            "2021-11-07     40210.0\n",
            "2021-11-08     38028.0\n",
            "                ...   \n",
            "2022-01-28     88105.0\n",
            "2022-01-29     97284.0\n",
            "2022-01-30    112302.0\n",
            "2022-01-31    120324.0\n",
            "2022-02-01    123033.0\n",
            "Name: Confirmed, Length: 90, dtype: float64\n",
            "[0. 0. 0. 0. 0. 0. 0. 0. 0. 0. 0. 0. 0. 0. 0. 0. 0. 0. 0. 0. 0. 0. 0. 0.\n",
            " 0. 0. 0. 0. 0. 0. 0. 0. 0. 0. 0. 0. 0. 0. 0. 0. 0. 0. 0. 0. 0. 0. 0. 0.\n",
            " 0. 0. 0. 0. 0. 0. 0. 0. 0. 0. 0. 0. 0. 0. 0. 0. 0. 0. 0. 0. 0. 0. 0. 0.\n",
            " 0. 0. 0. 0. 0. 0. 0. 0. 0. 0. 0. 0. 0. 0. 0. 0. 0. 0.]\n"
          ]
        },
        {
          "output_type": "execute_result",
          "data": {
            "text/plain": [
              "{'30 days': 3.2215511788281472,\n",
              " '60 days': 2.1178172476052177,\n",
              " '90 days': 2.1178172476052177}"
            ]
          },
          "metadata": {},
          "execution_count": 19
        }
      ]
    },
    {
      "cell_type": "code",
      "source": [
        ""
      ],
      "metadata": {
        "id": "7yuFwJHK0b7o"
      },
      "execution_count": null,
      "outputs": []
    }
  ]
}