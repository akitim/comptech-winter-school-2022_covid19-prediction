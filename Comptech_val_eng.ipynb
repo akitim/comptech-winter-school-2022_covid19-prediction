{
  "nbformat": 4,
  "nbformat_minor": 0,
  "metadata": {
    "colab": {
      "name": "Comptech_val_eng.ipynb",
      "provenance": [],
      "include_colab_link": true
    },
    "kernelspec": {
      "name": "python3",
      "display_name": "Python 3"
    },
    "language_info": {
      "name": "python"
    }
  },
  "cells": [
    {
      "cell_type": "markdown",
      "metadata": {
        "id": "view-in-github",
        "colab_type": "text"
      },
      "source": [
        "<a href=\"https://colab.research.google.com/github/akitim/comptech-winter-school-2022_covid19-prediction/blob/main/Comptech_val_eng.ipynb\" target=\"_parent\"><img src=\"https://colab.research.google.com/assets/colab-badge.svg\" alt=\"Open In Colab\"/></a>"
      ]
    },
    {
      "cell_type": "markdown",
      "source": [
        "МОЯ копия версии Артема"
      ],
      "metadata": {
        "id": "RavQ7uY80j54"
      }
    },
    {
      "cell_type": "code",
      "execution_count": 1,
      "metadata": {
        "id": "CI-GOycEj3OP"
      },
      "outputs": [],
      "source": [
        "import pandas as pd\n",
        "import itertools\n",
        "from scipy.signal import savgol_filter\n",
        "from tqdm.notebook import tqdm\n",
        "import json\n",
        "from collections import defaultdict\n",
        "import pickle\n",
        "from matplotlib import pyplot as plt\n",
        "import pickle\n",
        "import numpy as np\n",
        "from sklearn.metrics import mean_absolute_percentage_error"
      ]
    },
    {
      "cell_type": "code",
      "source": [
        "!pip install httpx"
      ],
      "metadata": {
        "id": "8KFoQ_x4lCz6",
        "outputId": "a51f530d-ae71-4ca2-ef6e-4c5fc758af91",
        "colab": {
          "base_uri": "https://localhost:8080/"
        }
      },
      "execution_count": 2,
      "outputs": [
        {
          "output_type": "stream",
          "name": "stdout",
          "text": [
            "Collecting httpx\n",
            "  Downloading httpx-0.22.0-py3-none-any.whl (84 kB)\n",
            "\u001b[?25l\r\u001b[K     |████                            | 10 kB 18.1 MB/s eta 0:00:01\r\u001b[K     |███████▉                        | 20 kB 12.1 MB/s eta 0:00:01\r\u001b[K     |███████████▊                    | 30 kB 9.5 MB/s eta 0:00:01\r\u001b[K     |███████████████▋                | 40 kB 8.2 MB/s eta 0:00:01\r\u001b[K     |███████████████████▌            | 51 kB 4.4 MB/s eta 0:00:01\r\u001b[K     |███████████████████████▍        | 61 kB 4.6 MB/s eta 0:00:01\r\u001b[K     |███████████████████████████▎    | 71 kB 4.2 MB/s eta 0:00:01\r\u001b[K     |███████████████████████████████▏| 81 kB 4.6 MB/s eta 0:00:01\r\u001b[K     |████████████████████████████████| 84 kB 950 kB/s \n",
            "\u001b[?25hCollecting sniffio\n",
            "  Downloading sniffio-1.2.0-py3-none-any.whl (10 kB)\n",
            "Collecting httpcore<0.15.0,>=0.14.5\n",
            "  Downloading httpcore-0.14.6-py3-none-any.whl (68 kB)\n",
            "\u001b[K     |████████████████████████████████| 68 kB 2.1 MB/s \n",
            "\u001b[?25hRequirement already satisfied: certifi in /usr/local/lib/python3.7/dist-packages (from httpx) (2021.10.8)\n",
            "Requirement already satisfied: charset-normalizer in /usr/local/lib/python3.7/dist-packages (from httpx) (2.0.11)\n",
            "Collecting rfc3986[idna2008]<2,>=1.3\n",
            "  Downloading rfc3986-1.5.0-py2.py3-none-any.whl (31 kB)\n",
            "Collecting h11<0.13,>=0.11\n",
            "  Downloading h11-0.12.0-py3-none-any.whl (54 kB)\n",
            "\u001b[K     |████████████████████████████████| 54 kB 2.0 MB/s \n",
            "\u001b[?25hCollecting anyio==3.*\n",
            "  Downloading anyio-3.5.0-py3-none-any.whl (79 kB)\n",
            "\u001b[K     |████████████████████████████████| 79 kB 3.2 MB/s \n",
            "\u001b[?25hRequirement already satisfied: idna>=2.8 in /usr/local/lib/python3.7/dist-packages (from anyio==3.*->httpcore<0.15.0,>=0.14.5->httpx) (2.10)\n",
            "Requirement already satisfied: typing-extensions in /usr/local/lib/python3.7/dist-packages (from anyio==3.*->httpcore<0.15.0,>=0.14.5->httpx) (3.10.0.2)\n",
            "Installing collected packages: sniffio, rfc3986, h11, anyio, httpcore, httpx\n",
            "Successfully installed anyio-3.5.0 h11-0.12.0 httpcore-0.14.6 httpx-0.22.0 rfc3986-1.5.0 sniffio-1.2.0\n"
          ]
        }
      ]
    },
    {
      "cell_type": "code",
      "source": [
        "def get_cases(days):\n",
        "  import httpx\n",
        "  data = httpx.get(f\"https://storage.yandexcloud.net/covid-19/cases_{days}.pickle\").content\n",
        "  return pickle.loads(data)"
      ],
      "metadata": {
        "id": "2lp0hBE8k3mB"
      },
      "execution_count": 3,
      "outputs": []
    },
    {
      "cell_type": "code",
      "source": [
        "def get_lags(days):\n",
        "  import json\n",
        "  import httpx\n",
        "  data = httpx.get(f\"https://storage.yandexcloud.net/covid-19/lags_{days}.json\").content\n",
        "  return json.loads(data)"
      ],
      "metadata": {
        "id": "UkokiU0JlPHk"
      },
      "execution_count": 4,
      "outputs": []
    },
    {
      "cell_type": "code",
      "source": [
        "def get_predict(predict_country, lags, predict_days, cases, use_filter=False):\n",
        "    predict = np.zeros(predict_days)\n",
        "    weights = 0\n",
        "    field_name = (\"filtered_\" if use_filter else \"\") + \"history\"\n",
        "    mean_predict_country = cases[predict_country][field_name][-predict_days:].mean()\n",
        "\n",
        "    for country, desc in lags[predict_country].items():\n",
        "        days_lag = -desc[\"lag\"]  # т.к. всегда отрицательная величина\n",
        "        if days_lag <= predict_days:\n",
        "            continue\n",
        "        \n",
        "        cases_prev_days = cases[country][field_name].iloc[-days_lag: -days_lag + predict_days]\n",
        "        coef = (mean_predict_country / cases_prev_days.mean())\n",
        "        weight = np.sqrt(desc[\"similarity\"])\n",
        "        case = cases_prev_days.values * coef * weight\n",
        "        \n",
        "        if len(case) == predict_days:\n",
        "          weights += weight\n",
        "          predict += case\n",
        "    \n",
        "    if weights != 0:\n",
        "        return predict / weights\n",
        "    else:\n",
        "        return predict"
      ],
      "metadata": {
        "id": "2VwYfrP6lytQ"
      },
      "execution_count": 5,
      "outputs": []
    },
    {
      "cell_type": "code",
      "source": [
        "days = [30, 60, 90]"
      ],
      "metadata": {
        "id": "o4r6-cvimrH7"
      },
      "execution_count": 6,
      "outputs": []
    },
    {
      "cell_type": "code",
      "source": [
        "cases_30, cases_60, cases_90 = (get_cases(i) for i in days)"
      ],
      "metadata": {
        "id": "TEx38H1vmuXV"
      },
      "execution_count": 7,
      "outputs": []
    },
    {
      "cell_type": "code",
      "source": [
        "lags_30, lags_60, lags_90 = (get_lags(i) for i in days)"
      ],
      "metadata": {
        "id": "r6NqjWMAm24z"
      },
      "execution_count": 8,
      "outputs": []
    },
    {
      "cell_type": "code",
      "source": [
        "cases_30.keys()"
      ],
      "metadata": {
        "id": "Vno2hkSTnFSg",
        "outputId": "480665d4-cc18-412c-86b1-525fe0372d62",
        "colab": {
          "base_uri": "https://localhost:8080/"
        }
      },
      "execution_count": 9,
      "outputs": [
        {
          "output_type": "execute_result",
          "data": {
            "text/plain": [
              "dict_keys(['China', 'Peru', 'Philippines', 'Poland', 'Portugal', 'Bangladesh', 'Qatar', 'Afghanistan', 'Romania', 'Russia', 'Rwanda', 'Bahrain', 'Saudi Arabia', 'Paraguay', 'Oman', 'Panama', 'Montenegro', 'Morocco', 'Mozambique', 'Namibia', 'Nepal', 'Netherlands', 'Nigeria', 'Belgium', 'North Macedonia', 'Norway', 'Azerbaijan', 'Pakistan', 'Belarus', 'Serbia', 'Slovenia', 'Singapore', 'Trinidad and Tobago', 'Tunisia', 'Turkey', 'US', 'Uganda', 'Ukraine', 'United Arab Emirates', 'United Kingdom', 'Algeria', 'Uruguay', 'Uzbekistan', 'Venezuela', 'Vietnam', 'Albania', 'Thailand', 'Austria', 'Slovakia', 'Mongolia', 'South Africa', 'Australia', 'Spain', 'Sri Lanka', 'Sweden', 'Switzerland', 'Argentina', 'Armenia', 'Moldova', 'Ethiopia', 'Finland', 'France', 'Canada', 'Georgia', 'Germany', 'Ghana', 'Cameroon', 'Greece', 'Guatemala', 'Estonia', 'Costa Rica', 'Croatia', 'Colombia', 'Cuba', 'Cyprus', 'Cambodia', 'Czechia', 'Dominican Republic', 'Chile', 'Ecuador', 'Egypt', 'El Salvador', 'Denmark', 'Latvia', 'Lebanon', 'Brazil', 'Lithuania', 'Luxembourg', 'Bosnia and Herzegovina', 'Malaysia', 'Maldives', 'Bolivia', 'Zambia', 'Mexico', 'Kyrgyzstan', 'Kuwait', 'Korea, South', 'Bulgaria', 'Honduras', 'Hungary', 'India', 'Indonesia', 'Iran', 'Iraq', 'Ireland', 'Italy', 'Jamaica', 'Japan', 'Jordan', 'Kazakhstan', 'Kenya', 'Israel', 'Zimbabwe', 'Laos', 'Libya', 'West Bank and Gaza', 'Kosovo', 'Burma', 'Botswana'])"
            ]
          },
          "metadata": {},
          "execution_count": 9
        }
      ]
    },
    {
      "cell_type": "code",
      "source": [
        "cases_30[\"China\"].keys()"
      ],
      "metadata": {
        "id": "9VjOYoxtnHdc",
        "outputId": "8d7bb336-3ccd-42af-b3f4-669804436080",
        "colab": {
          "base_uri": "https://localhost:8080/"
        }
      },
      "execution_count": 10,
      "outputs": [
        {
          "output_type": "execute_result",
          "data": {
            "text/plain": [
              "dict_keys(['filtered_history', 'filtered_validate', 'validate', 'history'])"
            ]
          },
          "metadata": {},
          "execution_count": 10
        }
      ]
    },
    {
      "cell_type": "code",
      "source": [
        "df_dict = {30: (cases_30, lags_30), 60: (cases_60, lags_60)}#, 90:(cases_90, lags_90)}"
      ],
      "metadata": {
        "id": "uejKARAznP81"
      },
      "execution_count": 11,
      "outputs": []
    },
    {
      "cell_type": "code",
      "source": [
        "# А теперь попробую сразу посмотреть как с несколькими датасетами справится движок\n",
        "def validator_dict(model, df_dict, use_filter=True):\n",
        "    result = {}\n",
        "    mape = []\n",
        "    \n",
        "    for days, lst in df_dict.items():\n",
        "      cases, lags = lst\n",
        "      for country in lags.keys():\n",
        "        if country == \"Russia\":\n",
        "          y_true = cases[country][f\"{'filtered_' if use_filter else ''}validate\"]\n",
        "          y_pred = model(country, lags, days, cases, use_filter)\n",
        "          #return y_true, y_pred\n",
        "          if any(y_pred != y_pred) or any(y_pred == 0) or any(y_true == 0):\n",
        "              continue\n",
        "\n",
        "          mape.append(mean_absolute_percentage_error(y_true, y_pred))\n",
        "\n",
        "      result[str(days) + ' days'] = np.array(mape).mean()\n",
        "\n",
        "    return result"
      ],
      "metadata": {
        "id": "nvpfS2oZ2O7n"
      },
      "execution_count": 12,
      "outputs": []
    },
    {
      "cell_type": "code",
      "source": [
        "validator_dict(get_predict, df_dict, True)"
      ],
      "metadata": {
        "colab": {
          "base_uri": "https://localhost:8080/"
        },
        "id": "99J_UBK-3Gno",
        "outputId": "13f2aa82-cfe2-47bb-8c17-288e46652db5"
      },
      "execution_count": 13,
      "outputs": [
        {
          "output_type": "execute_result",
          "data": {
            "text/plain": [
              "{'30 days': 0.6047567917767658, '60 days': 0.6210235555322349}"
            ]
          },
          "metadata": {},
          "execution_count": 13
        }
      ]
    },
    {
      "cell_type": "code",
      "source": [
        "pred_ = get_predict(predict_country='Russia', lags=lags_90, predict_days=14, cases=cases_90, use_filter=False)"
      ],
      "metadata": {
        "id": "UmfRl818Jkp8"
      },
      "execution_count": 32,
      "outputs": []
    },
    {
      "cell_type": "code",
      "source": [
        "true_ = cases_90['Russia']['filtered_history'][-14:]\n"
      ],
      "metadata": {
        "id": "f3_HftJNKRhN"
      },
      "execution_count": 33,
      "outputs": []
    },
    {
      "cell_type": "code",
      "source": [
        "%matplotlib inline"
      ],
      "metadata": {
        "id": "ttbviHhD1GGw"
      },
      "execution_count": 14,
      "outputs": []
    },
    {
      "cell_type": "code",
      "source": [
        "from matplotlib import pyplot as plt\n",
        "\n",
        "plt.scatter(true_.index, true_.values, label = 'fact');\n",
        "plt.scatter(true_.index, pred_, label='prediction');\n",
        "plt.legend();"
      ],
      "metadata": {
        "colab": {
          "base_uri": "https://localhost:8080/",
          "height": 265
        },
        "id": "Y8j7XfNi1IGX",
        "outputId": "5282ba48-6de4-4bf1-86cf-ce3416c198b4"
      },
      "execution_count": 35,
      "outputs": [
        {
          "output_type": "display_data",
          "data": {
            "image/png": "[encoded data removed]",
            "text/plain": [
              "<Figure size 432x288 with 1 Axes>"
            ]
          },
          "metadata": {
            "needs_background": "light"
          }
        }
      ]
    },
    {
      "cell_type": "code",
      "source": [
        "validator_dict(get_predict, df_dict, False)"
      ],
      "metadata": {
        "id": "MGbwvZdwxeTf"
      },
      "execution_count": null,
      "outputs": []
    },
    {
      "cell_type": "code",
      "source": [
        ""
      ],
      "metadata": {
        "id": "7yuFwJHK0b7o"
      },
      "execution_count": null,
      "outputs": []
    }
  ]
}