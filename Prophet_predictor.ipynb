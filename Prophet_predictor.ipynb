{
  "cells": [
    {
      "cell_type": "markdown",
      "metadata": {
        "id": "view-in-github",
        "colab_type": "text"
      },
      "source": [
        "<a href=\"https://colab.research.google.com/github/akitim/comptech-winter-school-2022_covid19-prediction/blob/main/Prophet_predictor.ipynb\" target=\"_parent\"><img src=\"https://colab.research.google.com/assets/colab-badge.svg\" alt=\"Open In Colab\"/></a>"
      ]
    },
    {
      "cell_type": "code",
      "execution_count": 1,
      "id": "42ee6356-ef36-48c3-83c5-bfe106de0aed",
      "metadata": {
        "colab": {
          "base_uri": "https://localhost:8080/"
        },
        "id": "42ee6356-ef36-48c3-83c5-bfe106de0aed",
        "outputId": "46a4dce0-4b0a-4cd8-878d-31615ee7e305"
      },
      "outputs": [
        {
          "output_type": "stream",
          "name": "stdout",
          "text": [
            "Requirement already satisfied: pandas in /usr/local/lib/python3.7/dist-packages (1.3.5)\n",
            "Collecting prophet\n",
            "  Downloading prophet-1.0.1.tar.gz (65 kB)\n",
            "\u001b[K     |████████████████████████████████| 65 kB 2.7 MB/s \n",
            "\u001b[?25hRequirement already satisfied: numpy>=1.17.3 in /usr/local/lib/python3.7/dist-packages (from pandas) (1.19.5)\n",
            "Requirement already satisfied: pytz>=2017.3 in /usr/local/lib/python3.7/dist-packages (from pandas) (2018.9)\n",
            "Requirement already satisfied: python-dateutil>=2.7.3 in /usr/local/lib/python3.7/dist-packages (from pandas) (2.8.2)\n",
            "Requirement already satisfied: six>=1.5 in /usr/local/lib/python3.7/dist-packages (from python-dateutil>=2.7.3->pandas) (1.15.0)\n",
            "Requirement already satisfied: Cython>=0.22 in /usr/local/lib/python3.7/dist-packages (from prophet) (0.29.26)\n",
            "Collecting cmdstanpy==0.9.68\n",
            "  Downloading cmdstanpy-0.9.68-py3-none-any.whl (49 kB)\n",
            "\u001b[K     |████████████████████████████████| 49 kB 5.4 MB/s \n",
            "\u001b[?25hRequirement already satisfied: pystan~=2.19.1.1 in /usr/local/lib/python3.7/dist-packages (from prophet) (2.19.1.1)\n",
            "Requirement already satisfied: matplotlib>=2.0.0 in /usr/local/lib/python3.7/dist-packages (from prophet) (3.2.2)\n",
            "Requirement already satisfied: LunarCalendar>=0.0.9 in /usr/local/lib/python3.7/dist-packages (from prophet) (0.0.9)\n",
            "Requirement already satisfied: convertdate>=2.1.2 in /usr/local/lib/python3.7/dist-packages (from prophet) (2.4.0)\n",
            "Requirement already satisfied: holidays>=0.10.2 in /usr/local/lib/python3.7/dist-packages (from prophet) (0.10.5.2)\n",
            "Requirement already satisfied: setuptools-git>=1.2 in /usr/local/lib/python3.7/dist-packages (from prophet) (1.2)\n",
            "Requirement already satisfied: tqdm>=4.36.1 in /usr/local/lib/python3.7/dist-packages (from prophet) (4.62.3)\n",
            "Collecting ujson\n",
            "  Downloading ujson-5.1.0-cp37-cp37m-manylinux_2_17_x86_64.manylinux2014_x86_64.whl (43 kB)\n",
            "\u001b[K     |████████████████████████████████| 43 kB 1.9 MB/s \n",
            "\u001b[?25hRequirement already satisfied: pymeeus<=1,>=0.3.13 in /usr/local/lib/python3.7/dist-packages (from convertdate>=2.1.2->prophet) (0.5.11)\n",
            "Requirement already satisfied: korean-lunar-calendar in /usr/local/lib/python3.7/dist-packages (from holidays>=0.10.2->prophet) (0.2.1)\n",
            "Requirement already satisfied: hijri-converter in /usr/local/lib/python3.7/dist-packages (from holidays>=0.10.2->prophet) (2.2.2)\n",
            "Requirement already satisfied: ephem>=3.7.5.3 in /usr/local/lib/python3.7/dist-packages (from LunarCalendar>=0.0.9->prophet) (4.1.3)\n",
            "Requirement already satisfied: kiwisolver>=1.0.1 in /usr/local/lib/python3.7/dist-packages (from matplotlib>=2.0.0->prophet) (1.3.2)\n",
            "Requirement already satisfied: pyparsing!=2.0.4,!=2.1.2,!=2.1.6,>=2.0.1 in /usr/local/lib/python3.7/dist-packages (from matplotlib>=2.0.0->prophet) (3.0.7)\n",
            "Requirement already satisfied: cycler>=0.10 in /usr/local/lib/python3.7/dist-packages (from matplotlib>=2.0.0->prophet) (0.11.0)\n",
            "Building wheels for collected packages: prophet\n",
            "  Building wheel for prophet (setup.py) ... \u001b[?25l\u001b[?25hdone\n",
            "  Created wheel for prophet: filename=prophet-1.0.1-py3-none-any.whl size=6638199 sha256=bf7ebcb0a5df243391de11f34e26448107aa92e0255942adc6fa0a6e4b88d980\n",
            "  Stored in directory: /root/.cache/pip/wheels/4e/a0/1a/02c9ec9e3e9de6bdbb3d769d11992a6926889d71567d6b9b67\n",
            "Successfully built prophet\n",
            "Installing collected packages: ujson, cmdstanpy, prophet\n",
            "  Attempting uninstall: cmdstanpy\n",
            "    Found existing installation: cmdstanpy 0.9.5\n",
            "    Uninstalling cmdstanpy-0.9.5:\n",
            "      Successfully uninstalled cmdstanpy-0.9.5\n",
            "\u001b[31mERROR: pip's dependency resolver does not currently take into account all the packages that are installed. This behaviour is the source of the following dependency conflicts.\n",
            "fbprophet 0.7.1 requires cmdstanpy==0.9.5, but you have cmdstanpy 0.9.68 which is incompatible.\u001b[0m\n",
            "Successfully installed cmdstanpy-0.9.68 prophet-1.0.1 ujson-5.1.0\n"
          ]
        }
      ],
      "source": [
        "! pip install -U pandas prophet"
      ]
    },
    {
      "cell_type": "code",
      "execution_count": 21,
      "id": "5cd3c094-6ad0-44b6-8eb6-40ce8287f43d",
      "metadata": {
        "id": "5cd3c094-6ad0-44b6-8eb6-40ce8287f43d"
      },
      "outputs": [],
      "source": [
        "import pickle\n",
        "from prophet import Prophet\n",
        "from matplotlib import pyplot as plt\n",
        "from prophet.plot import add_changepoints_to_plot\n",
        "import pandas as pd\n",
        "import requests\n",
        "import numpy as np\n",
        "from sklearn.metrics import mean_absolute_percentage_error as mape, mean_absolute_error as mae"
      ]
    },
    {
      "cell_type": "markdown",
      "source": [
        "<h1>Другая модель</h1>\n",
        "Добавляем в признаки 2 самые похожие страны"
      ],
      "metadata": {
        "id": "lA5f2imdoq3K"
      },
      "id": "lA5f2imdoq3K"
    },
    {
      "cell_type": "code",
      "source": [
        "with open(\"people_structure.csv\", 'wb') as f:\n",
        "  f.write(requests.get(\"https://storage.yandexcloud.net/covid-19/people_structure.csv\").content)"
      ],
      "metadata": {
        "id": "zeydszcHwOSA"
      },
      "id": "zeydszcHwOSA",
      "execution_count": 3,
      "outputs": []
    },
    {
      "cell_type": "markdown",
      "source": [
        "чтобы протестировать модель - нужно\n",
        "\n",
        "1) Обрезать people_structure по datetime.now() - timedelta(days=30) (сложи всё что обрезала в y_true, чтобы это был нампай массив)\n",
        "\n",
        "2) Брать данные по лагам за последние 30 дней\n",
        "\n",
        "3) Смотреть MAE MAPE (sklearn)\n",
        "\n",
        "В модели Phophet у нас там поле в предикте называется y_hat - бери f[\"yhat\"].values\n",
        "\n",
        "В итоге - 2 цифры (MAE и MAPE)"
      ],
      "metadata": {
        "id": "Nuy1k0OVZwvT"
      },
      "id": "Nuy1k0OVZwvT"
    },
    {
      "cell_type": "code",
      "source": [
        "df_sec = pd.read_csv(\"people_structure.csv\")"
      ],
      "metadata": {
        "id": "NWJqbB5yvhUK"
      },
      "id": "NWJqbB5yvhUK",
      "execution_count": 4,
      "outputs": []
    },
    {
      "cell_type": "code",
      "source": [
        "import json"
      ],
      "metadata": {
        "id": "PiIrPpuxTyoT"
      },
      "id": "PiIrPpuxTyoT",
      "execution_count": 5,
      "outputs": []
    },
    {
      "cell_type": "code",
      "source": [
        "lags = json.loads(requests.get(\"https://storage.yandexcloud.net/covid-19/lags_30.json\").content)"
      ],
      "metadata": {
        "id": "AX-kMR4WT4n4"
      },
      "id": "AX-kMR4WT4n4",
      "execution_count": 6,
      "outputs": []
    },
    {
      "cell_type": "code",
      "source": [
        "def get_train_data(countries, source_country, cases, field):\n",
        "  df = pd.DataFrame(index=cases[cases['location'] == source_country][\"date\"], columns=['y', 'ds'] + [i for i, _ in countries])\n",
        "  df['y'] = cases[cases['location'] == source_country].reset_index().set_index(\"date\")[field]\n",
        "  df['ds'] = cases[cases['location'] == source_country].reset_index().set_index(\"date\").index\n",
        "  c = cases[\"location\"].unique()\n",
        "  columns = []\n",
        "  values = []\n",
        "  for country, info in countries:\n",
        "    if country in c:\n",
        "      df[country] = cases[cases[\"location\"] == country][field]\n",
        "    else:\n",
        "      del df[country]\n",
        "  return df.fillna(method='ffill').dropna()"
      ],
      "metadata": {
        "id": "Zl29sI_Jd1qb"
      },
      "id": "Zl29sI_Jd1qb",
      "execution_count": 7,
      "outputs": []
    },
    {
      "cell_type": "code",
      "source": [
        "# def get_train_data(countries, source_country, cases, field):\n",
        "#   df = pd.DataFrame(index=cases[cases['location'] == source_country][\"date\"], columns=['y', 'ds'] + [i for i, _ in countries])\n",
        "#   df['y'] = cases[cases['location'] == source_country].reset_index().set_index(\"date\")[field]\n",
        "#   df['ds'] = cases[cases['location'] == source_country].reset_index().set_index(\"date\").index\n",
        "#   c = cases[\"location\"].unique()\n",
        "#   for country, info in countries:\n",
        "#     if country in c:\n",
        "#       df[country] = cases[cases[\"location\"] == country].reset_index().set_index(\"date\")[field].shift(info[\"lag\"])\n",
        "#     else:\n",
        "#       del df[country]\n",
        "#   return df.fillna(method='ffill').dropna()"
      ],
      "metadata": {
        "id": "0A4i-cWMUIKq"
      },
      "id": "0A4i-cWMUIKq",
      "execution_count": 8,
      "outputs": []
    },
    {
      "cell_type": "code",
      "source": [
        "from datetime import datetime, date\n",
        "\n",
        "def get_df_future(days_predict, m, countries, cases, field, train_last):\n",
        "  d = pd.date_range(train_last, periods=days_predict + 1, closed='right')\n",
        "  future = pd.DataFrame()\n",
        "  future[\"ds\"] = d\n",
        "\n",
        "  g = cases['location'].unique()\n",
        "  \n",
        "  for country, info in countries:\n",
        "    if country in g:\n",
        "      future[country] = cases[cases['location'] == country][field].iloc[-days_predict + info[\"lag\"]: info[\"lag\"]].values\n",
        "  \n",
        "  return future.fillna(method='ffill')"
      ],
      "metadata": {
        "id": "IxYxaaI9Uzmo"
      },
      "id": "IxYxaaI9Uzmo",
      "execution_count": 9,
      "outputs": []
    },
    {
      "cell_type": "code",
      "source": [
        "def get_predict(days_predict, source_country, cases, lags) -> np.array:\n",
        "  \"\"\"\n",
        "  Возвращает предикт и модель Prophet\n",
        "  \"\"\"\n",
        "  countries = sorted(filter(lambda x: -x[1][\"lag\"] > days_predict, lags[source_country].items()), key=lambda x: x[1][\"similarity\"])[-2:]\n",
        "  field = 'new_cases_smoothed'\n",
        "  train = get_train_data(countries, source_country, cases, field)\n",
        "\n",
        "  m = Prophet(\n",
        "    daily_seasonality=False, \n",
        "    yearly_seasonality=True, \n",
        "    weekly_seasonality=True,\n",
        "    changepoint_prior_scale=0.8,\n",
        "    seasonality_mode='multiplicative'\n",
        "  )\n",
        "  for i in train.columns:\n",
        "    if i != 'ds' and i != 'y':\n",
        "      m.add_regressor(i, mode=\"multiplicative\")\n",
        "  m.fit(train)\n",
        "  future = get_df_future(days_predict, m, countries, cases, field, train.index[-1])\n",
        "  forecast = m.predict(future)\n",
        "\n",
        "  return forecast['yhat'].values"
      ],
      "metadata": {
        "id": "XJZoYQA8XKG1"
      },
      "id": "XJZoYQA8XKG1",
      "execution_count": 10,
      "outputs": []
    },
    {
      "cell_type": "code",
      "source": [
        "f = get_predict(40, \"Russia\", df_sec, lags)\n",
        "# fig = plt.plot(f, figsize=(12, 4))\n",
        "plt.plot(f);"
      ],
      "metadata": {
        "colab": {
          "base_uri": "https://localhost:8080/",
          "height": 265
        },
        "id": "Da0Q8RDEwnln",
        "outputId": "b5ae6305-d3af-495b-cc21-deda18b86619"
      },
      "id": "Da0Q8RDEwnln",
      "execution_count": 20,
      "outputs": [
        {
          "output_type": "display_data",
          "data": {
            "image/png": "[encoded data removed]",
            "text/plain": [
              "<Figure size 432x288 with 1 Axes>"
            ]
          },
          "metadata": {
            "needs_background": "light"
          }
        }
      ]
    },
    {
      "cell_type": "code",
      "source": [
        "f = get_predict(40, \"Russia\", df_sec, lags)"
      ],
      "metadata": {
        "id": "adbN10f8cPfJ"
      },
      "id": "adbN10f8cPfJ",
      "execution_count": 23,
      "outputs": []
    },
    {
      "cell_type": "code",
      "source": [
        "df_val = df_sec[pd.to_datetime(df_sec['date']) <= datetime.now() - pd.Timedelta(days=30)]\n",
        "\n",
        "y_true = df_sec.sort_values(by='date').query(\"location == 'Russia'\")['new_cases_smoothed'].values[-30 :]\n",
        "y_pred = get_predict(30, \"Russia\", df_val, lags)\n"
      ],
      "metadata": {
        "id": "3HIGJFj4cRBk"
      },
      "id": "3HIGJFj4cRBk",
      "execution_count": 57,
      "outputs": []
    },
    {
      "cell_type": "code",
      "source": [
        "print('MAE:', round(mae(y_true, y_pred)), 'MAPE:', round(mape(y_true, y_pred), 6))"
      ],
      "metadata": {
        "id": "r_lXnQApHHzr",
        "outputId": "03f4f0ee-ea59-42a4-cf92-2f0f88143df3",
        "colab": {
          "base_uri": "https://localhost:8080/"
        }
      },
      "id": "r_lXnQApHHzr",
      "execution_count": 63,
      "outputs": [
        {
          "output_type": "stream",
          "name": "stdout",
          "text": [
            "MAE: 31064 MAPE: 0.481466\n"
          ]
        }
      ]
    },
    {
      "cell_type": "code",
      "source": [
        "# f[\"yhat\"].values # predict модели"
      ],
      "metadata": {
        "id": "hMap2Qqga7yO"
      },
      "id": "hMap2Qqga7yO",
      "execution_count": 18,
      "outputs": []
    }
  ],
  "metadata": {
    "kernelspec": {
      "display_name": "Python 3 (ipykernel)",
      "language": "python",
      "name": "python3"
    },
    "language_info": {
      "codemirror_mode": {
        "name": "ipython",
        "version": 3
      },
      "file_extension": ".py",
      "mimetype": "text/x-python",
      "name": "python",
      "nbconvert_exporter": "python",
      "pygments_lexer": "ipython3",
      "version": "3.9.7"
    },
    "colab": {
      "name": "Копия блокнота \"ph_sample.ipynb\"",
      "provenance": [],
      "collapsed_sections": [],
      "include_colab_link": true
    }
  },
  "nbformat": 4,
  "nbformat_minor": 5
}