{
  "nbformat": 4,
  "nbformat_minor": 0,
  "metadata": {
    "colab": {
      "name": "n_days_mean_predictor_and_valid.ipynb",
      "provenance": [],
      "authorship_tag": "ABX9TyNhDDu1eRiAmKgWo1C6Bycr",
      "include_colab_link": true
    },
    "kernelspec": {
      "name": "python3",
      "display_name": "Python 3"
    },
    "language_info": {
      "name": "python"
    }
  },
  "cells": [
    {
      "cell_type": "markdown",
      "metadata": {
        "id": "view-in-github",
        "colab_type": "text"
      },
      "source": [
        "<a href=\"https://colab.research.google.com/github/akitim/comptech-winter-school-2022_covid19-prediction/blob/main/n_days_mean_predictor_and_valid.ipynb\" target=\"_parent\"><img src=\"https://colab.research.google.com/assets/colab-badge.svg\" alt=\"Open In Colab\"/></a>"
      ]
    },
    {
      "cell_type": "code",
      "source": [
        "!pip install httpx"
      ],
      "metadata": {
        "colab": {
          "base_uri": "https://localhost:8080/"
        },
        "id": "jMYhZBTydzee",
        "outputId": "caf864d5-e31a-443f-a7e8-3bfe058d12e7"
      },
      "execution_count": null,
      "outputs": [
        {
          "output_type": "stream",
          "name": "stdout",
          "text": [
            "Requirement already satisfied: httpx in /usr/local/lib/python3.7/dist-packages (0.22.0)\n",
            "Requirement already satisfied: rfc3986[idna2008]<2,>=1.3 in /usr/local/lib/python3.7/dist-packages (from httpx) (1.5.0)\n",
            "Requirement already satisfied: charset-normalizer in /usr/local/lib/python3.7/dist-packages (from httpx) (2.0.11)\n",
            "Requirement already satisfied: sniffio in /usr/local/lib/python3.7/dist-packages (from httpx) (1.2.0)\n",
            "Requirement already satisfied: httpcore<0.15.0,>=0.14.5 in /usr/local/lib/python3.7/dist-packages (from httpx) (0.14.6)\n",
            "Requirement already satisfied: certifi in /usr/local/lib/python3.7/dist-packages (from httpx) (2021.10.8)\n",
            "Requirement already satisfied: anyio==3.* in /usr/local/lib/python3.7/dist-packages (from httpcore<0.15.0,>=0.14.5->httpx) (3.5.0)\n",
            "Requirement already satisfied: h11<0.13,>=0.11 in /usr/local/lib/python3.7/dist-packages (from httpcore<0.15.0,>=0.14.5->httpx) (0.12.0)\n",
            "Requirement already satisfied: typing-extensions in /usr/local/lib/python3.7/dist-packages (from anyio==3.*->httpcore<0.15.0,>=0.14.5->httpx) (3.10.0.2)\n",
            "Requirement already satisfied: idna>=2.8 in /usr/local/lib/python3.7/dist-packages (from anyio==3.*->httpcore<0.15.0,>=0.14.5->httpx) (2.10)\n"
          ]
        }
      ]
    },
    {
      "cell_type": "code",
      "execution_count": null,
      "metadata": {
        "id": "yvSskNeldLDv"
      },
      "outputs": [],
      "source": [
        "import pandas as pd\n",
        "# import itertools\n",
        "# from scipy.signal import savgol_filter\n",
        "# from tqdm.notebook import tqdm\n",
        "# import json\n",
        "# from collections import defaultdict\n",
        "# import pickle\n",
        "from matplotlib import pyplot as plt\n",
        "# import pickle\n",
        "import numpy as np\n",
        "from sklearn.metrics import mean_absolute_percentage_error as mape, mean_absolute_error as mae\n",
        "# import statsmodels.api as sm\n",
        "from datetime import date, timedelta\n",
        "import pickle\n",
        "import httpx\n",
        "import json\n",
        "import warnings\n",
        "warnings.filterwarnings('ignore')"
      ]
    },
    {
      "cell_type": "code",
      "source": [
        "def get_cases(days):\n",
        "  data = httpx.get(f\"https://storage.yandexcloud.net/covid-19/cases{\\\n",
        "      ('_' + str(days)) if days != 0 else ''}.pickle\").content\n",
        "  return pickle.loads(data)"
      ],
      "metadata": {
        "id": "LZ6b6qUmdc1g"
      },
      "execution_count": null,
      "outputs": []
    },
    {
      "cell_type": "code",
      "source": [
        "def get_predict_mean(country, n_days, need_predict, cases_all, use_filter=True, pred_from=None):\n",
        "\n",
        "    field_name = (\"filtered_\" if use_filter else \"\") + \"history\"\n",
        "    threshold = date(year=2021, month=1, day=1)\n",
        "\n",
        "    just_cases = cases_all[country][field_name]\n",
        "    if pred_from:\n",
        "        mean_value = np.mean(just_cases[pred_from - n_days : pred_from].values)\n",
        "    else:\n",
        "        mean_value = np.mean(just_cases[- n_days : ].values)\n",
        "\n",
        "    predict = np.asarray([mean_value for i in range(0, need_predict)])\n",
        "\n",
        "    return predict"
      ],
      "metadata": {
        "id": "I-14taRkdeTF"
      },
      "execution_count": null,
      "outputs": []
    },
    {
      "cell_type": "code",
      "source": [
        "cases = get_cases(0)"
      ],
      "metadata": {
        "id": "ViaujS9Od7W2"
      },
      "execution_count": null,
      "outputs": []
    },
    {
      "cell_type": "code",
      "source": [
        "days = [30, 60] #, 90]\n",
        "n_days = 2\n",
        "country = 'Russia'"
      ],
      "metadata": {
        "id": "X9ynq6lQd7gu"
      },
      "execution_count": null,
      "outputs": []
    },
    {
      "cell_type": "code",
      "source": [
        "pure_cases = cases[country]['history']\n",
        "metrics = {}\n",
        "\n",
        "for day in days:\n",
        "    \n",
        "    mae_ls = []\n",
        "    mape_ls = []\n",
        "\n",
        "    for w in range(n_days, pure_cases.size - n_days - day):\n",
        "\n",
        "        y_true = pure_cases[w : w + day]\n",
        "        y_pred = get_predict_mean(country=country,\n",
        "                                  n_days = n_days,\n",
        "                                  need_predict = day,\n",
        "                                  cases_all=cases,\n",
        "                                  use_filter=True,\n",
        "                                  pred_from=w\n",
        "        )\n",
        "\n",
        "        mae_ls += [mae(y_true, y_pred)]\n",
        "        mape_ls += [mape(y_true, y_pred)]\n",
        "    \n",
        "    metrics[f'{day} days'] = {'MAE': np.mean(mae_ls),\n",
        "                              'MAPE': np.mean(mape_ls)}\n",
        "metrics"
      ],
      "metadata": {
        "colab": {
          "base_uri": "https://localhost:8080/"
        },
        "id": "EqFygDU4dpP3",
        "outputId": "590cbce7-19a4-483c-f3c3-1ee6dea3b15b"
      },
      "execution_count": null,
      "outputs": [
        {
          "output_type": "execute_result",
          "data": {
            "text/plain": [
              "{'30 days': {'MAE': 3117.1705034846727, 'MAPE': 0.19518941940001733},\n",
              " '60 days': {'MAE': 4978.604812520736, 'MAPE': 0.3107107747251254}}"
            ]
          },
          "metadata": {},
          "execution_count": 13
        }
      ]
    }
  ]
}