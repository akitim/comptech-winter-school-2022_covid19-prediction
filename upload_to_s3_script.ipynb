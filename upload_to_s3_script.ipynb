{
  "nbformat": 4,
  "nbformat_minor": 0,
  "metadata": {
    "colab": {
      "name": "upload_to_s3_script.ipynb",
      "provenance": [],
      "authorship_tag": "ABX9TyMLC+d9O7VFiKwFtKQRhzSy",
      "include_colab_link": true
    },
    "kernelspec": {
      "name": "python3",
      "display_name": "Python 3"
    },
    "language_info": {
      "name": "python"
    }
  },
  "cells": [
    {
      "cell_type": "markdown",
      "metadata": {
        "id": "view-in-github",
        "colab_type": "text"
      },
      "source": [
        "<a href=\"https://colab.research.google.com/github/akitim/comptech-winter-school-2022_covid19-prediction/blob/main/upload_to_s3_script.ipynb\" target=\"_parent\"><img src=\"https://colab.research.google.com/assets/colab-badge.svg\" alt=\"Open In Colab\"/></a>"
      ]
    },
    {
      "cell_type": "code",
      "source": [
        "!pip install boto3"
      ],
      "metadata": {
        "colab": {
          "base_uri": "https://localhost:8080/"
        },
        "id": "Z1AZvZF7dy2F",
        "outputId": "9b1efebd-2444-43ca-f1a6-4a06a1e83f53"
      },
      "execution_count": 1,
      "outputs": [
        {
          "output_type": "stream",
          "name": "stdout",
          "text": [
            "Collecting boto3\n",
            "  Downloading boto3-1.20.46-py3-none-any.whl (131 kB)\n",
            "\u001b[?25l\r\u001b[K     |██▌                             | 10 kB 19.6 MB/s eta 0:00:01\r\u001b[K     |█████                           | 20 kB 12.8 MB/s eta 0:00:01\r\u001b[K     |███████▌                        | 30 kB 8.8 MB/s eta 0:00:01\r\u001b[K     |██████████                      | 40 kB 7.6 MB/s eta 0:00:01\r\u001b[K     |████████████▍                   | 51 kB 6.9 MB/s eta 0:00:01\r\u001b[K     |███████████████                 | 61 kB 6.8 MB/s eta 0:00:01\r\u001b[K     |█████████████████▍              | 71 kB 7.0 MB/s eta 0:00:01\r\u001b[K     |███████████████████▉            | 81 kB 7.0 MB/s eta 0:00:01\r\u001b[K     |██████████████████████▍         | 92 kB 7.6 MB/s eta 0:00:01\r\u001b[K     |████████████████████████▉       | 102 kB 7.8 MB/s eta 0:00:01\r\u001b[K     |███████████████████████████▍    | 112 kB 7.8 MB/s eta 0:00:01\r\u001b[K     |█████████████████████████████▉  | 122 kB 7.8 MB/s eta 0:00:01\r\u001b[K     |████████████████████████████████| 131 kB 7.8 MB/s \n",
            "\u001b[?25hCollecting jmespath<1.0.0,>=0.7.1\n",
            "  Downloading jmespath-0.10.0-py2.py3-none-any.whl (24 kB)\n",
            "Collecting botocore<1.24.0,>=1.23.46\n",
            "  Downloading botocore-1.23.46-py3-none-any.whl (8.5 MB)\n",
            "\u001b[K     |████████████████████████████████| 8.5 MB 13.7 MB/s \n",
            "\u001b[?25hCollecting s3transfer<0.6.0,>=0.5.0\n",
            "  Downloading s3transfer-0.5.0-py3-none-any.whl (79 kB)\n",
            "\u001b[K     |████████████████████████████████| 79 kB 7.2 MB/s \n",
            "\u001b[?25hRequirement already satisfied: python-dateutil<3.0.0,>=2.1 in /usr/local/lib/python3.7/dist-packages (from botocore<1.24.0,>=1.23.46->boto3) (2.8.2)\n",
            "Collecting urllib3<1.27,>=1.25.4\n",
            "  Downloading urllib3-1.26.8-py2.py3-none-any.whl (138 kB)\n",
            "\u001b[K     |████████████████████████████████| 138 kB 61.8 MB/s \n",
            "\u001b[?25hRequirement already satisfied: six>=1.5 in /usr/local/lib/python3.7/dist-packages (from python-dateutil<3.0.0,>=2.1->botocore<1.24.0,>=1.23.46->boto3) (1.15.0)\n",
            "Installing collected packages: urllib3, jmespath, botocore, s3transfer, boto3\n",
            "  Attempting uninstall: urllib3\n",
            "    Found existing installation: urllib3 1.24.3\n",
            "    Uninstalling urllib3-1.24.3:\n",
            "      Successfully uninstalled urllib3-1.24.3\n",
            "\u001b[31mERROR: pip's dependency resolver does not currently take into account all the packages that are installed. This behaviour is the source of the following dependency conflicts.\n",
            "requests 2.23.0 requires urllib3!=1.25.0,!=1.25.1,<1.26,>=1.21.1, but you have urllib3 1.26.8 which is incompatible.\n",
            "datascience 0.10.6 requires folium==0.2.1, but you have folium 0.8.3 which is incompatible.\u001b[0m\n",
            "Successfully installed boto3-1.20.46 botocore-1.23.46 jmespath-0.10.0 s3transfer-0.5.0 urllib3-1.26.8\n"
          ]
        }
      ]
    },
    {
      "cell_type": "code",
      "source": [
        "!pip install awscli"
      ],
      "metadata": {
        "colab": {
          "base_uri": "https://localhost:8080/"
        },
        "id": "7TyLW923eUw7",
        "outputId": "866abdf8-4ac9-4f66-bea0-8d5514735d06"
      },
      "execution_count": 2,
      "outputs": [
        {
          "output_type": "stream",
          "name": "stdout",
          "text": [
            "Collecting awscli\n",
            "  Downloading awscli-1.22.46-py3-none-any.whl (3.8 MB)\n",
            "\u001b[K     |████████████████████████████████| 3.8 MB 7.6 MB/s \n",
            "\u001b[?25hCollecting colorama<0.4.4,>=0.2.5\n",
            "  Downloading colorama-0.4.3-py2.py3-none-any.whl (15 kB)\n",
            "Collecting docutils<0.16,>=0.10\n",
            "  Downloading docutils-0.15.2-py3-none-any.whl (547 kB)\n",
            "\u001b[K     |████████████████████████████████| 547 kB 56.0 MB/s \n",
            "\u001b[?25hCollecting rsa<4.8,>=3.1.2\n",
            "  Downloading rsa-4.7.2-py3-none-any.whl (34 kB)\n",
            "Requirement already satisfied: s3transfer<0.6.0,>=0.5.0 in /usr/local/lib/python3.7/dist-packages (from awscli) (0.5.0)\n",
            "Requirement already satisfied: botocore==1.23.46 in /usr/local/lib/python3.7/dist-packages (from awscli) (1.23.46)\n",
            "Requirement already satisfied: PyYAML<5.5,>=3.10 in /usr/local/lib/python3.7/dist-packages (from awscli) (3.13)\n",
            "Requirement already satisfied: python-dateutil<3.0.0,>=2.1 in /usr/local/lib/python3.7/dist-packages (from botocore==1.23.46->awscli) (2.8.2)\n",
            "Requirement already satisfied: jmespath<1.0.0,>=0.7.1 in /usr/local/lib/python3.7/dist-packages (from botocore==1.23.46->awscli) (0.10.0)\n",
            "Requirement already satisfied: urllib3<1.27,>=1.25.4 in /usr/local/lib/python3.7/dist-packages (from botocore==1.23.46->awscli) (1.26.8)\n",
            "Requirement already satisfied: six>=1.5 in /usr/local/lib/python3.7/dist-packages (from python-dateutil<3.0.0,>=2.1->botocore==1.23.46->awscli) (1.15.0)\n",
            "Requirement already satisfied: pyasn1>=0.1.3 in /usr/local/lib/python3.7/dist-packages (from rsa<4.8,>=3.1.2->awscli) (0.4.8)\n",
            "Installing collected packages: rsa, docutils, colorama, awscli\n",
            "  Attempting uninstall: rsa\n",
            "    Found existing installation: rsa 4.8\n",
            "    Uninstalling rsa-4.8:\n",
            "      Successfully uninstalled rsa-4.8\n",
            "  Attempting uninstall: docutils\n",
            "    Found existing installation: docutils 0.17.1\n",
            "    Uninstalling docutils-0.17.1:\n",
            "      Successfully uninstalled docutils-0.17.1\n",
            "\u001b[31mERROR: pip's dependency resolver does not currently take into account all the packages that are installed. This behaviour is the source of the following dependency conflicts.\n",
            "datascience 0.10.6 requires folium==0.2.1, but you have folium 0.8.3 which is incompatible.\u001b[0m\n",
            "Successfully installed awscli-1.22.46 colorama-0.4.3 docutils-0.15.2 rsa-4.7.2\n"
          ]
        }
      ]
    },
    {
      "cell_type": "code",
      "source": [
        "!aws configure"
      ],
      "metadata": {
        "id": "xxFTnAdXebGE"
      },
      "execution_count": null,
      "outputs": []
    },
    {
      "cell_type": "code",
      "source": [
        "import boto3\n",
        "\n",
        "def upload_to_s3(filepath, ACCESS_KEY_ID, SECRET_ACCESS_KEY, bucket='covid-19'):\n",
        "    s3 = boto3.resource('s3',\n",
        "                        aws_access_key_id=ACCESS_KEY_ID,\n",
        "                        aws_secret_access_key=SECRET_ACCESS_KEY,\n",
        "                        endpoint_url='https://storage.yandexcloud.net'\n",
        "    )\n",
        "\n",
        "    filename = filepath.split('/')[-1] #.split('.')[0]\n",
        "    s3.meta.client.upload_file(Filename = filepath,\n",
        "                               Bucket = bucket,\n",
        "                               Key = filename)\n",
        "    return None"
      ],
      "metadata": {
        "id": "SCY2a2FyRa5L"
      },
      "execution_count": null,
      "outputs": []
    },
    {
      "cell_type": "code",
      "source": [
        "# !echo \"test\" >> test.txt \n",
        "# path = '/content/test.txt'"
      ],
      "metadata": {
        "id": "33XsKmYeOJzf"
      },
      "execution_count": null,
      "outputs": []
    },
    {
      "cell_type": "code",
      "source": [
        "import boto3\n",
        "\n",
        "# s3 = boto3.resource('s3')\n",
        "session = boto3.Session()\n",
        "s3 = session.resource('s3', endpoint_url='https://storage.yandexcloud.net')\n",
        "\n",
        "buckets = [bucket for bucket in s3.buckets.all()]\n"
      ],
      "metadata": {
        "id": "lwDElea1difV"
      },
      "execution_count": 11,
      "outputs": []
    },
    {
      "cell_type": "code",
      "source": [
        "for b in buckets:\n",
        "    print([f for f in b.objects.all()])"
      ],
      "metadata": {
        "id": "cr9bSrJ4hg-a",
        "outputId": "9b8358fa-78f3-4af0-b28c-2cb308671d5b",
        "colab": {
          "base_uri": "https://localhost:8080/"
        }
      },
      "execution_count": 12,
      "outputs": [
        {
          "output_type": "stream",
          "name": "stdout",
          "text": [
            "[]\n"
          ]
        }
      ]
    },
    {
      "cell_type": "code",
      "source": [
        "# import boto3\n",
        "# session = boto3.session.Session()\n",
        "# s3 = session.client(\n",
        "#     service_name='s3'\n",
        "# )\n",
        "\n",
        "# for key in s3.list_objects(Bucket='covid-19')['Contents']:\n",
        "#     print(key['Key'])\n",
        "# s3.create_bucket(Bucket='test_bucket')"
      ],
      "metadata": {
        "id": "Y2SCLRspMo71"
      },
      "execution_count": 7,
      "outputs": []
    },
    {
      "cell_type": "code",
      "source": [
        "#!/usr/bin/env python\n",
        "#-*- coding: utf-8 -*-\n",
        "\n",
        "# import boto3\n",
        "# session = boto3.session.Session()\n",
        "# s3 = session.client(\n",
        "#     service_name='s3'\n",
        "# )\n",
        "\n",
        "# # Создать новый бакет\n",
        "# s3.create_bucket(Bucket='bucket-name')\n",
        "\n",
        "# # Загрузить объекты в бакет\n",
        "\n",
        "# ## Из строки\n",
        "# s3.put_object(Bucket='bucket-name', Key='object_name', Body='TEST', StorageClass='COLD')\n",
        "\n",
        "# ## Из файла\n",
        "# s3.upload_file('this_script.py', 'bucket-name', 'py_script.py')\n",
        "# s3.upload_file('this_script.py', 'bucket-name', 'script/py_script.py')\n",
        "\n",
        "# # Получить список объектов в бакете\n",
        "# for key in s3.list_objects(Bucket='bucket-name')['Contents']:\n",
        "#     print(key['Key'])\n",
        "\n",
        "# # Удалить несколько объектов\n",
        "# forDeletion = [{'Key':'object_name'}, {'Key':'script/py_script.py'}]\n",
        "# response = s3.delete_objects(Bucket='bucket-name', Delete={'Objects': forDeletion})\n",
        "\n",
        "# # Получить объект\n",
        "# get_object_response = s3.get_object(Bucket='bucket-name',Key='py_script.py')\n",
        "# print(get_object_response['Body'].read())"
      ],
      "metadata": {
        "id": "gK86M_tPFOWa"
      },
      "execution_count": 6,
      "outputs": []
    }
  ]
}